{
 "cells": [
  {
   "cell_type": "code",
   "execution_count": 2,
   "metadata": {},
   "outputs": [],
   "source": [
    "import pickle\n",
    "import json\n",
    "import re\n",
    "from sentence_transformers import SentenceTransformer, util\n",
    "from transformers import AutoTokenizer, AutoModelForMaskedLM\n",
    "import torch\n",
    "from torch import nn"
   ]
  },
  {
   "cell_type": "code",
   "execution_count": 3,
   "metadata": {},
   "outputs": [
    {
     "data": {
      "text/plain": [
       "dict_keys(['post_id', 'comment_id', 'url', 'ancestors', 'text', 'full_context'])"
      ]
     },
     "execution_count": 3,
     "metadata": {},
     "output_type": "execute_result"
    }
   ],
   "source": [
    "# load training data\n",
    "training_data = pickle.load(open('../../data/reddit/bbc_news_scrape_raw.pkl', 'rb'))\n",
    "training_data[0].keys()"
   ]
  },
  {
   "cell_type": "code",
   "execution_count": 4,
   "metadata": {},
   "outputs": [],
   "source": [
    "'''\n",
    "Frame as a retrieval problem\n",
    "\n",
    "comment thread c1 --> c2 --> ... --> cn\n",
    "link in cn leads to article with paragraphs p1 --> p2 --> pn\n",
    "\n",
    "simple approach:\n",
    "\n",
    "take beginning of article, encode it with IR model\n",
    "lstm on each comment (embedding initialized with BERT?)\n",
    "'''\n",
    "bert_tokenizer = AutoTokenizer.from_pretrained(\"distilbert-base-cased\")\n",
    "bert_model = AutoModelForMaskedLM.from_pretrained(\"distilbert-base-cased\")\n",
    "sbert_model = SentenceTransformer('msmarco-distilbert-cos-v5')"
   ]
  },
  {
   "cell_type": "code",
   "execution_count": 52,
   "metadata": {},
   "outputs": [],
   "source": [
    "# encode the text data\n",
    "X = []\n",
    "Y = []\n",
    "for example in training_data:\n",
    "    encoded_context = sbert_model.encode(example['full_context'],convert_to_tensor=True)\n",
    "    X.append(encoded_context)\n",
    "    encoded_target = sbert_model.encode(\" \".join(example['text']), convert_to_tensor=True)\n",
    "    Y.append(encoded_target)"
   ]
  },
  {
   "cell_type": "code",
   "execution_count": 124,
   "metadata": {},
   "outputs": [
    {
     "data": {
      "text/plain": [
       "URLSTM(\n",
       "  (lstm): LSTM(768, 768, num_layers=5)\n",
       ")"
      ]
     },
     "execution_count": 124,
     "metadata": {},
     "output_type": "execute_result"
    }
   ],
   "source": [
    "class URLSTM(nn.Module):\n",
    "    def __init__(self, input_size, hidden_size, num_layers):\n",
    "        super(URLSTM, self).__init__()\n",
    "        self.input_size = input_size\n",
    "        self.hidden_size = hidden_size\n",
    "        self.num_layers = num_layers\n",
    "        self.lstm = nn.LSTM(input_size, hidden_size, num_layers)\n",
    "\n",
    "    def forward(self, x, prev_state):\n",
    "        output, state = self.lstm(x, prev_state)\n",
    "        return output, state\n",
    "\n",
    "    def init_state(self, sequence_length):\n",
    "        return (torch.zeros(self.num_layers, 1, self.input_size),\n",
    "                torch.zeros(self.num_layers, 1, self.input_size))\n",
    "\n",
    "input_size = 768\n",
    "hidden_size = 768\n",
    "num_layers = 5\n",
    "\n",
    "model = URLSTM(input_size, hidden_size, num_layers)\n",
    "model.to('cuda:0')\n"
   ]
  },
  {
   "cell_type": "code",
   "execution_count": 125,
   "metadata": {},
   "outputs": [],
   "source": [
    "learning_rate = 1e-1\n",
    "loss_fn = nn.CosineEmbeddingLoss()\n",
    "optimizer = torch.optim.Adam(model.parameters(), lr=learning_rate)"
   ]
  },
  {
   "cell_type": "code",
   "execution_count": null,
   "metadata": {},
   "outputs": [],
   "source": [
    "for epoch in range(100):\n",
    "    total_loss = 0\n",
    "    for x,y in zip(X,Y):\n",
    "        state_h, state_c = model.init_state(len(x))\n",
    "        state_h = state_h.to('cuda:0')\n",
    "        state_c = state_c.to('cuda:0')\n",
    "\n",
    "\n",
    "        pred, (state_h, state_c) = model(torch.unsqueeze(x, 1), (state_h, state_c))\n",
    "\n",
    "        condition = torch.tensor(1).to('cuda:0')\n",
    "\n",
    "        loss = loss_fn(pred[-1][0], y, condition)\n",
    "\n",
    "        state_h = state_h.detach()\n",
    "        state_c = state_c.detach()\n",
    "\n",
    "        optimizer.zero_grad()\n",
    "        loss.backward()\n",
    "        optimizer.step()\n",
    "        total_loss += loss.item()\n",
    "        \n",
    "    print(total_loss / len(X))"
   ]
  },
  {
   "cell_type": "code",
   "execution_count": null,
   "metadata": {},
   "outputs": [],
   "source": [
    "# CURRENTLY DOESN'T WORK\n",
    "# Need to pool or something\n",
    "\n",
    "class URLRet(nn.Module):\n",
    "    def __init__(self, d_model, nhead, dim_feedforward, num_layers):\n",
    "        super(URLRet, self).__init__()\n",
    "\n",
    "\n",
    "        self.encoder_layer = nn.TransformerEncoderLayer(d_model, nhead, dim_feedforward=dim_feedforward)\n",
    "        self.encoder = nn.TransformerEncoder(self.encoder_layer, num_layers=num_layers)\n",
    "\n",
    "        self.f1 = nn.Linear(d_model, 1024)\n",
    "        self.f2 = nn.Linear(1024, 768)\n",
    "        self.relu = nn.ReLU()\n",
    "        self.sigmoid = nn.Sigmoid()\n",
    "        self.flatten = nn.Flatten()\n",
    "\n",
    "    def forward(self, x):\n",
    "\n",
    "        x = self.encoder(x)\n",
    "        x = self.flatten(x)\n",
    "\n",
    "        x = self.f1(x)\n",
    "        x = self.relu(x)\n",
    "        x = self.f2(x)\n",
    "        x = self.sigmoid(x)\n",
    "        return x\n",
    "\n",
    "d_model = 768\n",
    "nhead = 4\n",
    "dim_feedforward = 2048\n",
    "num_layers=2\n",
    "\n",
    "model = URLRet(d_model, nhead, dim_feedforward,2)\n",
    "model.to('cuda:0')"
   ]
  }
 ],
 "metadata": {
  "interpreter": {
   "hash": "916dbcbb3f70747c44a77c7bcd40155683ae19c65e1c03b4aa3499c5328201f1"
  },
  "kernelspec": {
   "display_name": "Python 3.8.10 64-bit",
   "language": "python",
   "name": "python3"
  },
  "language_info": {
   "codemirror_mode": {
    "name": "ipython",
    "version": 3
   },
   "file_extension": ".py",
   "mimetype": "text/x-python",
   "name": "python",
   "nbconvert_exporter": "python",
   "pygments_lexer": "ipython3",
   "version": "3.8.10"
  },
  "orig_nbformat": 4
 },
 "nbformat": 4,
 "nbformat_minor": 2
}
