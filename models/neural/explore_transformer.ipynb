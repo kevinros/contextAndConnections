{
 "cells": [
  {
   "cell_type": "code",
   "execution_count": null,
   "metadata": {},
   "outputs": [],
   "source": [
    "from torch import nn"
   ]
  },
  {
   "cell_type": "code",
   "execution_count": null,
   "metadata": {},
   "outputs": [],
   "source": [
    "# CURRENTLY DOESN'T WORK\n",
    "# Need to pool or something\n",
    "\n",
    "class URLRet(nn.Module):\n",
    "    def __init__(self, d_model, nhead, dim_feedforward, num_layers):\n",
    "        super(URLRet, self).__init__()\n",
    "\n",
    "\n",
    "        self.encoder_layer = nn.TransformerEncoderLayer(d_model, nhead, dim_feedforward=dim_feedforward)\n",
    "        self.encoder = nn.TransformerEncoder(self.encoder_layer, num_layers=num_layers)\n",
    "\n",
    "        self.f1 = nn.Linear(d_model, 1024)\n",
    "        self.f2 = nn.Linear(1024, 768)\n",
    "        self.relu = nn.ReLU()\n",
    "        self.sigmoid = nn.Sigmoid()\n",
    "        self.flatten = nn.Flatten()\n",
    "\n",
    "    def forward(self, x):\n",
    "\n",
    "        x = self.encoder(x)\n",
    "        x = self.flatten(x)\n",
    "\n",
    "        x = self.f1(x)\n",
    "        x = self.relu(x)\n",
    "        x = self.f2(x)\n",
    "        x = self.sigmoid(x)\n",
    "        return x\n",
    "\n",
    "d_model = 768\n",
    "nhead = 4\n",
    "dim_feedforward = 2048\n",
    "num_layers=2\n",
    "\n",
    "model = URLRet(d_model, nhead, dim_feedforward,2)\n",
    "model.to('cuda:0')"
   ]
  }
 ],
 "metadata": {
  "language_info": {
   "name": "python"
  },
  "orig_nbformat": 4
 },
 "nbformat": 4,
 "nbformat_minor": 2
}
