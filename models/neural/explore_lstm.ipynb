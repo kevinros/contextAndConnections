{
 "cells": [
  {
   "cell_type": "code",
   "execution_count": 2,
   "metadata": {},
   "outputs": [],
   "source": [
    "import pickle\n",
    "import json\n",
    "import re\n",
    "from sentence_transformers import SentenceTransformer, util\n",
    "from transformers import AutoTokenizer, AutoModelForMaskedLM\n",
    "import torch\n",
    "from torch import nn"
   ]
  },
  {
   "cell_type": "code",
   "execution_count": 3,
   "metadata": {},
   "outputs": [
    {
     "data": {
      "text/plain": [
       "dict_keys(['post_id', 'comment_id', 'url', 'ancestors', 'text', 'full_context'])"
      ]
     },
     "execution_count": 3,
     "metadata": {},
     "output_type": "execute_result"
    }
   ],
   "source": [
    "# load training data\n",
    "training_data = pickle.load(open('../../data/reddit/bbc_news_scrape_raw.pkl', 'rb'))\n",
    "training_data[0].keys()"
   ]
  },
  {
   "cell_type": "code",
   "execution_count": 4,
   "metadata": {},
   "outputs": [],
   "source": [
    "'''\n",
    "Frame as a retrieval problem\n",
    "\n",
    "comment thread c1 --> c2 --> ... --> cn\n",
    "link in cn leads to article with paragraphs p1 --> p2 --> pn\n",
    "\n",
    "simple approach:\n",
    "\n",
    "take beginning of article, encode it with IR model\n",
    "lstm on each comment (embedding initialized with BERT?)\n",
    "'''\n",
    "bert_tokenizer = AutoTokenizer.from_pretrained(\"distilbert-base-cased\")\n",
    "bert_model = AutoModelForMaskedLM.from_pretrained(\"distilbert-base-cased\")\n",
    "sbert_model = SentenceTransformer('msmarco-distilbert-cos-v5')"
   ]
  },
  {
   "cell_type": "code",
   "execution_count": 22,
   "metadata": {},
   "outputs": [],
   "source": [
    "# encode the text data\n",
    "X = []\n",
    "Y = []\n",
    "for example in training_data:\n",
    "    encoded_context = sbert_model.encode(example['full_context'],convert_to_tensor=True)\n",
    "    X.append(encoded_context)\n",
    "\n",
    "\n",
    "Y = sbert_model.encode([\" \".join(example['text']) for example in training_data], convert_to_tensor=True)"
   ]
  },
  {
   "cell_type": "code",
   "execution_count": 23,
   "metadata": {},
   "outputs": [
    {
     "data": {
      "text/plain": [
       "URLSTM(\n",
       "  (lstm): LSTM(768, 768)\n",
       ")"
      ]
     },
     "execution_count": 23,
     "metadata": {},
     "output_type": "execute_result"
    }
   ],
   "source": [
    "class URLSTM(nn.Module):\n",
    "    def __init__(self, input_size, hidden_size, num_layers):\n",
    "        super(URLSTM, self).__init__()\n",
    "        self.input_size = input_size\n",
    "        self.hidden_size = hidden_size\n",
    "        self.num_layers = num_layers\n",
    "        self.lstm = nn.LSTM(input_size, hidden_size, num_layers)\n",
    "\n",
    "    def forward(self, x, prev_state):\n",
    "        output, state = self.lstm(x, prev_state)\n",
    "        return output, state\n",
    "\n",
    "    def init_state(self, sequence_length):\n",
    "        return (torch.zeros(self.num_layers, 1, self.input_size),\n",
    "                torch.zeros(self.num_layers, 1, self.input_size))\n",
    "\n",
    "input_size = 768\n",
    "hidden_size = 768\n",
    "num_layers = 1\n",
    "\n",
    "model = URLSTM(input_size, hidden_size, num_layers)\n",
    "model.to('cuda:0')\n"
   ]
  },
  {
   "cell_type": "code",
   "execution_count": 24,
   "metadata": {},
   "outputs": [],
   "source": [
    "learning_rate = 1e-1\n",
    "loss_fn = nn.CosineEmbeddingLoss()\n",
    "optimizer = torch.optim.Adam(model.parameters(), lr=learning_rate)"
   ]
  },
  {
   "cell_type": "code",
   "execution_count": 25,
   "metadata": {},
   "outputs": [
    {
     "name": "stdout",
     "output_type": "stream",
     "text": [
      "0.8676569685339928\n",
      "0.7914408115964187\n",
      "0.763634228784787\n",
      "0.750069588814911\n",
      "0.7316822452764762\n",
      "0.7320737991678087\n",
      "0.7293162534111425\n",
      "0.7288060125551725\n",
      "0.7250551765686587\n",
      "0.7101579649667991\n"
     ]
    }
   ],
   "source": [
    "for epoch in range(100):\n",
    "    total_loss = 0\n",
    "    for x,y in zip(X,Y):\n",
    "        state_h, state_c = model.init_state(len(x))\n",
    "        state_h = state_h.to('cuda:0')\n",
    "        state_c = state_c.to('cuda:0')\n",
    "\n",
    "\n",
    "        pred, (state_h, state_c) = model(torch.unsqueeze(x, 1), (state_h, state_c))\n",
    "\n",
    "        condition = torch.tensor(1).to('cuda:0')\n",
    "\n",
    "        loss = loss_fn(state_h[-1][0], y, condition)\n",
    "\n",
    "        state_h = state_h.detach()\n",
    "        state_c = state_c.detach()\n",
    "\n",
    "        optimizer.zero_grad()\n",
    "        loss.backward()\n",
    "        optimizer.step()\n",
    "        total_loss += loss.item()\n",
    "        \n",
    "    if epoch % 10 == 0:\n",
    "        print(total_loss / len(X))"
   ]
  },
  {
   "cell_type": "code",
   "execution_count": 32,
   "metadata": {},
   "outputs": [],
   "source": [
    "# simple code to output results in trec eval style\n",
    "# in future, will need to split to train dev test and probably port this code to an importable module\n",
    "# current is clearly not meaningful, but it shows that we are learning something\n",
    "\n",
    "\n",
    "def eval(X, Y, model, k=10):\n",
    "    run = []\n",
    "    model.eval()\n",
    "    for i,(x,y) in enumerate(zip(X,Y)):\n",
    "        state_h, state_c = model.init_state(len(x))\n",
    "        state_h = state_h.to('cuda:0')\n",
    "        state_c = state_c.to('cuda:0')\n",
    "        pred, (state_h, state_c) = model(torch.unsqueeze(x, 1), (state_h, state_c))\n",
    "\n",
    "        encoded_query = state_h[-1][0]\n",
    "\n",
    "        cos_scores = util.cos_sim(encoded_query, Y)[0]\n",
    "        top_results = torch.topk(cos_scores, k=k)\n",
    "        for j, (score, idx) in enumerate(zip(top_results[0], top_results[1])):\n",
    "            # 0 Q0 0 1 193.457108 Anserini\n",
    "            run.append(' '.join([str(i), 'Q0', str(idx.item()), str(j), str(score.item()), 'LSTM']))\n",
    "\n",
    "    with open('run.bbc_lstm.txt', 'w') as f:\n",
    "        for result in run:\n",
    "            f.write(result + '\\n')"
   ]
  },
  {
   "cell_type": "code",
   "execution_count": 33,
   "metadata": {},
   "outputs": [],
   "source": [
    "eval(X, Y, model)"
   ]
  },
  {
   "cell_type": "code",
   "execution_count": 34,
   "metadata": {},
   "outputs": [
    {
     "name": "stdout",
     "output_type": "stream",
     "text": [
      "huggingface/tokenizers: The current process just got forked, after parallelism has already been used. Disabling parallelism to avoid deadlocks...\n",
      "To disable this warning, you can either:\n",
      "\t- Avoid using `tokenizers` before the fork if possible\n",
      "\t- Explicitly set the environment variable TOKENIZERS_PARALLELISM=(true | false)\n",
      "Downloading https://search.maven.org/remotecontent?filepath=uk/ac/gla/dcs/terrierteam/jtreceval/0.0.5/jtreceval-0.0.5-jar-with-dependencies.jar to /home/kjros2/.cache/pyserini/eval/jtreceval-0.0.5-jar-with-dependencies.jar...\n",
      "/home/kjros2/.cache/pyserini/eval/jtreceval-0.0.5-jar-with-dependencies.jar already exists!\n",
      "Skipping download.\n",
      "Running command: ['java', '-jar', '/home/kjros2/.cache/pyserini/eval/jtreceval-0.0.5-jar-with-dependencies.jar', '-m', 'map', '-m', 'recall.1', '-m', 'recall.5', '../../data/reddit/pyserini/bbc_news_rel.txt', 'run.bbc_lstm.txt']\n",
      "Results:\n",
      "map                   \tall\t0.2871\n",
      "recall_1              \tall\t0.1974\n",
      "\n"
     ]
    }
   ],
   "source": [
    "!python3 -m pyserini.eval.trec_eval -m map -m recall.1 -m recall.5 ../../data/reddit/pyserini/bbc_news_rel.txt run.bbc_lstm.txt"
   ]
  }
 ],
 "metadata": {
  "interpreter": {
   "hash": "916dbcbb3f70747c44a77c7bcd40155683ae19c65e1c03b4aa3499c5328201f1"
  },
  "kernelspec": {
   "display_name": "Python 3.8.10 64-bit",
   "language": "python",
   "name": "python3"
  },
  "language_info": {
   "codemirror_mode": {
    "name": "ipython",
    "version": 3
   },
   "file_extension": ".py",
   "mimetype": "text/x-python",
   "name": "python",
   "nbconvert_exporter": "python",
   "pygments_lexer": "ipython3",
   "version": "3.8.10"
  },
  "orig_nbformat": 4
 },
 "nbformat": 4,
 "nbformat_minor": 2
}
