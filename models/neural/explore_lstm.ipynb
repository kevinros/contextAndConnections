{
 "cells": [
  {
   "cell_type": "code",
   "execution_count": 77,
   "metadata": {},
   "outputs": [],
   "source": [
    "import pickle\n",
    "from sentence_transformers import SentenceTransformer, util\n",
    "import torch\n",
    "from torch import nn\n",
    "import random"
   ]
  },
  {
   "cell_type": "code",
   "execution_count": 10,
   "metadata": {},
   "outputs": [
    {
     "name": "stdout",
     "output_type": "stream",
     "text": [
      "dict_keys(['post_id', 'comment_id', 'url', 'ancestors', 'text', 'full_context'])\n",
      "<class 'str'>\n"
     ]
    }
   ],
   "source": [
    "# load training data\n",
    "training_data = pickle.load(open('../../data/reddit/bbc_news_scrape_raw.pkl', 'rb'))\n",
    "print(training_data[0].keys())"
   ]
  },
  {
   "cell_type": "code",
   "execution_count": 20,
   "metadata": {},
   "outputs": [],
   "source": [
    "sbert_model = SentenceTransformer('msmarco-distilbert-cos-v5')"
   ]
  },
  {
   "cell_type": "code",
   "execution_count": 69,
   "metadata": {},
   "outputs": [],
   "source": [
    "REMOVE_LAST_COMMENT=False\n",
    "\n",
    "# encode the text data\n",
    "X = []\n",
    "Y = []\n",
    "for example in training_data:\n",
    "    if REMOVE_LAST_COMMENT:\n",
    "        encoded_context = sbert_model.encode(example['full_context'][:-1],convert_to_tensor=True)\n",
    "    else:\n",
    "        encoded_context = sbert_model.encode(example['full_context'],convert_to_tensor=True)\n",
    "    X.append(encoded_context)\n",
    "\n",
    "\n",
    "Y = sbert_model.encode([example['text'] for example in training_data], convert_to_tensor=True)\n",
    "\n",
    "X_train = X[:20]\n",
    "Y_train = Y[:20]\n",
    "\n",
    "X_test = X[:-20]\n",
    "Y_test = Y[:-20]"
   ]
  },
  {
   "cell_type": "code",
   "execution_count": 79,
   "metadata": {},
   "outputs": [
    {
     "data": {
      "text/plain": [
       "URLSTM(\n",
       "  (lstm): LSTM(768, 768)\n",
       ")"
      ]
     },
     "execution_count": 79,
     "metadata": {},
     "output_type": "execute_result"
    }
   ],
   "source": [
    "class URLSTM(nn.Module):\n",
    "    def __init__(self, input_size, hidden_size, num_layers):\n",
    "        super(URLSTM, self).__init__()\n",
    "        self.input_size = input_size\n",
    "        self.hidden_size = hidden_size\n",
    "        self.num_layers = num_layers\n",
    "        self.lstm = nn.LSTM(input_size, hidden_size, num_layers)\n",
    "\n",
    "    def forward(self, x, prev_state):\n",
    "        output, state = self.lstm(x, prev_state)\n",
    "        return output, state\n",
    "\n",
    "    def init_state(self, sequence_length):\n",
    "        return (torch.zeros(self.num_layers, 1, self.input_size),\n",
    "                torch.zeros(self.num_layers, 1, self.input_size))\n",
    "\n",
    "input_size = 768\n",
    "hidden_size = 768\n",
    "num_layers = 1\n",
    "\n",
    "model = URLSTM(input_size, hidden_size, num_layers)\n",
    "model.to('cuda:0')\n"
   ]
  },
  {
   "cell_type": "code",
   "execution_count": 80,
   "metadata": {},
   "outputs": [],
   "source": [
    "learning_rate = 1e-1\n",
    "loss_fn = nn.CosineEmbeddingLoss(margin=0.5)\n",
    "optimizer = torch.optim.Adam(model.parameters(), lr=learning_rate)"
   ]
  },
  {
   "cell_type": "code",
   "execution_count": 81,
   "metadata": {},
   "outputs": [],
   "source": [
    "def train(X_train, Y_train, model):\n",
    "    total_loss = 0\n",
    "    model.train()\n",
    "    for i,(x,y) in enumerate(zip(X_train,Y_train)):\n",
    "        state_h, state_c = model.init_state(len(x))\n",
    "        state_h = state_h.to('cuda:0')\n",
    "        state_c = state_c.to('cuda:0')\n",
    "\n",
    "        pred, (state_h, state_c) = model(torch.unsqueeze(x, 1), (state_h, state_c))\n",
    "\n",
    "        condition = torch.tensor(1).to('cuda:0')\n",
    "        loss = loss_fn(state_h[-1][0], y, condition)\n",
    "\n",
    "        # randomly sample negative examples\n",
    "        # should really do contrastive loss over the batch\n",
    "        for i in range(5):\n",
    "            neg_idx = random.randint(0,len(X_train))\n",
    "            if neg_idx == i: continue\n",
    "\n",
    "            x_neg = X_train[i]\n",
    "            y_neg = Y_train[i]\n",
    "\n",
    "            state_h, state_c = model.init_state(len(x_neg))\n",
    "            state_h = state_h.to('cuda:0')\n",
    "            state_c = state_c.to('cuda:0')\n",
    "\n",
    "            pred, (state_h, state_c) = model(torch.unsqueeze(x_neg, 1), (state_h, state_c))\n",
    "\n",
    "            condition = torch.tensor(0).to('cuda:0')\n",
    "            loss_neg = loss_fn(state_h[-1][0], y_neg, condition)\n",
    "\n",
    "            loss += loss_neg\n",
    "            \n",
    "        optimizer.zero_grad()\n",
    "        loss.backward()\n",
    "        optimizer.step()\n",
    "        total_loss += loss.item()\n",
    "        \n",
    "    return total_loss / len(X_train)"
   ]
  },
  {
   "cell_type": "code",
   "execution_count": 82,
   "metadata": {},
   "outputs": [],
   "source": [
    "def eval(X_test, Y_test, model, k=10):\n",
    "    run = []\n",
    "    model.eval()\n",
    "    for i,x in enumerate(X_test):\n",
    "        state_h, state_c = model.init_state(len(x))\n",
    "        state_h = state_h.to('cuda:0')\n",
    "        state_c = state_c.to('cuda:0')\n",
    "        pred, (state_h, state_c) = model(torch.unsqueeze(x, 1), (state_h, state_c))\n",
    "\n",
    "        encoded_query = state_h[-1][0]\n",
    "\n",
    "        cos_scores = util.cos_sim(encoded_query, Y_test)[0]\n",
    "        top_results = torch.topk(cos_scores, k=k)\n",
    "        for j, (score, idx) in enumerate(zip(top_results[0], top_results[1])):\n",
    "            # 0 Q0 0 1 193.457108 Anserini\n",
    "            run.append(' '.join([str(i), 'Q0', str(idx.item()), str(j), str(score.item()), 'LSTM']))\n",
    "    with open('run.bbc_lstm.txt', 'w') as f:\n",
    "        for result in run:\n",
    "            f.write(result + '\\n')"
   ]
  },
  {
   "cell_type": "code",
   "execution_count": 83,
   "metadata": {},
   "outputs": [
    {
     "name": "stdout",
     "output_type": "stream",
     "text": [
      "0.8829471468925476\n",
      "0.8522069096565247\n",
      "0.8509826809167862\n",
      "0.8506454914808274\n",
      "0.8504580587148667\n",
      "0.8502295732498169\n",
      "0.8500773042440415\n",
      "0.849984535574913\n",
      "0.8499258428812027\n",
      "0.8498474180698394\n",
      "0.8497972935438156\n",
      "0.8497100442647934\n",
      "0.8496699750423431\n",
      "0.8496271789073944\n",
      "0.8497452348470688\n",
      "0.8484131783246994\n",
      "0.8481456249952316\n",
      "0.8416735976934433\n",
      "0.9045635849237442\n",
      "0.8909571290016174\n",
      "0.876683184504509\n",
      "0.8564090132713318\n",
      "0.8359565228223801\n",
      "0.8304447293281555\n",
      "0.8172893732786178\n",
      "0.8070936590433121\n",
      "0.7974644124507904\n",
      "0.7962585002183914\n",
      "0.7885753810405731\n",
      "0.7846668988466263\n",
      "0.7855526298284531\n",
      "0.7840627163648606\n",
      "0.781375727057457\n",
      "0.7794364482164383\n",
      "0.7783875405788422\n",
      "0.7764515042304992\n",
      "0.7766604006290436\n",
      "0.7759959429502488\n",
      "0.7757554173469543\n",
      "0.7741636991500854\n",
      "0.7749157577753067\n",
      "0.7739398330450058\n",
      "0.7742692083120346\n",
      "0.7735579520463943\n",
      "0.7733197957277298\n",
      "0.7729277700185776\n",
      "0.7725156724452973\n",
      "0.7721900552511215\n",
      "0.77172050178051\n",
      "0.7711200147867203\n",
      "0.7706597954034805\n",
      "0.7700295180082322\n",
      "0.7698398470878601\n",
      "0.7693470776081085\n",
      "0.7693569451570511\n",
      "0.7697177439928055\n",
      "0.7702092587947845\n",
      "0.770573616027832\n",
      "0.7700668841600418\n",
      "0.7697796076536179\n",
      "0.76963369846344\n",
      "0.7693763196468353\n",
      "0.7681700378656388\n",
      "0.7679989248514175\n",
      "0.7667733371257782\n",
      "0.7667131274938583\n",
      "0.7659830749034882\n",
      "0.7658566802740097\n",
      "0.7650843560695648\n",
      "0.7648059159517289\n",
      "0.7647713959217072\n",
      "0.7645946890115738\n",
      "0.763936847448349\n",
      "0.7636253744363785\n",
      "0.764405146241188\n",
      "0.7641145795583725\n",
      "0.7641014158725739\n",
      "0.76375313103199\n",
      "0.7630419671535492\n",
      "0.7630302727222442\n",
      "0.7627553403377533\n",
      "0.7626505643129349\n",
      "0.7623881906270981\n",
      "0.7622646272182465\n",
      "0.7621858060359955\n",
      "0.7620560944080352\n",
      "0.7622565001249313\n",
      "0.7623010009527207\n",
      "0.7612289190292358\n",
      "0.7610826671123505\n",
      "0.7608582437038421\n",
      "0.7606504440307618\n",
      "0.7604869157075882\n",
      "0.7609648108482361\n",
      "0.7601166933774948\n",
      "0.7599909454584122\n",
      "0.7597217589616776\n",
      "0.7588345974683761\n",
      "0.7587842673063279\n",
      "0.7587643325328827\n"
     ]
    }
   ],
   "source": [
    "for epoch in range(100):\n",
    "    loss = train(X_train, Y_train, model)\n",
    "    print(loss)\n",
    "\n",
    "\n",
    "eval(X_test, Y_test, model)"
   ]
  },
  {
   "cell_type": "code",
   "execution_count": 84,
   "metadata": {},
   "outputs": [
    {
     "name": "stdout",
     "output_type": "stream",
     "text": [
      "huggingface/tokenizers: The current process just got forked, after parallelism has already been used. Disabling parallelism to avoid deadlocks...\n",
      "To disable this warning, you can either:\n",
      "\t- Avoid using `tokenizers` before the fork if possible\n",
      "\t- Explicitly set the environment variable TOKENIZERS_PARALLELISM=(true | false)\n",
      "Downloading https://search.maven.org/remotecontent?filepath=uk/ac/gla/dcs/terrierteam/jtreceval/0.0.5/jtreceval-0.0.5-jar-with-dependencies.jar to /home/kjros2/.cache/pyserini/eval/jtreceval-0.0.5-jar-with-dependencies.jar...\n",
      "/home/kjros2/.cache/pyserini/eval/jtreceval-0.0.5-jar-with-dependencies.jar already exists!\n",
      "Skipping download.\n",
      "Running command: ['java', '-jar', '/home/kjros2/.cache/pyserini/eval/jtreceval-0.0.5-jar-with-dependencies.jar', '-m', 'map', '../../data/reddit/pyserini/bbc_news_rel.txt', 'run.bbc_lstm.txt']\n",
      "Results:\n",
      "map                   \tall\t0.3054\n",
      "\n"
     ]
    }
   ],
   "source": [
    "!python3 -m pyserini.eval.trec_eval -m map ../../data/reddit/pyserini/bbc_news_rel.txt run.bbc_lstm.txt"
   ]
  }
 ],
 "metadata": {
  "interpreter": {
   "hash": "916dbcbb3f70747c44a77c7bcd40155683ae19c65e1c03b4aa3499c5328201f1"
  },
  "kernelspec": {
   "display_name": "Python 3.8.10 64-bit",
   "language": "python",
   "name": "python3"
  },
  "language_info": {
   "codemirror_mode": {
    "name": "ipython",
    "version": 3
   },
   "file_extension": ".py",
   "mimetype": "text/x-python",
   "name": "python",
   "nbconvert_exporter": "python",
   "pygments_lexer": "ipython3",
   "version": "3.8.10"
  },
  "orig_nbformat": 4
 },
 "nbformat": 4,
 "nbformat_minor": 2
}
