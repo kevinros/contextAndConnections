{
 "cells": [
  {
   "cell_type": "code",
   "execution_count": 4,
   "metadata": {},
   "outputs": [
    {
     "name": "stderr",
     "output_type": "stream",
     "text": [
      "/home/mjin11/miniconda3/envs/pyserini/lib/python3.8/site-packages/tqdm/auto.py:22: TqdmWarning: IProgress not found. Please update jupyter and ipywidgets. See https://ipywidgets.readthedocs.io/en/stable/user_install.html\n",
      "  from .autonotebook import tqdm as notebook_tqdm\n"
     ]
    }
   ],
   "source": [
    "import pickle\n",
    "from sentence_transformers import SentenceTransformer, util\n",
    "import torch\n",
    "from torch import nn\n",
    "import random"
   ]
  },
  {
   "cell_type": "code",
   "execution_count": 5,
   "metadata": {},
   "outputs": [
    {
     "name": "stdout",
     "output_type": "stream",
     "text": [
      "dict_keys(['post_id', 'comment_id', 'url', 'ancestors', 'text', 'full_context'])\n"
     ]
    }
   ],
   "source": [
    "# load training data\n",
    "training_data = pickle.load(open('../../data/reddit/bbc_news_scrape_raw.pkl', 'rb'))\n",
    "print(training_data[0].keys())"
   ]
  },
  {
   "cell_type": "code",
   "execution_count": 6,
   "metadata": {},
   "outputs": [],
   "source": [
    "sbert_model = SentenceTransformer('msmarco-distilbert-cos-v5')"
   ]
  },
  {
   "cell_type": "code",
   "execution_count": 7,
   "metadata": {},
   "outputs": [
    {
     "data": {
      "text/plain": [
       "2000"
      ]
     },
     "execution_count": 7,
     "metadata": {},
     "output_type": "execute_result"
    }
   ],
   "source": [
    "len(training_data)"
   ]
  },
  {
   "cell_type": "code",
   "execution_count": 9,
   "metadata": {},
   "outputs": [],
   "source": [
    "REMOVE_LAST_COMMENT=False\n",
    "\n",
    "# encode the text data\n",
    "X = []\n",
    "Y = []\n",
    "for example in training_data:\n",
    "    if REMOVE_LAST_COMMENT:\n",
    "        encoded_context = sbert_model.encode(example['full_context'][:-1],convert_to_tensor=True)\n",
    "    else:\n",
    "        encoded_context = sbert_model.encode(example['full_context'],convert_to_tensor=True)\n",
    "    X.append(encoded_context)\n",
    "\n",
    "# text from the url\n",
    "Y = sbert_model.encode([example['text'] for example in training_data], convert_to_tensor=True)\n",
    "\n",
    "X_train = X[:int(len(training_data) * 0.75)]\n",
    "Y_train = Y[:int(len(training_data) * 0.75)]\n",
    "\n",
    "X_test = X[int(len(training_data) * 0.75):]\n",
    "Y_test = Y[int(len(training_data) * 0.75):]"
   ]
  },
  {
   "cell_type": "code",
   "execution_count": 10,
   "metadata": {},
   "outputs": [
    {
     "data": {
      "text/plain": [
       "URLSTM(\n",
       "  (lstm): LSTM(768, 768)\n",
       ")"
      ]
     },
     "execution_count": 10,
     "metadata": {},
     "output_type": "execute_result"
    }
   ],
   "source": [
    "class URLSTM(nn.Module):\n",
    "    def __init__(self, input_size, hidden_size, num_layers):\n",
    "        super(URLSTM, self).__init__()\n",
    "        self.input_size = input_size\n",
    "        self.hidden_size = hidden_size\n",
    "        self.num_layers = num_layers\n",
    "        self.lstm = nn.LSTM(input_size, hidden_size, num_layers)\n",
    "\n",
    "    def forward(self, x, prev_state):\n",
    "        output, state = self.lstm(x, prev_state)\n",
    "        return output, state\n",
    "\n",
    "    def init_state(self, sequence_length):\n",
    "        return (torch.zeros(self.num_layers, 1, self.input_size),\n",
    "                torch.zeros(self.num_layers, 1, self.input_size))\n",
    "\n",
    "input_size = 768\n",
    "hidden_size = 768\n",
    "num_layers = 1\n",
    "\n",
    "model = URLSTM(input_size, hidden_size, num_layers)\n",
    "model.to('cuda:0')\n"
   ]
  },
  {
   "cell_type": "code",
   "execution_count": 11,
   "metadata": {},
   "outputs": [],
   "source": [
    "learning_rate = 1e-1\n",
    "loss_fn = nn.CosineEmbeddingLoss(margin=0.5)\n",
    "optimizer = torch.optim.Adam(model.parameters(), lr=learning_rate)"
   ]
  },
  {
   "cell_type": "code",
   "execution_count": 12,
   "metadata": {},
   "outputs": [],
   "source": [
    "def train(X_train, Y_train, model):\n",
    "    total_loss = 0\n",
    "    model.train()\n",
    "    for i, (x,y) in enumerate(zip(X_train, Y_train)):\n",
    "        state_h, state_c = model.init_state(len(x))\n",
    "        state_h = state_h.to('cuda:0')\n",
    "        state_c = state_c.to('cuda:0')\n",
    "\n",
    "        pred, (state_h, state_c) = model(torch.unsqueeze(x, 1), (state_h, state_c))\n",
    "\n",
    "        condition = torch.tensor(1).to('cuda:0')\n",
    "        loss = loss_fn(state_h[-1][0], y, condition)\n",
    "\n",
    "        # randomly sample negative examples\n",
    "        # should really do contrastive loss over the batch\n",
    "        for i in range(5):\n",
    "            neg_idx = random.randint(0,len(X_train))\n",
    "            if neg_idx == i: continue\n",
    "\n",
    "            x_neg = X_train[i]\n",
    "            y_neg = Y_train[i]\n",
    "\n",
    "            state_h, state_c = model.init_state(len(x_neg))\n",
    "            state_h = state_h.to('cuda:0')\n",
    "            state_c = state_c.to('cuda:0')\n",
    "\n",
    "            pred, (state_h, state_c) = model(torch.unsqueeze(x_neg, 1), (state_h, state_c))\n",
    "\n",
    "            condition = torch.tensor(0).to('cuda:0')\n",
    "            loss_neg = loss_fn(state_h[-1][0], y_neg, condition)\n",
    "\n",
    "            loss += loss_neg\n",
    "            \n",
    "        optimizer.zero_grad()\n",
    "        loss.backward()\n",
    "        optimizer.step()\n",
    "        total_loss += loss.item()\n",
    "        \n",
    "    return total_loss / len(X_train)"
   ]
  },
  {
   "cell_type": "code",
   "execution_count": 13,
   "metadata": {},
   "outputs": [],
   "source": [
    "def eval(X_test, Y_test, model, k=10):\n",
    "    run = []\n",
    "    model.eval()\n",
    "    for i,x in enumerate(X_test):\n",
    "        state_h, state_c = model.init_state(len(x))\n",
    "        state_h = state_h.to('cuda:0')\n",
    "        state_c = state_c.to('cuda:0')\n",
    "        pred, (state_h, state_c) = model(torch.unsqueeze(x, 1), (state_h, state_c))\n",
    "\n",
    "        encoded_query = state_h[-1][0]\n",
    "\n",
    "        cos_scores = util.cos_sim(encoded_query, Y_test)[0]\n",
    "        top_results = torch.topk(cos_scores, k=k)\n",
    "        for j, (score, idx) in enumerate(zip(top_results[0], top_results[1])):\n",
    "            # 0 Q0 0 1 193.457108 Anserini\n",
    "            run.append(' '.join([str(i), 'Q0', str(idx.item()), str(j), str(score.item()), 'LSTM']))\n",
    "    with open('run.bbc_lstm.txt', 'w') as f:\n",
    "        for result in run:\n",
    "            f.write(result + '\\n')"
   ]
  },
  {
   "cell_type": "code",
   "execution_count": 14,
   "metadata": {},
   "outputs": [
    {
     "name": "stdout",
     "output_type": "stream",
     "text": [
      "0.9539169545173645\n",
      "0.9204665031035741\n",
      "0.9084327460130056\n",
      "0.903541519443194\n",
      "0.9044022781848907\n",
      "0.9014742388725281\n",
      "0.9004322565396626\n",
      "0.8959063827196757\n",
      "0.8899603281815847\n",
      "0.8805830189387004\n",
      "0.8779329530795416\n",
      "0.880387656211853\n",
      "0.87794398188591\n",
      "0.8742574352025986\n",
      "0.8677788877089818\n",
      "0.8627379221916198\n",
      "0.8600226390361786\n",
      "0.8576407336393992\n",
      "0.8586472557783127\n",
      "0.8574633162021637\n",
      "0.8585937035878499\n",
      "0.8596939259767532\n",
      "0.8556704318920771\n",
      "0.855423396507899\n",
      "0.8538799122571945\n",
      "0.8562172104120255\n",
      "0.8541538262367249\n",
      "0.8541197048425675\n",
      "0.8557214626471201\n",
      "0.855997831026713\n",
      "0.8526761809984843\n",
      "0.8483020449876786\n",
      "0.8483032863537471\n",
      "0.8510729819933573\n",
      "0.8491122448047003\n",
      "0.8490739744504293\n",
      "0.8490649414857229\n",
      "0.8471759220759074\n",
      "0.8456326934893926\n",
      "0.8459368196328481\n",
      "0.8458845191399257\n",
      "0.8456139040788014\n",
      "0.8423839308818182\n"
     ]
    }
   ],
   "source": [
    "for epoch in range(100):\n",
    "    loss = train(X_train, Y_train, model)\n",
    "    print(loss)\n",
    "\n",
    "eval(X_test, Y_test, model)"
   ]
  },
  {
   "cell_type": "code",
   "execution_count": 1,
   "metadata": {},
   "outputs": [
    {
     "name": "stdout",
     "output_type": "stream",
     "text": [
      "Downloading https://search.maven.org/remotecontent?filepath=uk/ac/gla/dcs/terrierteam/jtreceval/0.0.5/jtreceval-0.0.5-jar-with-dependencies.jar to /home/mjin11/.cache/pyserini/eval/jtreceval-0.0.5-jar-with-dependencies.jar...\n",
      "/home/mjin11/.cache/pyserini/eval/jtreceval-0.0.5-jar-with-dependencies.jar already exists!\n",
      "Skipping download.\n",
      "Running command: ['java', '-jar', '/home/mjin11/.cache/pyserini/eval/jtreceval-0.0.5-jar-with-dependencies.jar', '-m', 'map', '../../data/reddit/bbc_news_rel.txt', 'run.bbc_lstm.txt']\n",
      "Results:\n",
      "map                   \tall\t0.0021\n",
      "\n"
     ]
    }
   ],
   "source": [
    "!python3 -m pyserini.eval.trec_eval -m map ../../data/reddit/bbc_news_rel.txt run.bbc_lstm.txt"
   ]
  },
  {
   "cell_type": "code",
   "execution_count": null,
   "metadata": {},
   "outputs": [],
   "source": []
  }
 ],
 "metadata": {
  "interpreter": {
   "hash": "92d7a568a9f3c722ea7986f82ffeceec825677aa0986d8e5ee36e2d403eb86fb"
  },
  "kernelspec": {
   "display_name": "Python 3.8.12 64-bit ('pyserini': conda)",
   "name": "python3"
  },
  "language_info": {
   "codemirror_mode": {
    "name": "ipython",
    "version": 3
   },
   "file_extension": ".py",
   "mimetype": "text/x-python",
   "name": "python",
   "nbconvert_exporter": "python",
   "pygments_lexer": "ipython3",
   "version": "3.8.12"
  },
  "orig_nbformat": 4
 },
 "nbformat": 4,
 "nbformat_minor": 2
}
