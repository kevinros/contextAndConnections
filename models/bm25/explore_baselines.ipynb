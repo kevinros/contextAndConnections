{
 "cells": [
  {
   "cell_type": "code",
   "execution_count": 2,
   "metadata": {},
   "outputs": [],
   "source": [
    "from pyserini.search.lucene import LuceneSearcher\n",
    "import pickle\n",
    "import json\n",
    "import re"
   ]
  },
  {
   "cell_type": "code",
   "execution_count": 11,
   "metadata": {},
   "outputs": [
    {
     "data": {
      "text/plain": [
       "dict_keys(['post_id', 'comment_id', 'url', 'ancestors', 'text', 'full_context'])"
      ]
     },
     "execution_count": 11,
     "metadata": {},
     "output_type": "execute_result"
    }
   ],
   "source": [
    "# load training data\n",
    "training_data = pickle.load(open('../../data/reddit/bbc_news_scrape_raw.pkl', 'rb'))\n",
    "training_data[0].keys()"
   ]
  },
  {
   "cell_type": "code",
   "execution_count": 16,
   "metadata": {},
   "outputs": [],
   "source": [
    "# format documents and relevance data for pyserini (https://github.com/castorini/pyserini/)\n",
    "\n",
    "pyserini_retrieval_docs = []\n",
    "relevance_scores = []\n",
    "queries = []\n",
    "\n",
    "# params\n",
    "REMOVE_HYPERLINK=True # small effect, barely changes scores\n",
    "\n",
    "REMOVE_LAST_COMMENT=False  # large decrease in performance, as expected\n",
    "\n",
    "ONLY_LAST_COMMENT=False\n",
    "\n",
    "\n",
    "# can probably make this more efficient (single loop with write)\n",
    "for i,example in enumerate(training_data):\n",
    "    doc = {\"id\": i, \"contents\": \" \".join(example['text'])}\n",
    "    pyserini_retrieval_docs.append(doc)\n",
    "\n",
    "    relevance_score = str(i) + ' 0 ' + str(i) + ' 1'\n",
    "    relevance_scores.append(relevance_score)\n",
    "\n",
    "    # will likely change to different formats (ignore current comment, only current comment, remove links, etc.)\n",
    "    if REMOVE_LAST_COMMENT:\n",
    "        query = re.sub('\\n', ' ', ' '.join(example['full_context'][:-1]))\n",
    "    elif ONLY_LAST_COMMENT:\n",
    "        query = re.sub('\\n', ' ', example['full_context'][-1])\n",
    "    else:\n",
    "        query = re.sub('\\n', ' ', ' '.join(example['full_context']))\n",
    "\n",
    "    if REMOVE_HYPERLINK:\n",
    "        query = re.sub(example['url'], '', query)\n",
    "\n",
    "    queries.append(str(i) + '\\t' + query)\n",
    "\n",
    "\n",
    "\n",
    "with open('../../data/reddit/pyserini/bbc_news_pyserini.jsonl', 'w') as f:\n",
    "    for doc in pyserini_retrieval_docs:\n",
    "        f.write(json.dumps(doc) + '\\n')\n",
    "\n",
    "with open('../../data/reddit/pyserini/bbc_news_rel.txt', 'w') as f:\n",
    "    for rs in relevance_scores:\n",
    "        f.write(rs + '\\n')\n",
    "\n",
    "with open('../../data/reddit/pyserini/bbc_news_queries.tsv', 'w') as f:\n",
    "    for query in queries:\n",
    "        f.write(query + '\\n')"
   ]
  },
  {
   "cell_type": "code",
   "execution_count": 17,
   "metadata": {},
   "outputs": [
    {
     "name": "stdout",
     "output_type": "stream",
     "text": [
      "WARNING: sun.reflect.Reflection.getCallerClass is not supported. This will impact performance.\n",
      "2022-03-13 09:22:31,769 INFO  [main] index.IndexCollection (IndexCollection.java:643) - Setting log level to INFO\n",
      "2022-03-13 09:22:31,771 INFO  [main] index.IndexCollection (IndexCollection.java:646) - Starting indexer...\n",
      "2022-03-13 09:22:31,772 INFO  [main] index.IndexCollection (IndexCollection.java:647) - ============ Loading Parameters ============\n",
      "2022-03-13 09:22:31,772 INFO  [main] index.IndexCollection (IndexCollection.java:648) - DocumentCollection path: ../../data/reddit/pyserini/\n",
      "2022-03-13 09:22:31,772 INFO  [main] index.IndexCollection (IndexCollection.java:649) - CollectionClass: JsonCollection\n",
      "2022-03-13 09:22:31,772 INFO  [main] index.IndexCollection (IndexCollection.java:650) - Generator: DefaultLuceneDocumentGenerator\n",
      "2022-03-13 09:22:31,773 INFO  [main] index.IndexCollection (IndexCollection.java:651) - Threads: 1\n",
      "2022-03-13 09:22:31,773 INFO  [main] index.IndexCollection (IndexCollection.java:652) - Language: en\n",
      "2022-03-13 09:22:31,773 INFO  [main] index.IndexCollection (IndexCollection.java:653) - Stemmer: porter\n",
      "2022-03-13 09:22:31,773 INFO  [main] index.IndexCollection (IndexCollection.java:654) - Keep stopwords? false\n",
      "2022-03-13 09:22:31,774 INFO  [main] index.IndexCollection (IndexCollection.java:655) - Stopwords: null\n",
      "2022-03-13 09:22:31,774 INFO  [main] index.IndexCollection (IndexCollection.java:656) - Store positions? false\n",
      "2022-03-13 09:22:31,774 INFO  [main] index.IndexCollection (IndexCollection.java:657) - Store docvectors? false\n",
      "2022-03-13 09:22:31,775 INFO  [main] index.IndexCollection (IndexCollection.java:658) - Store document \"contents\" field? false\n",
      "2022-03-13 09:22:31,775 INFO  [main] index.IndexCollection (IndexCollection.java:659) - Store document \"raw\" field? false\n",
      "2022-03-13 09:22:31,775 INFO  [main] index.IndexCollection (IndexCollection.java:660) - Optimize (merge segments)? false\n",
      "2022-03-13 09:22:31,775 INFO  [main] index.IndexCollection (IndexCollection.java:661) - Whitelist: null\n",
      "2022-03-13 09:22:31,776 INFO  [main] index.IndexCollection (IndexCollection.java:662) - Pretokenized?: false\n",
      "2022-03-13 09:22:31,776 INFO  [main] index.IndexCollection (IndexCollection.java:682) - Directly building Lucene indexes...\n",
      "2022-03-13 09:22:31,776 INFO  [main] index.IndexCollection (IndexCollection.java:683) - Index path: bbc_news_sparse\n",
      "2022-03-13 09:22:31,778 INFO  [main] index.IndexCollection (IndexCollection.java:738) - ============ Indexing Collection ============\n",
      "2022-03-13 09:22:31,963 INFO  [main] index.IndexCollection (IndexCollection.java:839) - Thread pool with 1 threads initialized.\n",
      "2022-03-13 09:22:31,963 INFO  [main] index.IndexCollection (IndexCollection.java:841) - Initializing collection in ../../data/reddit/pyserini\n",
      "2022-03-13 09:22:31,967 INFO  [main] index.IndexCollection (IndexCollection.java:850) - 1 file found\n",
      "2022-03-13 09:22:31,967 INFO  [main] index.IndexCollection (IndexCollection.java:851) - Starting to index...\n",
      "2022-03-13 09:22:32,446 DEBUG [pool-2-thread-1] index.IndexCollection$LocalIndexerThread (IndexCollection.java:248) - pyserini/bbc_news_pyserini.jsonl: 152 docs added.\n",
      "2022-03-13 09:22:32,717 INFO  [main] index.IndexCollection (IndexCollection.java:935) - Indexing Complete! 152 documents indexed\n",
      "2022-03-13 09:22:32,717 INFO  [main] index.IndexCollection (IndexCollection.java:936) - ============ Final Counter Values ============\n",
      "2022-03-13 09:22:32,717 INFO  [main] index.IndexCollection (IndexCollection.java:937) - indexed:              152\n",
      "2022-03-13 09:22:32,717 INFO  [main] index.IndexCollection (IndexCollection.java:938) - unindexable:            0\n",
      "2022-03-13 09:22:32,717 INFO  [main] index.IndexCollection (IndexCollection.java:939) - empty:                  0\n",
      "2022-03-13 09:22:32,717 INFO  [main] index.IndexCollection (IndexCollection.java:940) - skipped:                0\n",
      "2022-03-13 09:22:32,718 INFO  [main] index.IndexCollection (IndexCollection.java:941) - errors:                 0\n",
      "2022-03-13 09:22:32,723 INFO  [main] index.IndexCollection (IndexCollection.java:944) - Total 152 documents indexed in 00:00:00\n"
     ]
    }
   ],
   "source": [
    "# sets up the pyserini sparse index\n",
    "!python3 -m pyserini.index.lucene --collection JsonCollection --input ../../data/reddit/pyserini/ --index bbc_news_sparse --generator DefaultLuceneDocumentGenerator --threads 1"
   ]
  },
  {
   "cell_type": "code",
   "execution_count": 18,
   "metadata": {},
   "outputs": [
    {
     "name": "stdout",
     "output_type": "stream",
     "text": [
      "Running ../../data/reddit/pyserini/bbc_news_queries.tsv topics, saving to run.bbc_sparse.txt...\n",
      "100%|█████████████████████████████████████████| 152/152 [00:01<00:00, 92.53it/s]\n"
     ]
    }
   ],
   "source": [
    "!python3 -m pyserini.search.lucene --index bbc_news_sparse --topics ../../data/reddit/pyserini/bbc_news_queries.tsv --output run.bbc_sparse.txt --bm25"
   ]
  },
  {
   "cell_type": "code",
   "execution_count": 19,
   "metadata": {},
   "outputs": [
    {
     "name": "stdout",
     "output_type": "stream",
     "text": [
      "Downloading https://search.maven.org/remotecontent?filepath=uk/ac/gla/dcs/terrierteam/jtreceval/0.0.5/jtreceval-0.0.5-jar-with-dependencies.jar to /home/kjros2/.cache/pyserini/eval/jtreceval-0.0.5-jar-with-dependencies.jar...\n",
      "/home/kjros2/.cache/pyserini/eval/jtreceval-0.0.5-jar-with-dependencies.jar already exists!\n",
      "Skipping download.\n",
      "Running command: ['java', '-jar', '/home/kjros2/.cache/pyserini/eval/jtreceval-0.0.5-jar-with-dependencies.jar', '-m', 'map', '-m', 'recall.1', '-m', 'recall.5', '../../data/reddit/pyserini/bbc_news_rel.txt', 'run.bbc_sparse.txt']\n",
      "Results:\n",
      "map                   \tall\t0.2251\n",
      "recall_1              \tall\t0.0987\n",
      "\n"
     ]
    }
   ],
   "source": [
    "# note MAP = MRR when there is exactly one relevant result\n",
    "# https://stats.stackexchange.com/questions/127041/mean-average-precision-vs-mean-reciprocal-rank\n",
    "!python3 -m pyserini.eval.trec_eval -m map -m recall.1 -m recall.5 ../../data/reddit/pyserini/bbc_news_rel.txt run.bbc_sparse.txt"
   ]
  }
 ],
 "metadata": {
  "interpreter": {
   "hash": "916dbcbb3f70747c44a77c7bcd40155683ae19c65e1c03b4aa3499c5328201f1"
  },
  "kernelspec": {
   "display_name": "Python 3.8.10 64-bit",
   "language": "python",
   "name": "python3"
  },
  "language_info": {
   "codemirror_mode": {
    "name": "ipython",
    "version": 3
   },
   "file_extension": ".py",
   "mimetype": "text/x-python",
   "name": "python",
   "nbconvert_exporter": "python",
   "pygments_lexer": "ipython3",
   "version": "3.8.10"
  },
  "orig_nbformat": 4
 },
 "nbformat": 4,
 "nbformat_minor": 2
}
