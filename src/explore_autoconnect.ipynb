{
 "cells": [
  {
   "cell_type": "code",
   "execution_count": 2,
   "metadata": {},
   "outputs": [],
   "source": [
    "import json\n",
    "from data_helpers.format_reddit_comments import extract_urls"
   ]
  },
  {
   "cell_type": "code",
   "execution_count": 3,
   "metadata": {},
   "outputs": [],
   "source": [
    "subid_url_map = {}\n",
    "with open('data_2017-09/RS_2017-09', 'r') as f:\n",
    "        for i,line in enumerate(f):\n",
    "            submission = json.loads(line)\n",
    "            url = submission['url']\n",
    "            if '.reddit.' in url or 'i.redd.it' in url: continue\n",
    "            id = submission['id']\n",
    "            subid_url_map[id] = url\n",
    "            if i > 5000: break\n"
   ]
  },
  {
   "cell_type": "code",
   "execution_count": 17,
   "metadata": {},
   "outputs": [],
   "source": [
    "subid_commenturl_map = {}\n",
    "ignore_domains = {}\n",
    "with open('data_2017-09/RC_2017-09', 'r') as f:\n",
    "        for i,line in enumerate(f):\n",
    "            comment = json.loads(line)\n",
    "            # if top level comment\n",
    "            if comment['link_id'] != comment['parent_id']: continue\n",
    "            submission_id = comment['link_id'][3:]\n",
    "            if submission_id not in subid_url_map: continue\n",
    "            _, urls = extract_urls(comment['body'], ignore_domains=ignore_domains)\n",
    "            if not urls: continue\n",
    "            urls = [(url, comment['score']) for url in urls]\n",
    "\n",
    "            if submission_id not in subid_commenturl_map:\n",
    "                subid_commenturl_map[submission_id] = urls\n",
    "            else:\n",
    "                subid_commenturl_map[submission_id].append(urls)\n",
    "            if len(subid_commenturl_map) > 50:\n",
    "                break\n"
   ]
  },
  {
   "cell_type": "code",
   "execution_count": 18,
   "metadata": {},
   "outputs": [
    {
     "name": "stdout",
     "output_type": "stream",
     "text": [
      "6xauxs [('https://item.taobao.com/item.htm?id=546645500093', 1), ('https://www.reddit.com/r/FashionReps/comments/5r3p1i/psa_im_a_taobao_link_converter_bot_please_read/^(', 1), ('https://taobaotools.github.io', 1), [('https://www.gucci.com/int/en/pr/men/mens-ready-to-wear/mens-sweaters-cardigans/mens-cardigans/wool-cardigan-with-bee-appliqu-p-456883X5H381082', 1)]]\n",
      "6xauzn [('https://www.reddit.com/r/lakers/comments/6xauxw/sixteen/', 1), ('https://www.reddit.com/r/imagesofnetwork/wiki/faqandinstructions#wiki_what_is_images_of.3F^', 1), ('https://discordapp.com/invite/0tZsejLgM2vzaExR', 1), ('https://www.reddit.com/r/imagesofnetwork/wiki/faqandinstructions#wiki_remove_my_post', 1), ('https://www.reddit.com/r/imagesofnetwork/wiki/faqandinstructions#wiki_the_bot_got_this_one_wrong', 1), ('https://www.reddit.com/r/imagesofnetwork/wiki/faqandinstructions#wiki_no_really._don.27t_ever_crosspost_me_or_my_subreddit', 1)]\n",
      "6xauzy [('https://www.reddit.com/r/imagesofnetwork/wiki/faqandinstructions#wiki_what_is_images_of.3F^', 1), ('https://discordapp.com/invite/0tZsejLgM2vzaExR', 1), ('https://www.reddit.com/r/imagesofnetwork/wiki/faqandinstructions#wiki_remove_my_post', 1), ('https://www.reddit.com/r/imagesofnetwork/wiki/faqandinstructions#wiki_the_bot_got_this_one_wrong', 1), ('https://www.reddit.com/r/imagesofnetwork/wiki/faqandinstructions#wiki_no_really._don.27t_ever_crosspost_me_or_my_subreddit', 1)]\n",
      "6xav0e [('https://www.reddit.com/message/compose?to=%2Fr%2Fyoutube&amp;subject=Please+approve+my+video.&amp;message=%5bLink+to+my+post%5d%28https://www.reddit.com/r/youtube/comments/6xav0e/i_quote_youtubes_own_words_the_youtube_logo_is_a/%29', 1)]\n",
      "6xav0a [('https://www.reddit.com/r/imagesofnetwork/wiki/faqandinstructions#wiki_what_is_images_of.3F^', 1), ('https://discordapp.com/invite/0tZsejLgM2vzaExR', 1), ('https://www.reddit.com/r/imagesofnetwork/wiki/faqandinstructions#wiki_remove_my_post', 1), ('https://www.reddit.com/r/imagesofnetwork/wiki/faqandinstructions#wiki_the_bot_got_this_one_wrong', 1), ('https://www.reddit.com/r/imagesofnetwork/wiki/faqandinstructions#wiki_no_really._don.27t_ever_crosspost_me_or_my_subreddit', 1)]\n",
      "6xauzv [('https://i.imgur.com/JpRcgy0.gifv', 1), ('https://www.reddit.com/r/livven/wiki/gifv-bot', 1), ('https://github.com/Livven/GifvBot_', 1), [('http://cndb.com/phpBB2/viewtopic.php?f=6&amp;t=509104&amp;p=10191332#p10191332', 0)]]\n",
      "6xav0w [('http://reddit.com/verify', 1), ('https://www.reddit.com/r/listentothis/comments/6xav0w/mick_jenkins_to_the_melody/', 1)]\n",
      "6xav13 [('https://www.reddit.com/r/imagesofnetwork/wiki/faqandinstructions#wiki_what_is_images_of.3F^', 1), ('https://discordapp.com/invite/0tZsejLgM2vzaExR', 1), ('https://www.reddit.com/r/imagesofnetwork/wiki/faqandinstructions#wiki_remove_my_post', 1), ('https://www.reddit.com/r/imagesofnetwork/wiki/faqandinstructions#wiki_the_bot_got_this_one_wrong', 1), ('https://www.reddit.com/r/imagesofnetwork/wiki/faqandinstructions#wiki_no_really._don.27t_ever_crosspost_me_or_my_subreddit', 1)]\n",
      "6xav12 [('https://www.reddit.com/r/BigMurph26/comments/6ubct5/ozark/**', 1), ('https://www.reddit.com/r/BigMurph26/comments/2cr2t8/when_i_see_a_reaction_gif_in_a_default_sub_that/', 1), ('https://www.reddit.com/r/BigMurph26/comments/6ubcvz/palouse_falls_in_washington/', 1), ('https://www.reddit.com/r/BigMurph26/comments/6ubczo/ruby_beach_winter/', 1)]\n",
      "6xav1i [('https://www.reddit.com/r/imagesofnetwork/wiki/faqandinstructions#wiki_what_is_images_of.3F^', 1), ('https://discordapp.com/invite/0tZsejLgM2vzaExR', 1), ('https://www.reddit.com/r/imagesofnetwork/wiki/faqandinstructions#wiki_remove_my_post', 1), ('https://www.reddit.com/r/imagesofnetwork/wiki/faqandinstructions#wiki_the_bot_got_this_one_wrong', 1), ('https://www.reddit.com/r/imagesofnetwork/wiki/faqandinstructions#wiki_no_really._don.27t_ever_crosspost_me_or_my_subreddit', 1)]\n",
      "6xav1p [('https://reddit.com/6xarhl', 1)]\n",
      "6xav2e [('http://steamkiwi.com', 1)]\n",
      "6xav2b [('https://reddit.com/6xarhl', 6)]\n",
      "6xav3l [('https://imgur.com', 1), ('https://gfycat.com', 1)]\n",
      "6xav3o [('https://www.reddit.com/r/politics/comments/6o1ipb/research_on_the_effect_downvotes_have_on_user/', 1), ('https://www.reddit.com/r/politics/comments/6o1ipb/research_on_the_effect_downvotes_have_on_user/dkybt0h/', 1)]\n",
      "6xauye [('https://www.bls.gov/oes/current/oes493041.htm', 2)]\n",
      "6xav42 [('https://www.reddit.com/r/imagesofnetwork/wiki/faqandinstructions#wiki_what_is_images_of.3F^', 1), ('https://discordapp.com/invite/0tZsejLgM2vzaExR', 1), ('https://www.reddit.com/r/imagesofnetwork/wiki/faqandinstructions#wiki_remove_my_post', 1), ('https://www.reddit.com/r/imagesofnetwork/wiki/faqandinstructions#wiki_the_bot_got_this_one_wrong', 1), ('https://www.reddit.com/r/imagesofnetwork/wiki/faqandinstructions#wiki_no_really._don.27t_ever_crosspost_me_or_my_subreddit', 1)]\n",
      "6xav2n [('https://www.reddit.com/r/videos/comments/6x8q9f/only_in_texas_does_the_national_guard_get_bailed/?utm_content=comments&amp;utm_medium=hot&amp;utm_source=reddit&amp;utm_name=frontpage', 1)]\n",
      "6xav6f [('https://www.reddit.com/r/Atlanta/comments/6xav4z/opening_night_at_gsu_stadium/', 1), ('https://www.reddit.com/r/imagesofnetwork/wiki/faqandinstructions#wiki_what_is_images_of.3F^', 1), ('https://discordapp.com/invite/0tZsejLgM2vzaExR', 1), ('https://www.reddit.com/r/imagesofnetwork/wiki/faqandinstructions#wiki_remove_my_post', 1), ('https://www.reddit.com/r/imagesofnetwork/wiki/faqandinstructions#wiki_the_bot_got_this_one_wrong', 1), ('https://www.reddit.com/r/imagesofnetwork/wiki/faqandinstructions#wiki_no_really._don.27t_ever_crosspost_me_or_my_subreddit', 1)]\n",
      "6xav6o [('https://www.reddit.com/r/imagesofnetwork/wiki/faqandinstructions#wiki_what_is_images_of.3F^', 1), ('https://discordapp.com/invite/0tZsejLgM2vzaExR', 1), ('https://www.reddit.com/r/imagesofnetwork/wiki/faqandinstructions#wiki_remove_my_post', 1), ('https://www.reddit.com/r/imagesofnetwork/wiki/faqandinstructions#wiki_the_bot_got_this_one_wrong', 1), ('https://www.reddit.com/r/imagesofnetwork/wiki/faqandinstructions#wiki_no_really._don.27t_ever_crosspost_me_or_my_subreddit', 1)]\n",
      "6xav6q [('https://www.reddit.com/r/Atlanta/comments/6xav4z/opening_night_at_gsu_stadium/', 1), ('https://www.reddit.com/r/imagesofnetwork/wiki/faqandinstructions#wiki_what_is_images_of.3F^', 1), ('https://discordapp.com/invite/0tZsejLgM2vzaExR', 1), ('https://www.reddit.com/r/imagesofnetwork/wiki/faqandinstructions#wiki_remove_my_post', 1), ('https://www.reddit.com/r/imagesofnetwork/wiki/faqandinstructions#wiki_the_bot_got_this_one_wrong', 1), ('https://www.reddit.com/r/imagesofnetwork/wiki/faqandinstructions#wiki_no_really._don.27t_ever_crosspost_me_or_my_subreddit', 1)]\n",
      "6xav69 [('http://hondurasnacionymundo.blogspot.com/2017/08/hernandez-plantea-pilares-del-cambio.html', 1)]\n",
      "6xauyj [('http://np.reddit.com/r/asmr', 1), ('http://np.reddit.com/r/asmr/comments/6x7m2p/glenn_danzig_speaking_about_his_band/', 1), ('https://www.reddit.com/message/compose/?to=OriginalPostSearcher', 1), ('https://github.com/papernotes/Reddit-OriginalPostSearcher', 1), ('https://github.com/papernotes/Reddit-OriginalPostSearcher#faq', 1)]\n",
      "6xav1v [('https://www.reddit.com/wiki/selfpromotion', 1)]\n",
      "6xav7c [('https://i.imgur.com/ImMODVU.jpg', 1), ('https://github.com/AUTplayed/imguralbumbot', 1), ('https://github.com/AUTplayed/imguralbumbot/blob/master/README.md', 1), ('https://np.reddit.com/user/AUTplayed/', 1), ('https://np.reddit.com/message/compose/?to=imguralbumbot&amp;subject=ignoreme&amp;message=ignoreme', 1), ('https://np.reddit.com/message/compose/?to=imguralbumbot&amp;subject=delet%20this&amp;message=delet%20this%20dmehrk2', 1)]\n",
      "6xav98 [('https://www.reddit.com/r/politics/comments/6o1ipb/research_on_the_effect_downvotes_have_on_user/', 1), ('https://www.reddit.com/r/politics/comments/6o1ipb/research_on_the_effect_downvotes_have_on_user/dkybt0h/', 1)]\n",
      "6xav92 [('https://streamable.com/hj4rz', 1)]\n",
      "6xava3 [('http://i.imgur.com/KOnzM9W.png', 2)]\n",
      "6xav7w [('http://www.xvideos.com/video29177049/mike_adriano_and_eva_lovia_en_freckle_faced_has_an_amazing_ass_adf.ly_1nhpck_', 1)]\n",
      "6xavbg [('http://www.reddit.com/r/pornvids/wiki/tagging', 1), ('http://www.reddit.com/r/pornvids/comments/zhkya/announcement_tagging_your_posts/', 1)]\n",
      "6xavbd [('https://www.reddit.com/r/imagesofnetwork/wiki/faqandinstructions#wiki_what_is_images_of.3F^', 1), ('https://discordapp.com/invite/0tZsejLgM2vzaExR', 1), ('https://www.reddit.com/r/imagesofnetwork/wiki/faqandinstructions#wiki_remove_my_post', 1), ('https://www.reddit.com/r/imagesofnetwork/wiki/faqandinstructions#wiki_the_bot_got_this_one_wrong', 1), ('https://www.reddit.com/r/imagesofnetwork/wiki/faqandinstructions#wiki_no_really._don.27t_ever_crosspost_me_or_my_subreddit', 1)]\n",
      "6xavbp [('https://www.reddit.com/r/pics/comments/6xaval/an_example_of_the_price_gouging_in_irving_tx/', 1), ('https://www.reddit.com/r/imagesofnetwork/wiki/faqandinstructions#wiki_what_is_images_of.3F^', 1), ('https://discordapp.com/invite/0tZsejLgM2vzaExR', 1), ('https://www.reddit.com/r/imagesofnetwork/wiki/faqandinstructions#wiki_remove_my_post', 1), ('https://www.reddit.com/r/imagesofnetwork/wiki/faqandinstructions#wiki_the_bot_got_this_one_wrong', 1), ('https://www.reddit.com/r/imagesofnetwork/wiki/faqandinstructions#wiki_no_really._don.27t_ever_crosspost_me_or_my_subreddit', 1)]\n",
      "6xavbx [('https://www.reddit.com/r/imagesofnetwork/wiki/faqandinstructions#wiki_what_is_images_of.3F^', 1), ('https://discordapp.com/invite/0tZsejLgM2vzaExR', 1), ('https://www.reddit.com/r/imagesofnetwork/wiki/faqandinstructions#wiki_remove_my_post', 1), ('https://www.reddit.com/r/imagesofnetwork/wiki/faqandinstructions#wiki_the_bot_got_this_one_wrong', 1), ('https://www.reddit.com/r/imagesofnetwork/wiki/faqandinstructions#wiki_no_really._don.27t_ever_crosspost_me_or_my_subreddit', 1)]\n",
      "6xavce [('https://www.reddit.com/r/BiggerThanYouThought/comments/6xago2/more_than_he_bargained_for/', 0), ('https://www.reddit.com/r/BiggerThanYouThought', 0)]\n",
      "6xav82 [('https://www.reddit.com/r/cocktailchemistry/comments/6vcykv/the_italian_margarita/', 1)]\n",
      "6xavd6 [('https://www.reddit.com/r/h3h3productions/search?q=big+fupa-sized+megathread+author%3Aautomoderator&amp;restrict_sr=on&amp;sort=new&amp;t=all', 1)]\n",
      "6xavdo [('https://www.reddit.com/r/brutalism/comments/6xavcf/kenzo_tange_in_kofu_japan/', 1), ('https://www.reddit.com/r/imagesofnetwork/wiki/faqandinstructions#wiki_what_is_images_of.3F^', 1), ('https://discordapp.com/invite/0tZsejLgM2vzaExR', 1), ('https://www.reddit.com/r/imagesofnetwork/wiki/faqandinstructions#wiki_remove_my_post', 1), ('https://www.reddit.com/r/imagesofnetwork/wiki/faqandinstructions#wiki_the_bot_got_this_one_wrong', 1), ('https://www.reddit.com/r/imagesofnetwork/wiki/faqandinstructions#wiki_no_really._don.27t_ever_crosspost_me_or_my_subreddit', 1)]\n",
      "6xavee [('https://www.reddit.com/wiki/commenting#wiki_commenting', 1), ('https://www.reddit.com/r/GlobalOffensive/about/rules/', 1)]\n",
      "6xavci [('https://www.youtube.com/watch?v=44hQwT00nrQ', 1)]\n",
      "6xavaj [('https://i.imgur.com/UFbUASw.png', 1), ('https://github.com/kupiakos/LapisMirror', 1)]\n",
      "6xavgp [('https://www.reddit.com/r/politics/wiki/whitelist', 1), ('https://www.reddit.com/r/politics/wiki/whitelist', 1), ('https://goo.gl/forms/lRQikA1rI0bVbKCl1', 1)]\n",
      "6xavgo [('https://www.reddit.com/r/marvelstudios/comments/6xavg3/marvel_studios_shows_support_for_texas/', 1), ('https://www.reddit.com/r/imagesofnetwork/wiki/faqandinstructions#wiki_what_is_images_of.3F^', 1), ('https://discordapp.com/invite/0tZsejLgM2vzaExR', 1), ('https://www.reddit.com/r/imagesofnetwork/wiki/faqandinstructions#wiki_remove_my_post', 1), ('https://www.reddit.com/r/imagesofnetwork/wiki/faqandinstructions#wiki_the_bot_got_this_one_wrong', 1), ('https://www.reddit.com/r/imagesofnetwork/wiki/faqandinstructions#wiki_no_really._don.27t_ever_crosspost_me_or_my_subreddit', 1)]\n",
      "6xavhh [('https://imgur.com/xm8mdMd`', 1), ('http://i.imgur.com/gIbbEriSh.jpg`', 1)]\n",
      "6xavi1 [('https://www.reddit.com/r/OldSchoolCool/comments/6xavgj/morgan_fairchild_1981/', 1), ('https://www.reddit.com/r/imagesofnetwork/wiki/faqandinstructions#wiki_what_is_images_of.3F^', 1), ('https://discordapp.com/invite/0tZsejLgM2vzaExR', 1), ('https://www.reddit.com/r/imagesofnetwork/wiki/faqandinstructions#wiki_remove_my_post', 1), ('https://www.reddit.com/r/imagesofnetwork/wiki/faqandinstructions#wiki_the_bot_got_this_one_wrong', 1), ('https://www.reddit.com/r/imagesofnetwork/wiki/faqandinstructions#wiki_no_really._don.27t_ever_crosspost_me_or_my_subreddit', 1)]\n",
      "6xavip [('http://www.reddit.com/message/compose?to=%2Fr%2Fleagueoflegends', 1), ('http://reddit.com/r/leagueoflegends/submit?selftext=true', 1), ('http://reddit.com/r/leagueoflegends/w/subredditrules', 1)]\n",
      "6xavj5 [('https://www.reddit.com/r/imagesofnetwork/wiki/faqandinstructions#wiki_what_is_images_of.3F^', 1), ('https://discordapp.com/invite/0tZsejLgM2vzaExR', 1), ('https://www.reddit.com/r/imagesofnetwork/wiki/faqandinstructions#wiki_remove_my_post', 1), ('https://www.reddit.com/r/imagesofnetwork/wiki/faqandinstructions#wiki_the_bot_got_this_one_wrong', 1), ('https://www.reddit.com/r/imagesofnetwork/wiki/faqandinstructions#wiki_no_really._don.27t_ever_crosspost_me_or_my_subreddit', 1)]\n",
      "6xavhq [('https://gfycat.com/BlondFilthyBlackrhino', 1), ('https://gist.github.com/ImJustToNy/cb3457e36f22123eb93864f0af639da3', 1), ('https://github.com/ImJustToNy/GfycatDetailsConvert', 1)]\n",
      "6xavkk [('https://www.reddit.com/r/imagesofnetwork/wiki/faqandinstructions#wiki_what_is_images_of.3F^', 1), ('https://discordapp.com/invite/0tZsejLgM2vzaExR', 1), ('https://www.reddit.com/r/imagesofnetwork/wiki/faqandinstructions#wiki_remove_my_post', 1), ('https://www.reddit.com/r/imagesofnetwork/wiki/faqandinstructions#wiki_the_bot_got_this_one_wrong', 1), ('https://www.reddit.com/r/imagesofnetwork/wiki/faqandinstructions#wiki_no_really._don.27t_ever_crosspost_me_or_my_subreddit', 1)]\n",
      "6xavle [('https://www.reddit.com/r/imagesofnetwork/wiki/faqandinstructions#wiki_what_is_images_of.3F^', 1), ('https://discordapp.com/invite/0tZsejLgM2vzaExR', 1), ('https://www.reddit.com/r/imagesofnetwork/wiki/faqandinstructions#wiki_remove_my_post', 1), ('https://www.reddit.com/r/imagesofnetwork/wiki/faqandinstructions#wiki_the_bot_got_this_one_wrong', 1), ('https://www.reddit.com/r/imagesofnetwork/wiki/faqandinstructions#wiki_no_really._don.27t_ever_crosspost_me_or_my_subreddit', 1)]\n",
      "6xavlm [('https://www.reddit.com/r/imagesofnetwork/wiki/faqandinstructions#wiki_what_is_images_of.3F^', 1), ('https://discordapp.com/invite/0tZsejLgM2vzaExR', 1), ('https://www.reddit.com/r/imagesofnetwork/wiki/faqandinstructions#wiki_remove_my_post', 1), ('https://www.reddit.com/r/imagesofnetwork/wiki/faqandinstructions#wiki_the_bot_got_this_one_wrong', 1), ('https://www.reddit.com/r/imagesofnetwork/wiki/faqandinstructions#wiki_no_really._don.27t_ever_crosspost_me_or_my_subreddit', 1)]\n",
      "6xavlw [('http://www.reddit.com/message/compose?to=%2Fr%2Fcats', 1)]\n"
     ]
    }
   ],
   "source": [
    "for x in subid_commenturl_map:\n",
    "    print(x, subid_commenturl_map[x])"
   ]
  },
  {
   "cell_type": "code",
   "execution_count": 20,
   "metadata": {},
   "outputs": [
    {
     "data": {
      "text/plain": [
       "'https://www.youtube.com/watch?v=CxfXl7RRlQc'"
      ]
     },
     "execution_count": 20,
     "metadata": {},
     "output_type": "execute_result"
    }
   ],
   "source": [
    "subid_url_map['6xav3o']"
   ]
  }
 ],
 "metadata": {
  "interpreter": {
   "hash": "31f2aee4e71d21fbe5cf8b01ff0e069b9275f58929596ceb00d14d90e3e16cd6"
  },
  "kernelspec": {
   "display_name": "Python 3.8.10 64-bit",
   "language": "python",
   "name": "python3"
  },
  "language_info": {
   "codemirror_mode": {
    "name": "ipython",
    "version": 3
   },
   "file_extension": ".py",
   "mimetype": "text/x-python",
   "name": "python",
   "nbconvert_exporter": "python",
   "pygments_lexer": "ipython3",
   "version": "3.8.10"
  },
  "orig_nbformat": 4
 },
 "nbformat": 4,
 "nbformat_minor": 2
}
