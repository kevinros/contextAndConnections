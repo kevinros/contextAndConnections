{
 "cells": [
  {
   "cell_type": "code",
   "execution_count": 7,
   "metadata": {},
   "outputs": [],
   "source": [
    "import json\n",
    "from data_helpers.format_reddit_comments import extract_urls\n",
    "from linkpreview import link_preview"
   ]
  },
  {
   "cell_type": "code",
   "execution_count": 13,
   "metadata": {},
   "outputs": [],
   "source": [
    "subid_url_map = {}\n",
    "with open('data_2017-09/RS_2017-09', 'r') as f:\n",
    "        for i,line in enumerate(f):\n",
    "            submission = json.loads(line)\n",
    "            url = submission['url']\n",
    "            if '.reddit.' in url or 'i.redd.it' in url: continue\n",
    "            id = submission['id']\n",
    "            subid_url_map[id] = url\n",
    "            if i > 5000: break\n"
   ]
  },
  {
   "cell_type": "code",
   "execution_count": 14,
   "metadata": {},
   "outputs": [],
   "source": [
    "subid_commenturl_map = {}\n",
    "ignore_domains = {\"www.reddit.com\", \"discordapp.com\", \"reddit.com\", \"np.reddit.com\"}\n",
    "with open('data_2017-09/RC_2017-09', 'r') as f:\n",
    "        for i,line in enumerate(f):\n",
    "            comment = json.loads(line)\n",
    "            # if top level comment\n",
    "            if comment['link_id'] != comment['parent_id']: continue\n",
    "            submission_id = comment['link_id'][3:]\n",
    "            if submission_id not in subid_url_map: continue\n",
    "            _, urls = extract_urls(comment['body'], ignore_domains=ignore_domains)\n",
    "            urls = [(url, comment['score']) for url in urls if comment['score'] > 2]\n",
    "\n",
    "\n",
    "            if not urls: continue\n",
    "\n",
    "\n",
    "            if submission_id not in subid_commenturl_map:\n",
    "                subid_commenturl_map[submission_id] = urls\n",
    "            else:\n",
    "                subid_commenturl_map[submission_id].append(urls)\n",
    "            if len(subid_commenturl_map) > 50:\n",
    "                break\n"
   ]
  },
  {
   "cell_type": "code",
   "execution_count": 15,
   "metadata": {},
   "outputs": [
    {
     "name": "stdout",
     "output_type": "stream",
     "text": [
      "6xave7 https://oddshot.tv/s/rTsx8w [('https://oddshot.tv/s/hwcGZ1', 70), [('https://oddshot.tv/s/hwcGZ1', 70)], [('https://oddshot.tv/s/hwcGZ1', 71)]]\n",
      "6xav8u https://oddshot.tv/s/rTsx8w [('https://oddshot.tv/s/hwcGZ1', 40), [('https://oddshot.tv/s/hwcGZ1', 40)], [('https://oddshot.tv/s/hwcGZ1', 41)]]\n",
      "6xavf5 https://www.youtube.com/watch?v=bWyJ7spFD1c [('https://soundcloud.com/auntydonna/podcast-ep-20-1999-recap', 10), [('https://soundcloud.com/auntydonna/podcast-ep-20-1999-recap', 10)], [('https://soundcloud.com/auntydonna/podcast-ep-20-1999-recap', 9)]]\n",
      "6xavar http://aviationweek.com/awindefense/f-35-squadrons-get-full-combat-load-cant-use-it [('https://twitter.com/laraseligman/status/903321175799029760', 6), ('https://twitter.com/laraseligman/status/903322758360248320', 6), ('https://twitter.com/laraseligman/status/903324251339583488', 6), ('https://twitter.com/laraseligman/status/903345333433925634', 6), ('http://docs.house.gov/meetings/AS/AS25/20170216/105552/HHRG-115-AS25-Wstate-BogdanC-20170216.pdf#page=6', 6), [('https://twitter.com/laraseligman/status/903321175799029760', 6), ('https://twitter.com/laraseligman/status/903322758360248320', 6), ('https://twitter.com/laraseligman/status/903324251339583488', 6), ('https://twitter.com/laraseligman/status/903345333433925634', 6), ('http://docs.house.gov/meetings/AS/AS25/20170216/105552/HHRG-115-AS25-Wstate-BogdanC-20170216.pdf#page=6', 6)], [('https://twitter.com/laraseligman/status/903321175799029760', 5), ('https://twitter.com/laraseligman/status/903322758360248320', 5), ('https://twitter.com/laraseligman/status/903324251339583488', 5), ('https://twitter.com/laraseligman/status/903345333433925634', 5), ('http://docs.house.gov/meetings/AS/AS25/20170216/105552/HHRG-115-AS25-Wstate-BogdanC-20170216.pdf#page=6', 5)]]\n",
      "6xav4g http://i.imgur.com/CY6xvA4.png [('https://puu.sh/xmOfD/ccee2a56d9.png', 10), [('https://puu.sh/xmOfD/ccee2a56d9.png', 10)], [('https://puu.sh/xmOfD/ccee2a56d9.png', 10)]]\n",
      "6xavgt https://www.newegg.com/Product/Product.aspx?Item=N82E16835709023 [('https://www.newegg.com/Product/Product.aspx?Item=N82E16835709024&amp;ignorebbr=1', 7), [('https://www.newegg.com/Product/Product.aspx?Item=N82E16835709024&amp;ignorebbr=1', 7)], [('https://www.newegg.com/Product/Product.aspx?Item=N82E16835709024&amp;ignorebbr=1', 7)]]\n",
      "6xavk6 http://i.imgur.com/5dBm5T6.png [('https://twitter.com/dantheshive?s=09', 6), ('http://www.egscomics.com/index.php?id=1895', 6), [('https://twitter.com/dantheshive?s=09', 6), ('http://www.egscomics.com/index.php?id=1895', 6)], [('https://twitter.com/dantheshive?s=09', 4), ('http://www.egscomics.com/index.php?id=1895', 4)]]\n",
      "6xavvw http://www.thegatewaypundit.com/2017/08/boom-sheriff-david-clarke-set-join-trump-administration/ [('http://www.breitbart.com/radio/2017/08/30/mike-cernovich-ive-heard-that-trump-is-on-house-arrest-in-the-white-house/', 6), [('http://www.breitbart.com/radio/2017/08/30/mike-cernovich-ive-heard-that-trump-is-on-house-arrest-in-the-white-house/', 6)], [('http://www.breitbart.com/radio/2017/08/30/mike-cernovich-ive-heard-that-trump-is-on-house-arrest-in-the-white-house/', 8)]]\n",
      "6xavii https://v.redd.it/0y72x118x5jz [('https://www.streamable.com/tf0rt', 4), ('https://github.com/aquelemiguel^^|', 4), ('https://github.com/aquelemiguel/vreddit-mirror-bot/wiki/Banned-subreddits^^|', 4), ('https://github.com/aquelemiguel/vreddit-mirror-bot/wiki/Donations', 4), [('https://www.streamable.com/tf0rt', 4), ('https://github.com/aquelemiguel^^|', 4), ('https://github.com/aquelemiguel/vreddit-mirror-bot/wiki/Banned-subreddits^^|', 4), ('https://github.com/aquelemiguel/vreddit-mirror-bot/wiki/Donations', 4)]]\n",
      "6xawqp https://ari-6.deviantart.com/art/The-L-Word-702001263 [('http://ari-6.deviantart.com:', 3), ('https://i.imgur.com/gpXSXP5.jpg', 3), ('https://github.com/spiral6/VelvetBot', 3), ('https://github.com/kupiakos/LapisMirror', 3), [('https://pics.onsizzle.com/why-is-everyone-obsessed-with-lesbians-honey-dear-7429632.png', 61)], [('http://ari-6.deviantart.com:', 3), ('https://i.imgur.com/gpXSXP5.jpg', 3), ('https://github.com/spiral6/VelvetBot', 3), ('https://github.com/kupiakos/LapisMirror', 3)], [('https://pics.onsizzle.com/why-is-everyone-obsessed-with-lesbians-honey-dear-7429632.png', 61)], [('http://ari-6.deviantart.com:', 4), ('https://i.imgur.com/gpXSXP5.jpg', 4), ('https://github.com/spiral6/VelvetBot', 4), ('https://github.com/kupiakos/LapisMirror', 4)], [('https://pics.onsizzle.com/why-is-everyone-obsessed-with-lesbians-honey-dear-7429632.png', 68)]]\n",
      "6xav55 http://imgur.com/5fl3fKN [('https://priceonomics.com/how-an-ad-campaign-made-lesbians-fall-in-love-with/', 19), [('https://priceonomics.com/how-an-ad-campaign-made-lesbians-fall-in-love-with/', 19)], [('https://priceonomics.com/how-an-ad-campaign-made-lesbians-fall-in-love-with/', 21)]]\n",
      "6xawgy http://imgur.com/a/q8rwW [('http://discord.me/headphones', 17), [('http://discord.me/headphones', 17)], [('http://discord.me/headphones', 17)]]\n",
      "6xawba https://www.rocketleague.com/news/double-drop-rate-weekend-returns-right-now/ [('https://twitter.com/RocketLeague/status/903409275082391553', 28), [('https://twitter.com/RocketLeague/status/903409275082391553', 28)], [('https://twitter.com/RocketLeague/status/903409275082391553', 27)]]\n",
      "6xawhy https://www.newsmax.com/Headline/irma-hurriane/2017/08/31/id/810911/ [('https://earth.nullschool.net/#current/wind/surface/level/overlay=total_cloud_water/orthographic=-34.8516.281821/loc=-36.01617.079', 3), [('https://earth.nullschool.net/#current/wind/surface/level/overlay=total_cloud_water/orthographic=-34.8516.281821/loc=-36.01617.079', 3)], [('https://earth.nullschool.net/#current/wind/surface/level/overlay=total_cloud_water/orthographic=-34.8516.281821/loc=-36.01617.079', 4)]]\n",
      "6xav23 http://speisa.com/modules/articles/index.php/item.3929/sweden-man-sentenced-for-eating-bacon-in-front-of-muslims.html [('http://metro.co.uk/2016/12/29/man-who-attacked-mosque-with-bacon-sandwiches-found-dead-in-prison-6350609/', 86), [('http://metro.co.uk/2016/12/29/man-who-attacked-mosque-with-bacon-sandwiches-found-dead-in-prison-6350609/', 86)], [('http://metro.co.uk/2016/12/29/man-who-attacked-mosque-with-bacon-sandwiches-found-dead-in-prison-6350609/', 92)]]\n",
      "6xay59 http://store.steampowered.com/app/622060/XOXO_Droplets/ [('https://gbpatch.itch.io/xoxo-droplets', 3), [('https://gbpatch.itch.io/xoxo-droplets', 3)], [('https://gbpatch.itch.io/xoxo-droplets', 3)]]\n",
      "6xaws9 https://gfycat.com/AdolescentScrawnyBagworm [('http://www.vlive.tv/video/40474', 3), ('https://youtu.be/poioZYpHhdA', 3), ('https://gfycat.com/CompleteUnselfishIzuthrush', 3), ('https://gfycat.com/MildGiddyAoudad', 3), ('https://gfycat.com/EnviousNaturalGoitered', 3), ('https://gfycat.com/ShimmeringSociableBaboon', 3), ('https://gfycat.com/RigidPeacefulHoverfly', 3), [('http://www.vlive.tv/video/40474', 3), ('https://youtu.be/poioZYpHhdA', 3), ('https://gfycat.com/CompleteUnselfishIzuthrush', 3), ('https://gfycat.com/MildGiddyAoudad', 3), ('https://gfycat.com/EnviousNaturalGoitered', 3), ('https://gfycat.com/ShimmeringSociableBaboon', 3), ('https://gfycat.com/RigidPeacefulHoverfly', 3)], [('http://www.vlive.tv/video/40474', 3), ('https://youtu.be/poioZYpHhdA', 3), ('https://gfycat.com/CompleteUnselfishIzuthrush', 3), ('https://gfycat.com/MildGiddyAoudad', 3), ('https://gfycat.com/EnviousNaturalGoitered', 3), ('https://gfycat.com/ShimmeringSociableBaboon', 3), ('https://gfycat.com/RigidPeacefulHoverfly', 3)]]\n",
      "6xawd7 https://twitter.com/lindscashdraper/status/903407944187994113 [('https://twitter.com/dallascowboys/status/903411654934835201', 18), [('https://twitter.com/dallascowboys/status/903411654934835201', 18)], [('https://twitter.com/dallascowboys/status/903411654934835201', 18)]]\n",
      "6xaxz1 http://www.sltrib.com/news/2017/08/31/utah-nurse-arrested-after-complying-with-hospital-policy-that-bars-taking-blood-from-unconscious-victim/ [('https://www.youtube.com/watch?v=ihQ1-LQOkns', 4), ('https://www.youtube.com/watch?time_continue=1159&amp;v=hJPVglqR4yM', 4), [('https://www.youtube.com/watch?v=ihQ1-LQOkns', 4), ('https://www.youtube.com/watch?time_continue=1159&amp;v=hJPVglqR4yM', 4)], [('https://www.youtube.com/watch?v=ihQ1-LQOkns', 4), ('https://www.youtube.com/watch?time_continue=1159&amp;v=hJPVglqR4yM', 4)]]\n",
      "6xaxus http://imgur.com/a/ADEG3 [('https://upload.wikimedia.org/wikipedia/en/f/f8/Fruit_Gushers_packaging.jpg', 61), [('https://upload.wikimedia.org/wikipedia/en/f/f8/Fruit_Gushers_packaging.jpg', 61)], [('https://upload.wikimedia.org/wikipedia/en/f/f8/Fruit_Gushers_packaging.jpg', 66)]]\n",
      "6xax9i http://www.politico.com/states/florida/story/2017/08/31/rick-scott-wins-death-penalty-dispute-with-soros-backed-state-attorney-114240 [('https://static.politico.com/dims4/default/24ef399/2147483647/resize/1160x/quality/90/?url=http%3A%2F%2Fstatic.politico.com%2F25%2F51%2Fd7642f3b4782970edff6ab50b0a4%2Frick-scott.%20%20Getty%202.jpg', 3), [('https://static.politico.com/dims4/default/24ef399/2147483647/resize/1160x/quality/90/?url=http%3A%2F%2Fstatic.politico.com%2F25%2F51%2Fd7642f3b4782970edff6ab50b0a4%2Frick-scott.%20%20Getty%202.jpg', 3)], [('https://static.politico.com/dims4/default/24ef399/2147483647/resize/1160x/quality/90/?url=http%3A%2F%2Fstatic.politico.com%2F25%2F51%2Fd7642f3b4782970edff6ab50b0a4%2Frick-scott.%20%20Getty%202.jpg', 3)]]\n",
      "6xayqm https://soundcloud.com/coral422/one-and-only-arrange-ver [('https://soundcloud.com/thatsableguy/one-and-only', 3), ('http://vocadb.net/Ar/13409', 3), ('https://soundcloud.com/coral422', 3), [('https://soundcloud.com/thatsableguy/one-and-only', 3), ('http://vocadb.net/Ar/13409', 3), ('https://soundcloud.com/coral422', 3)], [('https://soundcloud.com/thatsableguy/one-and-only', 3), ('http://vocadb.net/Ar/13409', 3), ('https://soundcloud.com/coral422', 3)]]\n",
      "6xaw6l https://twitter.com/helmandc/status/903407994574176257 [('https://twitter.com/dallascowboys/status/903411654934835201', 221), [('https://twitter.com/dallascowboys/status/903411654934835201', 221)], [('https://twitter.com/dallascowboys/status/903411654934835201', 222)]]\n",
      "6xaygj http://xboxdvr.com/gamer/Sensenmann062/video/29969978 [('http://starwars.wikia.com/wiki/Ash_angel', 20), [('http://starwars.wikia.com/wiki/Ash_angel', 20)], [('http://starwars.wikia.com/wiki/Ash_angel', 20)]]\n",
      "6xayby https://www.telethonkids.org.au/news--events/news-and-events-nav/2017/september/trans-pathways-media-release/ [('https://www.telethonkids.org.au/globalassets/media/documents/brain--behaviour/trans-pathwayreport-web.pdf', 13), [('https://www.telethonkids.org.au/globalassets/media/documents/brain--behaviour/trans-pathwayreport-web.pdf', 13)], [('https://www.telethonkids.org.au/globalassets/media/documents/brain--behaviour/trans-pathwayreport-web.pdf', 14)]]\n",
      "6xay58 http://thefederalist.com/2017/08/28/dear-trans-lobby-military-not-social-experiment/ [('https://www.vox.com/policy-and-politics/2017/8/31/16236622/transgender-military-ban-lawsuit-regan-kibby-jane-doe-trump', 6), [('http://thefederalist.com/author/sumantramaitra/', 9)], [('https://www.vox.com/policy-and-politics/2017/8/31/16236622/transgender-military-ban-lawsuit-regan-kibby-jane-doe-trump', 6)], [('http://thefederalist.com/author/sumantramaitra/', 9)], [('https://www.vox.com/policy-and-politics/2017/8/31/16236622/transgender-military-ban-lawsuit-regan-kibby-jane-doe-trump', 5)], [('http://thefederalist.com/author/sumantramaitra/', 9)]]\n",
      "6xayx2 http://time.com/4922560/statehouses-congress-money-fights-campaign-finance/ [('http://www.openstates.org/find_your_legislator/', 3)]\n",
      "6xayoc https://imgur.com/XKUEOpQ [('http://imgur.com/a/Pnv0z', 3)]\n",
      "6xayv1 https://i.imgur.com/bJ5mLja.jpg [('https://i.imgur.com/Klx1AIQ.jpg', 58)]\n",
      "6xavbh https://thespinoff.co.nz/politics/29-08-2017/bill-english-says-kiwis-dont-care-about-climate-change-thats-not-true-for-kids-on-the-west-coast/ [('https://www.victoria.ac.nz/sgees/research-centres/documents/vulnerability-and-adaptation-to-sea-level-rise-in-auckland-new-zealand.pdf', 93)]\n",
      "6xaw75 http://www.nydailynews.com/news/national/scientists-md-facility-infested-107-million-spiders-article-1.1997741 [('https://youtu.be/5FjWe31S_0g', 19)]\n",
      "6xayx5 https://youtu.be/XqBAfsmu9CY [('https://youtu.be/XqBAfsmu9CY?t=9m58s', 34)]\n",
      "6xavom http://profootballtalk.nbcsports.com/2017/08/31/john-ross-leaves-with-knee-injury/ [('https://twitter.com/jimowczarski/status/903418412067643392', 7)]\n",
      "6xaymt https://twitter.com/IgglesCoverage/status/903410015012311040 [('https://i.imgur.com/Y5Cdpht.gif', 23)]\n",
      "6xaw46 http://www.agencianova.com/nota.asp?n=2017_8_30&amp;id=58043&amp;id_tiponota=10 [('http://imgur.com/a/Q3uPm', 20), [('https://i.imgur.com/afp9sLP.jpg', 16)]]\n",
      "6xawri https://mobile.twitter.com/helmandc/status/903407994574176257 [('https://twitter.com/dallascowboys/status/903411654934835201', 20)]\n",
      "6xaxk9 https://twitter.com/nightschoolers/status/903298475877531648 [('https://www.youtube.com/watch?v=NAhrOoNR4ng', 4)]\n",
      "6xaxoc https://youtu.be/m_qHXdLSvUs [('https://en.wikipedia.org/wiki/Doomsday_rule', 284), [('https://youtu.be/0yetxU1Ji4I', 62), ('https://gfycat.com/DimwittedBriefChameleon', 62)], [('http://www.qconline.com/opinion/columnists/john_marx/moline-s-dexter-johnson-feeling-the-love-from-q-cs/article_851858eb-34fb-5f6b-959e-ba6456783692.html', 21)]]\n",
      "6xaxzd https://www.youtube.com/watch?v=Q1nsXQgZdco [('http://www.nytimes.com/1981/09/19/nyregion/notes-on-people-some-disunity-along-the-united-way.html', 7)]\n",
      "6xaypo https://imgur.com/IOtf3Tt [('https://my.sfwmd.gov/sfwmd/common/images/weather/plots/storm_11', 30)]\n",
      "6xax81 https://smash.gg/tournament/gametyrant-expo-2017 [('https://smash.gg/GTX2017', 8), ('https://gt-x.gg', 8)]\n",
      "6xaxf9 http://johnhcochrane.blogspot.com/2017/08/on-climate-change-2.html [('http://csas.ei.columbia.edu/files/2017/01/Picture3-620x406.png', 5), ('https://en.wikipedia.org/wiki/2003_European_heat_wave', 5), ('http://www.cbc.ca/news/technology/climate-change-deadly-heat-waves-south-asia-1.4231281', 5)]\n",
      "6xavdj https://mobile.twitter.com/JonHeyman/status/903406214205321217 [('http://i.imgur.com/moYFwkY.gifv', 6)]\n",
      "6xav3i https://www.youtube.com/watch?v=yICVmyySHmE [('http://japanology.tv', 3)]\n",
      "6xav98 http://thehill.com/homenews/administration/348798-mueller-teams-up-with-irs-in-russia-probe-report [('http://thehill.com/homenews/administration/348798-mueller-teams-up-with-irs-in-russia-probe-report', 6)]\n",
      "6xavp9 http://www.trinityjournal.com/news/local/article_a2faff26-8e6a-11e7-ba05-17e5cdabda20.html [('https://inciweb.nwcg.gov/photos/CASHF/2017-08-30-2008-Helena-Fire/picts/2017_08_31-14.13.59.499-CDT.jpeg', 3)]\n",
      "6xax1z https://i.kinja-img.com/gawker-media/image/upload/s--ZkV7qJL2--/c_scale,f_auto,fl_progressive,q_80,w_800/1343888784110082851.gif [('https://gfycat.com/MajorWelcomeAplomadofalcon', 5)]\n",
      "6xaywx https://imgur.com/ds2CmVR [('https://youtu.be/FrJJyl-8Vv0', 5)]\n",
      "6xayrb http://www.stuff.co.nz/taranaki-daily-news/business/96385172/Jacinda-Ardern-tells-Kelvin-Davis-off-over-capital-gains-tax-comments [('https://i.imgur.com/p5hXeoX_d.jpg?maxwidth=640&amp;shape=thumb&amp;fidelity=high', 6)]\n",
      "6xawjo http://thehill.com/homenews/administration/348789-trump-to-cut-pay-raises-for-government-workers [('https://www.cnbc.com/2017/08/30/gop-eyeing-1-billion-disaster-funds-cut-to-help-wall.html', 9)]\n",
      "6xayvv https://twitter.com/rudygobert27/status/903410645546049536 [('https://youtu.be/bfAzi6D5FpM', 72), ('http://www.givewell.org', 72), ('http://www.openphilanthropy.org', 72)]\n"
     ]
    }
   ],
   "source": [
    "for x in subid_commenturl_map:\n",
    "    print(x, subid_url_map[x], subid_commenturl_map[x])"
   ]
  },
  {
   "cell_type": "code",
   "execution_count": 17,
   "metadata": {},
   "outputs": [
    {
     "name": "stdout",
     "output_type": "stream",
     "text": [
      "title: None\n",
      "description: None\n",
      "image: None\n",
      "force_title: Ufbuasw\n",
      "absolute_image: None\n"
     ]
    }
   ],
   "source": [
    "preview = link_preview(\"https://i.imgur.com/UFbUASw.png\")\n",
    "print(\"title:\", preview.title)\n",
    "print(\"description:\", preview.description)\n",
    "print(\"image:\", preview.image)\n",
    "print(\"force_title:\", preview.force_title)\n",
    "print(\"absolute_image:\", preview.absolute_image)"
   ]
  }
 ],
 "metadata": {
  "interpreter": {
   "hash": "31f2aee4e71d21fbe5cf8b01ff0e069b9275f58929596ceb00d14d90e3e16cd6"
  },
  "kernelspec": {
   "display_name": "Python 3.8.10 64-bit",
   "language": "python",
   "name": "python3"
  },
  "language_info": {
   "codemirror_mode": {
    "name": "ipython",
    "version": 3
   },
   "file_extension": ".py",
   "mimetype": "text/x-python",
   "name": "python",
   "nbconvert_exporter": "python",
   "pygments_lexer": "ipython3",
   "version": "3.8.10"
  },
  "orig_nbformat": 4
 },
 "nbformat": 4,
 "nbformat_minor": 2
}
