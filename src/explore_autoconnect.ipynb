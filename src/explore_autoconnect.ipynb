{
 "cells": [
  {
   "cell_type": "code",
   "execution_count": 2,
   "metadata": {},
   "outputs": [],
   "source": [
    "import json\n",
    "from data_helpers.format_reddit_comments import extract_urls"
   ]
  },
  {
   "cell_type": "code",
   "execution_count": 3,
   "metadata": {},
   "outputs": [],
   "source": [
    "subid_url_map = {}\n",
    "with open('data_2017-09/RS_2017-09', 'r') as f:\n",
    "        for i,line in enumerate(f):\n",
    "            submission = json.loads(line)\n",
    "            url = submission['url']\n",
    "            if '.reddit.' in url or 'i.redd.it' in url: continue\n",
    "            id = submission['id']\n",
    "            subid_url_map[id] = url\n",
    "            if i > 5000: break\n"
   ]
  },
  {
   "cell_type": "code",
   "execution_count": 17,
   "metadata": {},
   "outputs": [],
   "source": [
    "subid_commenturl_map = {}\n",
    "ignore_domains = {}\n",
    "with open('data_2017-09/RC_2017-09', 'r') as f:\n",
    "        for i,line in enumerate(f):\n",
    "            comment = json.loads(line)\n",
    "            # if top level comment\n",
    "            if comment['link_id'] != comment['parent_id']: continue\n",
    "            submission_id = comment['link_id'][3:]\n",
    "            if submission_id not in subid_url_map: continue\n",
    "            _, urls = extract_urls(comment['body'], ignore_domains=ignore_domains)\n",
    "            if not urls: continue\n",
    "            urls = [(url, comment['score']) for url in urls]\n",
    "\n",
    "            if submission_id not in subid_commenturl_map:\n",
    "                subid_commenturl_map[submission_id] = urls\n",
    "            else:\n",
    "                subid_commenturl_map[submission_id].append(urls)\n",
    "            if len(subid_commenturl_map) > 50:\n",
    "                break\n"
   ]
  },
  {
   "cell_type": "code",
   "execution_count": null,
   "metadata": {},
   "outputs": [],
   "source": [
    "for x in subid_commenturl_map:\n",
    "    print(x, subid_commenturl_map[x])"
   ]
  },
  {
   "cell_type": "code",
   "execution_count": 20,
   "metadata": {},
   "outputs": [
    {
     "data": {
      "text/plain": [
       "'https://www.youtube.com/watch?v=CxfXl7RRlQc'"
      ]
     },
     "execution_count": 20,
     "metadata": {},
     "output_type": "execute_result"
    }
   ],
   "source": [
    "subid_url_map['6xav3o']"
   ]
  }
 ],
 "metadata": {
  "interpreter": {
   "hash": "31f2aee4e71d21fbe5cf8b01ff0e069b9275f58929596ceb00d14d90e3e16cd6"
  },
  "kernelspec": {
   "display_name": "Python 3.8.10 64-bit",
   "language": "python",
   "name": "python3"
  },
  "language_info": {
   "codemirror_mode": {
    "name": "ipython",
    "version": 3
   },
   "file_extension": ".py",
   "mimetype": "text/x-python",
   "name": "python",
   "nbconvert_exporter": "python",
   "pygments_lexer": "ipython3",
   "version": "3.8.10"
  },
  "orig_nbformat": 4
 },
 "nbformat": 4,
 "nbformat_minor": 2
}
