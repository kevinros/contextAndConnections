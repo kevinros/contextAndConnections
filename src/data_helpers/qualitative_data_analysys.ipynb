{
 "cells": [
  {
   "cell_type": "code",
   "execution_count": 3,
   "metadata": {},
   "outputs": [],
   "source": [
    "import pickle\n",
    "import json\n",
    "import re\n",
    "from urllib.request import urlopen\n",
    "from bs4 import BeautifulSoup\n",
    "import signal\n",
    "from urllib.parse import urlparse\n",
    "import uuid"
   ]
  },
  {
   "cell_type": "code",
   "execution_count": 4,
   "metadata": {},
   "outputs": [],
   "source": [
    "all_needed_comments = pickle.load(open('../data_2017-09/all_needed_comments.pkl', 'rb'))\n",
    "url_file_map = pickle.load(open('../data_2017-09/url_file_map.pkl', 'rb'))"
   ]
  },
  {
   "cell_type": "code",
   "execution_count": 6,
   "metadata": {},
   "outputs": [
    {
     "name": "stdout",
     "output_type": "stream",
     "text": [
      "{'filename': 'fb78e1439cb34d528bc3b7c63aa6d690', 'chain': ['dmehrxc', 'dmehs40'], 'status': 'success', 'split': 'train'}\n",
      "{'filename': '3d549be0eabc4b498124154e6042f5f8', 'chain': ['dn3oifl', 'dn43n9m', 'dn4oi9w', 'dn4pk6l', 'dn4q8gi'], 'status': 'success', 'split': 'train'}\n",
      "{'filename': '3b7659e157dd45e0b601b310810dcad7', 'chain': ['dmehvny', 'dmf2f2k'], 'status': 'success', 'split': 'train'}\n",
      "{'filename': 'd6065fd09a824e0c9c0bbf88d1292d64', 'chain': ['dmlcnr6', 'dmldwiv', 'dmljki6', 'dmlktlo', 'dmlux93', 'dmm08c0', 'dmmdyi0', 'dmmrj76'], 'status': 'success', 'split': 'train'}\n",
      "{'filename': '7122309c6dd34afe841ee96c81e90df1', 'chain': ['dnff170', 'dnfk9x8', 'dnfqxg7'], 'status': 'success', 'split': 'train'}\n",
      "{'filename': 'e6f5e33b73854cbeab322ea662e3f837', 'chain': ['dmyukpm', 'dmz69p7', 'dmz7jfk', 'dmzdd51', 'dmzdd91'], 'status': 'success', 'split': 'train'}\n",
      "{'filename': '497be1d2ea884a0eb50fd5227a5fd96a', 'chain': ['dmeht2s', 'dmei74p'], 'status': 'success', 'split': 'test'}\n",
      "{'filename': '11357ee55a8246c6a4d37ed391d50f14', 'chain': ['dnn0bhq', 'dnn3eur'], 'status': 'success', 'split': 'train'}\n",
      "{'filename': '639cc91c6eed4f9a8cea4783e7359d55', 'chain': ['dmehv0d', 'dmei8x2'], 'status': 'success', 'split': 'train'}\n",
      "{'filename': '4df5d5f5f39d4bae9c280e5f74fded54', 'chain': ['dno0pnv', 'dno1pwg'], 'status': 'success', 'split': 'train'}\n",
      "{'filename': 'b0624729f2324f558c8f67d77cd44193', 'chain': ['dnixdjz', 'dniyy5w'], 'status': 'success', 'split': 'test'}\n",
      "{'filename': 'a44cf15e12f5438a92b4708b3046877e', 'chain': ['dnc598f', 'dncm3eh', 'dncy7wj', 'dnd54vo'], 'status': 'success', 'split': 'train'}\n",
      "{'filename': 'fc521cee21b34bacbd3553fa4ce4e9dd', 'chain': ['dmehwgb', 'dmeig4n'], 'status': 'success', 'split': 'train'}\n",
      "{'filename': '3f3504aced9342b38b193afa234e7017', 'chain': ['dnnga5o', 'dnnramj', 'dno0x4w', 'dno2p1a', 'dno4ij7', 'dnojrhe'], 'status': 'success', 'split': 'train'}\n",
      "{'filename': '55eee4fa77984a3aae63604f8068ce28', 'chain': ['dmehr36', 'dmeike7'], 'status': 'success', 'split': 'train'}\n",
      "{'filename': '783186db86c94cdbbd9aba7e22316b57', 'chain': ['dmeilcv', 'dmeilg2'], 'status': 'success', 'split': 'train'}\n",
      "{'filename': 'f2e6b48e1ebb4d899f6366e8e269d06d', 'chain': ['dmeiaee', 'dmeim41'], 'status': 'success', 'split': 'train'}\n",
      "{'filename': '547253616dda4082afb3361143ce410d', 'chain': ['dmeiaee', 'dmeim41', 'dmeim98'], 'status': 'success', 'split': 'train'}\n",
      "{'filename': 'd4869ea3304f41e8bb1c8af7950e2fe0', 'chain': ['dmei4ty', 'dmeiodi'], 'status': 'success', 'split': 'train'}\n",
      "{'filename': '922a28d43d1943cda0ab38d11f53f7d5', 'chain': ['dnp6aat', 'dnqdkl9'], 'status': 'success', 'split': 'val'}\n",
      "{'filename': '88a3e1c002374314b32fbf26411bdac9', 'chain': ['dmfk6d7', 'dmfmbmf'], 'status': 'success', 'split': 'test'}\n",
      "{'filename': 'fa27e088b0c94746bba4e776aaf4f0cf', 'chain': ['dnblq0v', 'dnc2kxj', 'dnc4bd7', 'dnc4g57', 'dnc5lhp', 'dnc5r73', 'dnc6wcf', 'dnc75ld', 'dnc8q4j', 'dnc9my8', 'dnca30p'], 'status': 'success', 'split': 'test'}\n",
      "{'filename': 'be4905794b174cd4bd622778d7603ba2', 'chain': ['dmo6wk5', 'dmo77ij', 'dmo849t', 'dmo8uo6'], 'status': 'success', 'split': 'train'}\n",
      "{'filename': '468cc88f04644e0482791dca6cb40f80', 'chain': ['dn9xe40', 'dn9y73h', 'dna09mn'], 'status': 'success', 'split': 'train'}\n",
      "{'filename': '3737fcca7fad4fbf814daf0f4d7b39ad', 'chain': ['dmeigd3', 'dmeivvm'], 'status': 'success', 'split': 'train'}\n",
      "{'filename': '3b27ce2492684d0e9df143b9ae18e53d', 'chain': ['dmtb8k3', 'dmum2bv'], 'status': 'success', 'split': 'train'}\n",
      "{'filename': '641bdd1b1e3f463584548020c8805389', 'chain': ['dmeibc0', 'dmeiw58'], 'status': 'success', 'split': 'train'}\n",
      "{'filename': '22d6a57bef304c5fb5bf523412e8d5da', 'chain': ['dmei0p5', 'dmeix15'], 'status': 'success', 'split': 'train'}\n",
      "{'filename': '6d1b3d9e01f341f7baff40e5a95528be', 'chain': ['dmei0p5', 'dmeix15'], 'status': 'success', 'split': 'train'}\n",
      "{'filename': 'b96c07a56da4475d897716b4e9f812ad', 'chain': ['dmlnbym', 'dmlni70', 'dmlnx0c', 'dmlphhl'], 'status': 'success', 'split': 'train'}\n",
      "{'filename': '0b2bf6a0c3544413810b87fb31a614b6', 'chain': ['dmeidlf', 'dmeijrk', 'dmeixu1'], 'status': 'success', 'split': 'test'}\n",
      "{'filename': '3007ef8ca05745d484d35e6ef0b9e7b4', 'chain': ['dmlfzxz', 'dmlm9y2', 'dmlnbeh', 'dmlttfp', 'dmlujmn', 'dmm0u7c', 'dmm3ifs', 'dmn7ggu', 'dmn7nd2', 'dmnaxvs'], 'status': 'success', 'split': 'train'}\n",
      "{'filename': 'a7910db661c047d9b1666c1b1fc5aac6', 'chain': ['dmei3mf', 'dmej0ng'], 'status': 'success', 'split': 'train'}\n",
      "{'filename': '59f93eccda8e4e6a90be00019c65fc48', 'chain': ['dmei0oj', 'dmej1go'], 'status': 'success', 'split': 'train'}\n",
      "{'filename': '871b6047f10d4505967ea7b9a0254fb6', 'chain': ['dnejwds', 'dnek81b', 'dnenbmm', 'dnetprb', 'dnets8x', 'dneu8uu', 'dnev6f9', 'dney9yq', 'dnezl1d'], 'status': 'success', 'split': 'val'}\n",
      "{'filename': 'edf37bcb324a4a4c83c44a17c02aca59', 'chain': ['dnnpl45', 'dnnqt1p', 'dnnr2c5'], 'status': 'success', 'split': 'train'}\n",
      "{'filename': '3b153399bf7f41d59c9b75b5c10d2e13', 'chain': ['dnkll3d', 'dnmhk62', 'dnmhtjp', 'dnnzyld', 'dno4ogn'], 'status': 'success', 'split': 'test'}\n",
      "{'filename': 'ca077b0494c54bacac510d758ec7d65f', 'chain': ['dmei1l5', 'dmeinx1', 'dmej4jm'], 'status': 'success', 'split': 'train'}\n",
      "{'filename': '443b6a9530514ac0a6fe1a6e84a3e9f9', 'chain': ['dmeip3b', 'dmej585'], 'status': 'success', 'split': 'train'}\n",
      "{'filename': 'a004ddd19fd74f1fb34c337d9c2b2276', 'chain': ['dmeip3b', 'dmej585'], 'status': 'success', 'split': 'train'}\n",
      "{'filename': '683cce7fa478443b851f38ff4be3e046', 'chain': ['dmeip3b', 'dmej585'], 'status': 'success', 'split': 'train'}\n",
      "{'filename': 'fcfc8eb5e3b044c78a11f55279910edf', 'chain': ['dmeip3b', 'dmej585'], 'status': 'success', 'split': 'train'}\n",
      "{'filename': 'e8dd6f4720e84d6b9189b6da8d91b122', 'chain': ['dmeitmv', 'dmej8jn'], 'status': 'success', 'split': 'train'}\n",
      "{'filename': '04c931a0270d48aabcd37053c533d823', 'chain': ['dmnd3o6', 'dmnea9z', 'dmnge4m', 'dmoyi3q', 'dmp01bc', 'dmp6u05'], 'status': 'success', 'split': 'train'}\n",
      "{'filename': '25d2ba2c781b407b94452e7144d70176', 'chain': ['dnq8s9b', 'dnq8u86', 'dnq93j7'], 'status': 'success', 'split': 'val'}\n",
      "{'filename': '8207df56e78b434085c3f4ff41e94342', 'chain': ['dmehqb0', 'dmej8x8'], 'status': 'success', 'split': 'train'}\n",
      "{'filename': 'fd472efdf2794728b84582eaca1625aa', 'chain': ['dmeig27', 'dmeimee', 'dmej9h4'], 'status': 'success', 'split': 'train'}\n",
      "{'filename': '391163bc69d649a68f4d092d030c0fea', 'chain': ['dmeii92', 'dmejd5f'], 'status': 'success', 'split': 'test'}\n",
      "{'filename': '47de9ec91113476c94149773170c4402', 'chain': ['dmeiqj1', 'dmej7ou', 'dmejh47'], 'status': 'success', 'split': 'train'}\n",
      "{'filename': 'e6e8b217c5f24cbf9d311032e2f15cb0', 'chain': ['dmeiji5', 'dmejiop'], 'status': 'success', 'split': 'train'}\n",
      "{'filename': 'f9d89c994dae4801b609634067336fe4', 'chain': ['dmq51xh', 'dmqe1ww', 'dmqe480'], 'status': 'success', 'split': 'test'}\n",
      "{'filename': 'fca9750f5b5d4692a103060ba1a7236f', 'chain': ['dmydmbh', 'dmye0ts'], 'status': 'success', 'split': 'train'}\n",
      "{'filename': '7d1d0773fa1e48318beca0ba97eacbd6', 'chain': ['dmke1r9', 'dmkjhmr', 'dmldtu8', 'dmlgfbh', 'dmlhtu5', 'dmlirop'], 'status': 'success', 'split': 'train'}\n",
      "{'filename': 'c6ac3f7888e249c7b30ef0a55de82bf7', 'chain': ['dng3kyt', 'dnjtq34'], 'status': 'success', 'split': 'train'}\n",
      "{'filename': 'b7e2174118e349b4bbec27142c6f5203', 'chain': ['dnn3w1s', 'dnn50hy'], 'status': 'success', 'split': 'train'}\n",
      "{'filename': '073b91ea7c1542bbb39cf9561c038a6e', 'chain': ['dnc04qq', 'dnc2x0x', 'dncafx1', 'dnchx9z', 'dncpqy2'], 'status': 'success', 'split': 'train'}\n",
      "{'filename': 'f511c0a30dff490ba2fbb2225c252d40', 'chain': ['dmehpgx', 'dmeinfl', 'dmejaln', 'dmejv3l'], 'status': 'success', 'split': 'train'}\n",
      "{'filename': '857ac190f6fe4995bf6f547c25d09bf3', 'chain': ['dmejv1c', 'dmejv6r'], 'status': 'success', 'split': 'train'}\n",
      "{'filename': 'cd615fbbd8624c7ca490116bedbffa77', 'chain': ['dn75p2p', 'dn7d4hk', 'dn7de37', 'dn7dyy3', 'dn7eq6a', 'dn7i46g', 'dn7qcdz'], 'status': 'success', 'split': 'val'}\n",
      "{'filename': '0913483ba8074f36bfa1ee21682801ad', 'chain': ['dmejwfv', 'dmejwjg'], 'status': 'success', 'split': 'train'}\n",
      "{'filename': '8331af8f449c47aeb86edc055021f25a', 'chain': ['dnlyhlv', 'dnlypi6', 'dnlz28r', 'dnlznfd', 'dnm02c7', 'dnm0giy', 'dnm19ie', 'dnm1qme', 'dnm2iqm', 'dnm2uhl', 'dnm3hn8', 'dnm3tss', 'dnm4r61', 'dnm512s', 'dnm6n06', 'dnm6vbx', 'dnm7yya', 'dnmlq02', 'dnmmo5j', 'dnmn1ke', 'dnmv4y5', 'dnmwa75', 'dnn1yek', 'dnn2q6w'], 'status': 'success', 'split': 'train'}\n",
      "{'filename': 'f67e4c731d2d4f348be4194ca01c07f0', 'chain': ['dmej90u', 'dmejyzm'], 'status': 'success', 'split': 'train'}\n",
      "{'filename': '4e863269d2bc4f229d6b699b3aad72eb', 'chain': ['dmehrwt', 'dmejrb7', 'dmejzjp'], 'status': 'success', 'split': 'train'}\n",
      "{'filename': 'b585b3f910c64ccc90e75a4b2d5bf04f', 'chain': ['dmw85yo', 'dmwac7f', 'dmxcifg', 'dmxm5wp'], 'status': 'success', 'split': 'train'}\n",
      "{'filename': 'a94f5c2327d74f9b9ec59e55fbe6c119', 'chain': ['dmek19y', 'dmek1hm'], 'status': 'success', 'split': 'train'}\n",
      "{'filename': '4385c4bdcdea40c4977b350b0afa22f1', 'chain': ['dnpo92i', 'dnppixa', 'dnppus2', 'dnpq41q', 'dnpsy5i', 'dnptjei', 'dnpv1zs', 'dnpw7bt'], 'status': 'success', 'split': 'train'}\n",
      "{'filename': '997bae9ca9c1493fbfc3f9fe32d965f7', 'chain': ['dmek19y', 'dmek1hm'], 'status': 'success', 'split': 'train'}\n",
      "{'filename': '9adcaa61a58d48189d065a92e7b2a7b0', 'chain': ['dmejp9h', 'dmek20b'], 'status': 'success', 'split': 'train'}\n",
      "{'filename': '7fdcf90c4b404fe785fde380f58cc5af', 'chain': ['dmek6n6', 'dmek6tk'], 'status': 'success', 'split': 'train'}\n",
      "{'filename': '71aa4b9f6a16417eab8f46c669e03930', 'chain': ['dmehqpp', 'dmeic6z', 'dmek7rr'], 'status': 'success', 'split': 'train'}\n",
      "{'filename': 'a8b32398b4094666ba34575e252a95e8', 'chain': ['dmek0i2', 'dmek9f4'], 'status': 'success', 'split': 'train'}\n",
      "{'filename': 'c8d3676239b64ecb860f99f81d3b1ede', 'chain': ['dmr8bat', 'dmrb1y7', 'dmrdfcw'], 'status': 'success', 'split': 'train'}\n",
      "{'filename': '9eb30f6d7fec469693661c3da4686f76', 'chain': ['dn5bq7o', 'dn5bqas'], 'status': 'success', 'split': 'train'}\n",
      "{'filename': '7846274ebebf48aca44b2865895362e6', 'chain': ['dmekev3', 'dmekez5'], 'status': 'success', 'split': 'train'}\n",
      "{'filename': '7fdb5625c7d448e4a200ffff528ae881', 'chain': ['dmeiunw', 'dmej52c', 'dmejeg1', 'dmejxcs', 'dmek2jz', 'dmek8gu', 'dmekfmv'], 'status': 'success', 'split': 'train'}\n",
      "{'filename': '1877a72044eb490f8f203decb0f897a1', 'chain': ['dnhjip0', 'dnhqgi9', 'dnhro11', 'dnhrxqk', 'dnhtuh0', 'dnhuczf', 'dnhuqt6', 'dnhw9fc', 'dnimbnj'], 'status': 'success', 'split': 'train'}\n",
      "{'filename': '39b3d133876a49b996ce1aa1eee63112', 'chain': ['dmek0a4', 'dmekjdh'], 'status': 'success', 'split': 'train'}\n",
      "{'filename': 'e147b19fd7a0465d8cd2066a09a95dca', 'chain': ['dnb04ov', 'dnbxcrr', 'dnbxhbm'], 'status': 'success', 'split': 'train'}\n",
      "{'filename': '48bfbb97c51043b6b21cd3033e8d85f5', 'chain': ['dnixw7v', 'dniyd0e', 'dniyi0y'], 'status': 'success', 'split': 'val'}\n",
      "{'filename': '22c2ca1b161d4513b4261455b8d20d62', 'chain': ['dmeill8', 'dmejylf', 'dmek4hu', 'dmekkqi'], 'status': 'success', 'split': 'train'}\n",
      "{'filename': '6259378fe9104a9f8eed29fb87c5c0f1', 'chain': ['dmehyu1', 'dmejj9d', 'dmeklu9'], 'status': 'success', 'split': 'train'}\n",
      "{'filename': 'effd64f06a994b4eb7b5f4993be8cd7f', 'chain': ['dnj2zby', 'dnji823', 'dnjjy7l', 'dnjlar8'], 'status': 'success', 'split': 'train'}\n",
      "{'filename': 'dd109afd9d1c4e58961ecbc8507d0a24', 'chain': ['dmv308l', 'dmv7rw1', 'dmv81uh', 'dmva5jp', 'dmvl0mm', 'dmwajlw', 'dmwcym2', 'dmwdyle'], 'status': 'success', 'split': 'train'}\n",
      "{'filename': 'e437f3be529647a4b5cde18255ed3924', 'chain': ['dmekejc', 'dmeldbr'], 'status': 'success', 'split': 'train'}\n",
      "{'filename': '7552df07b1eb4eee906bf097abd443f1', 'chain': ['dmejzh9', 'dmekahd', 'dmekrjz'], 'status': 'success', 'split': 'train'}\n",
      "{'filename': 'f7a7b160e6eb43398d76a56b7e0fd075', 'chain': ['dmekkz0', 'dmeks9y'], 'status': 'success', 'split': 'train'}\n",
      "{'filename': 'cda1ad582f3a426d885e78dffac680d5', 'chain': ['dmehq04', 'dmejbn7', 'dmekj2j', 'dmekshz'], 'status': 'success', 'split': 'train'}\n",
      "{'filename': '6acb3f6a33bb454393dfc9b764d34c1b', 'chain': ['dmehq04', 'dmejbn7', 'dmekj2j', 'dmekshz'], 'status': 'success', 'split': 'val'}\n",
      "{'filename': '0d80168fb44a490ea5b8299379be1975', 'chain': ['dnf5nqi', 'dnf8d4b', 'dnfbrog', 'dnfeer5', 'dnfhrs4', 'dnfi2rc', 'dnfii0e', 'dnfiw7e', 'dnfjb89'], 'status': 'success', 'split': 'train'}\n"
     ]
    }
   ],
   "source": [
    "for url in url_file_map:\n",
    "    if 'status' not in url_file_map[url] or url_file_map[url]['status'] == \"failure\": continue\n",
    "    print(url_file_map[url])"
   ]
  }
 ],
 "metadata": {
  "interpreter": {
   "hash": "31f2aee4e71d21fbe5cf8b01ff0e069b9275f58929596ceb00d14d90e3e16cd6"
  },
  "kernelspec": {
   "display_name": "Python 3.8.10 64-bit",
   "language": "python",
   "name": "python3"
  },
  "language_info": {
   "codemirror_mode": {
    "name": "ipython",
    "version": 3
   },
   "file_extension": ".py",
   "mimetype": "text/x-python",
   "name": "python",
   "nbconvert_exporter": "python",
   "pygments_lexer": "ipython3",
   "version": "3.8.10"
  },
  "orig_nbformat": 4
 },
 "nbformat": 4,
 "nbformat_minor": 2
}
