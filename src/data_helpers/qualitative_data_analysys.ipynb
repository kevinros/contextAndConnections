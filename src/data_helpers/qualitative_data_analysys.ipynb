{
 "cells": [
  {
   "cell_type": "code",
   "execution_count": 44,
   "metadata": {},
   "outputs": [],
   "source": [
    "import pickle\n",
    "import json"
   ]
  },
  {
   "cell_type": "code",
   "execution_count": 45,
   "metadata": {},
   "outputs": [],
   "source": [
    "src_train = pickle.load(open('../data/encoded_queries_train.pkl', 'rb'))\n",
    "src_dev = pickle.load(open('../data/encoded_queries_dev.pkl', 'rb'))\n",
    "\n",
    "raw_websites = json.load(open('../data/RC_2009-05_webpages.json', 'r'))\n",
    "\n",
    "\n",
    "corpus_text = []\n",
    "with open('../data/websites/bow_websites.jsonl', 'r') as f:\n",
    "    for line in f:\n",
    "        corpus_text.append(json.loads(line))\n",
    "\n",
    "src_dev_text = open('../data/bow_queries_dev.tsv', 'r').read().splitlines()\n",
    "\n",
    "\n",
    "corpus = pickle.load(open('../data/encoded_websites.pkl', 'rb'))\n",
    "\n",
    "\n",
    "relevance_scores = open('../data/relevance_scores.txt', 'r')\n",
    "query_webpage_map = {}\n",
    "for line in relevance_scores:\n",
    "    split_line = line.split()\n",
    "    query_webpage_map[int(split_line[0])] = int(split_line[2])\n"
   ]
  },
  {
   "cell_type": "code",
   "execution_count": 46,
   "metadata": {},
   "outputs": [
    {
     "data": {
      "text/plain": [
       "{'query_id': 5335,\n",
       " 'encoding': tensor([[ 0.0080,  0.0120, -0.0139,  ..., -0.0024,  0.0485, -0.0249],\n",
       "         [ 0.0336,  0.0337,  0.0075,  ...,  0.0383,  0.0492,  0.0096]],\n",
       "        device='cuda:0')}"
      ]
     },
     "execution_count": 46,
     "metadata": {},
     "output_type": "execute_result"
    }
   ],
   "source": [
    "src_dev[0]"
   ]
  },
  {
   "cell_type": "code",
   "execution_count": 47,
   "metadata": {},
   "outputs": [
    {
     "data": {
      "text/plain": [
       "'5335\\twhat a world it would be without Murdock. [Murdock]( )[Murdoch](http://en.wikipedia.org/wiki/Rupert_Murdoch)'"
      ]
     },
     "execution_count": 47,
     "metadata": {},
     "output_type": "execute_result"
    }
   ],
   "source": [
    "src_dev_text[0]"
   ]
  },
  {
   "cell_type": "code",
   "execution_count": 49,
   "metadata": {},
   "outputs": [
    {
     "data": {
      "text/plain": [
       "200"
      ]
     },
     "execution_count": 49,
     "metadata": {},
     "output_type": "execute_result"
    }
   ],
   "source": [
    "query_webpage_map[5335]"
   ]
  },
  {
   "cell_type": "code",
   "execution_count": 50,
   "metadata": {},
   "outputs": [
    {
     "name": "stdout",
     "output_type": "stream",
     "text": [
      "{'id': 200, 'contents': 'List of characters from the American TV show The A-TeamThis article lists the characters created for the popular 1980s American action-adventure television series The A-Team and its 2010 film adaptation as well as other media appearances.The A-Team. Clockwise from top: Murdock, B. A. Baracus, Hannibal and Faceman.George Peppard as Ex-United States Army Special Forces Commando Lieutenant-Colonel/Colonel John \"Hannibal\" Smith (1983–1987)John \"Hannibal\" Smith is the leader of the A-Team. He is a brilliant tactician and a master of disguise. Hannibal is distinguished by his cigar smoking, black gloves, disguises, and his catch phrase, \"I love it when a plan comes together.\" Always \"on the jazz\" (a phrase coined by B.A., meaning that Hannibal thrives on adventure and life-threatening situations), he seems to genuinely enjoy every situation they get into. He also works as an actor, playing monsters in low-budget horror movies. He is portrayed by Liam Neeson in the film adaptation and voiced by David Lodge in Lego Dimensions.Dirk Benedict as Ex-United States Army Special Forces Commando First Lieutenant Arthur Templeton \"Faceman\" Peck (1983–1987)Templeton \"Face(man)\" Peck was suave, smooth-talking, and hugely successful with women. Serving as the team\\'s con man and scrounger, he is able to get his hands on just about anything they need. He is the one who arranges for supplies, equipment, and sensitive information using numerous scams and hustles. Raised in a Christian orphanage, Face has respect for the church. Amy and Murdock give some insight into Face\\'s true character; while Face has a good heart, he fears commitment. In Season Five, Face\\'s birth name is revealed to actually be Richard Bancroft; his father left him and his mother, who died shortly afterwards. Tim Dunigan played this role in the pilot episode. He is later portrayed by Bradley Cooper in the film adaptation and voiced by Sam Riegel in Lego Dimensions.Dwight Schultz as Ex-United States Army Pilot Captain H.M. \"Howling Mad\" Murdock (1983–1987)H.M. \"Howling Mad\" Murdock was the best chopper pilot, as well as flying fixed wing aircraft, of the Vietnam War who is either mentally unstable or exceptionally good at pretending to be so. Although he was their pilot on the Hanoi bank raid, he was not officially part of the A-Team and so not tried by the military. Though interned at a psychiatric hospital, he routinely escapes easily to accompany the A-Team on their missions & became Hannibal\\'s second-in-command. The symptoms of his \"insanity\" varies from episode to episode, but generally includes self-identification with fictional characters, hallucinations, belief in the \"intelligence\" of inanimate objects, among others. He frequently refers to his invisible dog, \"Billy.\" Unlike B.A., the initials \"H.M.\" were never explained in terms of Murdock\\'s actual name, and the nickname \"Howlin\\' Mad\" is simply attributed to him. He was permanently discharged from the hospital in the fifth season. He is portrayed by Sharlto Copley in the film adaptation, where he also identifies himself as an Army Ranger. Dwight Schultz reprised him in Lego Dimensions.Mr. T as Ex-United States Army Special Forces Commando Sergeant First Class Bosco Albert \"B. A.\" (Bad Attitude) Baracus (1983–1987)Bosco Albert \"B.A.\" Baracus is a highly skilled mechanic and the A-Team\\'s regular Mr. Fix-It as well as being the team\\'s master at arms. His character is basically that of the public persona of Mr. T himself. He is a skilled fighter and is easily roused to anger, earning him the nickname \"Bad Attitude\". Despite his reputed attitude, he is a very nice guy at heart. He has a special fondness for children and never drinks alcohol, preferring milk instead. He is frequently perturbed by Murdock, whom he often refers to as a \"crazy fool.\" He suffers an intense fear of flying, especially when the plane in question is flown by Murdock. This difficulty is often overcome by other members of the team drugging him, or otherwise rendering him unconscious, so he can be transported without objection; he has the unusual habit of falling on car horns when knocked out. He is portrayed by Quinton \"Rampage\" Jackson in the film adaptation and by Dave Fennoy in Lego Dimensions.Melinda Culea as Journalist/Reporter Amy Amanda \"Triple A\" Allen (1983)Amy Allen was an intrepid reporter for the L.A. Courier paper who joined the team in its pilot episode. At the end of the pilot, Hannibal comments on how her initials are \"Triple A\", but while much of the publicity surrounding the series used this name, it was never really used again in the show itself, with a company set up by the Team in the first season episode \"The Out-Of-Towners\" called \"Triple-A\\'s\" being its only other appearance in the actual series (and even this was only referenced visually, with no acknowledgment to it in the dialogue). The character\\'s boss is Grant Eldridge (Philip Sterling), seen in the first half of the pilot, and in the first season episode \"Holiday In The Hills\". Amy has a best friend at the Courier, Zach (Ron Palillo), although he is only seen in the pilot and never referred to again.Amy was written out of the show in the middle of the second season, as a result of a conflict between Culea and the production team. After being featured prominently in the pilot story, the character had little impact in many of the following episodes, causing Culea to become increasingly unhappy with the role and wanting more to do, such as taking part in the Team\\'s frequent fights with bad guys.[1] It\\'s also said[2] that the fact that George Peppard didn\\'t like her, feeling that the show didn\\'t need a female lead, also had an effect. There are conflicting reports over whether Culea eventually left on her own accord, or if she was fired as a result of her continual pushing for more to do in the show. The latter is the more commonly accepted reason, and an oft-cited tale is that Culea found out about her firing when she was given a script and found out she was not included in the episode. In replacement Tawnia Baker\\'s first episode, \"The Battle of Bel Air\", Amy is reportedly \"on foreign correspondent duty\" in Jakarta. She is voiced by Erica Lindbeck in Lego Dimensions.Marla Heasley as Journalist/Reporter Tawnia Baker (1984–1985)Tawnia (misspelled as Tanya on a computer screen in the character\\'s introductory episode \"The Battle Of Bel Air\") was a relatively short-lived second-season replacement for Amy during late 1983\\xa0– early 1984. She was also a reporter who had heard of the team through Amy and helped the A-Team out a few times, although she never fully incorporated herself into the team, as Amy had done (reflected by the fact that she was never added to the opening credits, and was not present in two stories, \"Harder Than It Looks\" and \"Semi-Friendly Persuasion\", during her time in the series). The character was dropped in \"The Bend In The River\", the feature-length second story of the third season, again said to be much to do with Peppard\\'s insistence that the show didn\\'t need a female character, but was given the dignity of being written out properly, as she married explorer Brian Leftcourt (Barry Van Dyke), whom the Team had rescued from river pirates in the Amazon, and went on a round the world all expenses honeymoon. Marla Heasley had appeared in a small role previously in the second season, as Cherise in the episode \"Bad Time on the Border\".Tia was the half-Vietnamese daughter of latter 4th season antagonist General Fullbright. She was inducted into the team in \"The Sound of Thunder\", the finale to season 4, after the death of her father and her own wanted status in Vietnam and illegal status in the US. However, Carrere\\'s contractual obligations to General Hospital, made during a period when 5th season renewal for the series was uncertain, led to Tia vanishing from the story with no explanation or further mention.Eddie Velez as Frankie \"Dishpan Man\" Santana (1986–1987)Frankie Santana was a Puerto Rican special effects expert who helps the A-Team during the final season. He was blackmailed into joining the team by Gen. Stockwell after he and Murdock helped the team escape the firing squad. The character\\'s early script name was Frankie Sanchez, which filtered through to a number of coverage material. The character was also often given the nickname \"Dishpan Man\" (or simply \"Dishpan\") in much of the series\\' coverage, but while he was introduced as this in the fifth season opener, itself called \"Dishpan Man\", this nickname was very seldom used afterwards in the actual series. Frankie is unique as he refers to Hannibal Smith by his first name \\'Johnny\\' whilst the others would use his nickname Hannibal or his rank of Colonel. In \"The Theory of Revolution\" it is remarked that Frankie claimed to have served as a paratrooper although Murdock is skeptical of this given his unfamiliarity with the military 24hr time system. It is mentioned that he has a father in a nursing home in \"Trial By Fire\". Unlike Amy and Tawnia, Frankie makes full participation in action sequences and normally uses a Heckler and Koch P7 pistol.William Lucking as United States Army Military Police Colonel Francis Lynch (1983)Colonel Lynch was the Commander of Fort Bragg, which housed the stockade from which the team escaped. The Colonel pursued them throughout the first season. (He was mentioned to still be in pursuit of the team at the start of the second season, though was never actually seen). He seemed to have a personal vendetta against the A-Team (arrogant, ambitious, and not particularly bright, he viewed the Team\\'s escape as the biggest on-going blemish of his career) which, coupled with the fact that he never managed to capture them, led to his being taken off the case. He also made a surprise return to make one last effort at catching the team in the third season episode \"Showdown!.\"In the 2010 film adaptation, \"Lynch\" is revealed to be a moniker that many CIA agents take on. The most recent Lynch (revealed at the end to be Agent Vance Burress) is played by Patrick Wilson who intended to portray the role more seriously than Lucking\\'s comedic character. For the film, the character is changed from the Wile E. Coyote-type Army colonel of the original series to a mysterious and sinister corrupt CIA SAD operative. Burress is ultimately revealed to be the one that framed the A-Team. Following Burress\\'s arrest at the end of the film, Jon Hamm portrays an agent that takes him into CIA custody. When asked what his name is, the agent answers \"Lynch.\"In Lego Dimensions, Colonel Lynch (voiced by David Boat) appears and gives the players a quest to help him round up the B-Team.James Beach as United States Army Military Police Captain Stewart (1983)Lynch\\'s Aide from \"Mexican Slayride\", \"Holiday in the Hills\" and \"One More Time\".He reports to Lynch about the activities of the Team, such as when Hannibal and B.A picked up Amy at her apartment in \"Mexican Slayride\" and when Lynch sent in an undercover operative to follow Amy in \"Holiday in the Hills\".Lance LeGault as United States Army Military Police Colonel Roderick Decker (1984–1985)Roderick Decker was the second Colonel who tried to catch the team. He was picked for the job because of his unorthodox warfare techniques (it was revealed that in Vietnam, he was known for blowing up Viet Cong hospitals). Decker and Hannibal had a past, having gotten into a brawl at an officers\\' club in Vietnam. Decker was much more ruthless than Lynch, but also always got outsmarted. He equally despises and respects the A-Team, and Smith in particular, for their ingenuity and teamwork. Decker reappears in the fifth season episode \"Trial by Fire\" to testify against the A-Team.Carl Franklin as United States Army Military Police CaptainCaptain Crane is Decker\\'s right-hand man. He was much more naïve than Decker regarding the A-Team, and was often surprised at the team\\'s ability to evade them.Charles Napier as United States Army Military Police Colonel Briggs (1984)Briggs was the third Colonel who tried to catch the team but only appeared in one early season 3 episode (\"Fire\") before Colonel Decker returned. In reality the character was a temporary, one-off replacement (he even has very similar look and mannerisms to Decker) while Lance LeGault was filming an episode of Magnum, P.I., in which he also had a recurring role.W.K. Stratton as United States Army Military Police Captain Royce (1984)Briggs\\'s Aide in \"Fire\" and who temporary became Lynch\\'s Aide in his return appearance in \"Showdown\".Jack Ging as United States Army Military Police General Harlan \"Bull\" Fullbright (1985–1986)Harlan \"Bull\" Fullbright is a General who, once again, was determined to capture the team. In the season four finale \"The Sound of Thunder,\" he actually tracked down the team, but instead of turning them in, persuaded them to travel with him to Vietnam to try to find his long-lost offspring, not realizing he was being led into a trap; at the climax of the story the character is shot and killed. In his dying moments, Fullbright admitted to the team that he realized they were innocent, as they were willing to help him at any cost despite them being criminals on the run from him.Rod Stryker as United States Army Military Police Sergeant Case (1985–1986)Decker\\'s temporary Aide in \"Body Slam\" and later Fullbright\\'s main aide in \"Mind Games\", \"Members Only\" and \"Mission of Peace\".Robert Vaughn as (former United States Army General) Hunt Stockwell (1986–1987)Hunt Stockwell is the A-Team\\'s boss during the final season, who blackmailed the team into working on an undefined number of top-secret government missions in return for their supposed eventual pardon. He oversees an intelligence gathering network whose size is unknown. It is implied that he has operatives in many parts of the world. He also apparently has the ability to keep the military police and other law enforcement agencies from continuing to hunt the A-Team as they are working for him. By extension, Stockwell also has access to the resources to provide the team with a house in Washington, D.C. as well as whatever travel documents, currency, weapons and equipment they may require for an assignment. Nothing is known about his background and/or how he is connected to the intelligence community and to whom he is accountable. It is known that he must report in on a daily basis to the U.S. President or his entire network will disappear. This may imply that he answers only to the President. He is mysterious, unpredictable, manipulative, cold and in many respects emotionally detached. The team often feels that he is just using them for his own gains, leading them on with undefined terms for their supposed pardon (in the episode \"Alive At Five,\" Face tires of this and plans to go at it alone, although eventually decides to stay). Often Stockwell will send the team out on various missions, usually contacting them from his luxury jet, but occasionally will take a more hands-on approach (such as the episode \"Point Of No Return,\" when he leads the rest of the team to Hong Kong to find the missing Hannibal). His catch phrase was \"(I\\'m going to do this...) My way.\"Judith Ledford (sometimes as Judy Ledford) as Carla (1986–1987)Carla is General Stockwell\\'s assistant, and often the target of Face (and Frankie)\\'s unwanted advances. Seen for the first half of the final season, in the last few episodes several other assistants appeared in her place (Carla appears for the last time in \"Point Of No Return\").Guy Christopher as United States Army Colonel Samuel Morrison (1986)Samuel Morrison is the A-Team\\'s commanding officer during the Vietnam War. Morrison ordered them to rob the Bank of Hanoi to help bring the war to an end. They succeeded in their mission, but on their return to their base four days after the end of the war, they discovered that Morrison had been murdered by the National Front for the Liberation of Vietnam, or Viet Cong, and that his headquarters had been burned to the ground. This meant that the proof that the A-Team members were acting under orders had been destroyed, and they were sent to prison by a military court. They were sent to Fort Bragg, from which they quickly escaped before standing trial.In the 2010 film adaptation, Gerald McRaney portrays General Russell \"Russ\" Morrison. This updated version of the character isa close friend of Hannibal. Morrison describes Hannibal and his team as the greatest tactical asset he has ever had at his disposal. This seems to suggest that Hannibal and his men have been in Iraq for a significant amount of time under Morrison\\'s general command. Morrison reluctantly authorizes a covert mission for the team to steal the U.S. Treasury plates that Iraqi insurgents use to print currency. This currency, if released into the economy could do serious damage; this apparently is the reason Morrison authorizes the mission. Morrison wishes Hannibal \"good hunting, my friend\" and says that they will share a drink to celebrate if they succeed. Because the mission is covert, no written orders were ever recorded and for all appearances it is a renegade operation. The mission is successful, but when the team returns to base, the money, plates, and Morrison\\'s vehicle are destroyed by Brock Pike and his men from Black Forest, a private security team that does not answer to military jurisdiction. Because there is no evidence otherwise; the team is tried and convicted in a military court of conducting a rogue operation and is sentenced to 10 years in prison and Charissa Sosa is demoted. The team is subsequently broken up sent to different prisons. When the team reclaims the plates and kidnaps Pike\\'s backer who is simply described as an Arab, they learn that he is actually General Morrison, who worked with Lynch and Pike to steal the plates, but then teamed up with Pike to double-cross Lynch and fake his death. When Lynch learns that the team has Morrison, he orders an air strike and kills Morrison. The A-Team lets Lynch think that Morrison is still alive and uses this fiction to draw out Lynch.Charissa Sosa is Face\\'s former lover, who left him after he became serious about their relationship, though through interaction in the film it becomes apparent that she told people in the interim that he was the one who left. Sosa returns three years later as a DCIS captain and warns Face not to steal the plates used to manufacture currency. Deeply angered when his defiance leads to her demotion to first lieutenant, Sosa pursues the team for the majority of the film. In the film\\'s dénouement, she is promoted once again to captain. Angered by her superior arresting the A-Team for breaking out of prison to clear their names, she kisses Face and sneaks a key into his mouth for them to escape.Brock Pike is a leader of the private security firm Black Forest. He and his men frame the A-Team by destroying the money and plates they stole, along with General Morrison\\'s vehicle. It is later revealed that he worked with General Morrison and Lynch to steal the plates, but then teamed up with Morrison to double-cross Lynch and fake Morrison\\'s death. During Pike\\'s chase on the A-Team, he ends up caught by Sosa. Following Sosa\\'s attempt to interrogate him, Pike ends up in Lynch\\'s custody. Upon Lynch learning about him faking Morrison\\'s death, Pike agrees to help Lynch eliminate the A-Team and Morrison. When he gets impatient to the progress of the rogue CIA agents and decides to kill them himself, B.A. drops him on his head and breaks his neck.^ \"\\'The A-Team\\' TV series reboot is happening; new cast could include some women\". 7 October 2015.Retrieved from \"https://en.wikipedia.org/w/index.php?title=List_of_The_A-Team_characters&oldid=1080436556\"Categories: The A-Team charactersLists of fictional charactersTelevision characters introduced in 1984Hidden categories: Articles with short descriptionShort description is different from WikidataMain pageContentsCurrent eventsRandom articleAbout WikipediaContact usDonateHelpLearn to editCommunity portalRecent changesUpload fileWhat links hereRelated changesUpload fileSpecial pagesPermanent linkPage informationCite this pageWikidata itemThis page was last edited on 1 April 2022, at 08:14\\xa0(UTC).Text is available under the Creative Commons Attribution-ShareAlike License 3.0;By using this site, you agree to the Terms of Use and Privacy Policy. Wikipedia® is a registered trademark of the Wikimedia Foundation, Inc., a non-profit organization.'}\n"
     ]
    }
   ],
   "source": [
    "print(corpus_text[200])"
   ]
  },
  {
   "cell_type": "code",
   "execution_count": 51,
   "metadata": {},
   "outputs": [
    {
     "name": "stdout",
     "output_type": "stream",
     "text": [
      "5953\n",
      "5953\n"
     ]
    }
   ],
   "source": [
    "print(len(corpus))\n",
    "print(len(corpus_text))"
   ]
  }
 ],
 "metadata": {
  "interpreter": {
   "hash": "31f2aee4e71d21fbe5cf8b01ff0e069b9275f58929596ceb00d14d90e3e16cd6"
  },
  "kernelspec": {
   "display_name": "Python 3.8.10 64-bit",
   "language": "python",
   "name": "python3"
  },
  "language_info": {
   "codemirror_mode": {
    "name": "ipython",
    "version": 3
   },
   "file_extension": ".py",
   "mimetype": "text/x-python",
   "name": "python",
   "nbconvert_exporter": "python",
   "pygments_lexer": "ipython3",
   "version": "3.8.10"
  },
  "orig_nbformat": 4
 },
 "nbformat": 4,
 "nbformat_minor": 2
}
