{
 "cells": [
  {
   "cell_type": "code",
   "execution_count": 9,
   "metadata": {},
   "outputs": [],
   "source": [
    "import pickle\n",
    "import json\n",
    "from urllib.parse import urlparse"
   ]
  },
  {
   "cell_type": "code",
   "execution_count": 2,
   "metadata": {},
   "outputs": [],
   "source": [
    "src_train = pickle.load(open('data/encoded_queries_train.pkl', 'rb'))\n",
    "src_dev = pickle.load(open('data/encoded_queries_dev.pkl', 'rb'))\n",
    "src_test = pickle.load(open('data/encoded_queries_test.pkl', 'rb'))\n",
    "\n",
    "corpus = pickle.load(open('data/encoded_websites.pkl', 'rb'))"
   ]
  },
  {
   "cell_type": "code",
   "execution_count": 3,
   "metadata": {},
   "outputs": [],
   "source": [
    "webpage_id_map = {}\n",
    "for i,webpage_id in enumerate(corpus):\n",
    "    webpage_id_map[i] = webpage_id"
   ]
  },
  {
   "cell_type": "code",
   "execution_count": 4,
   "metadata": {},
   "outputs": [
    {
     "name": "stdout",
     "output_type": "stream",
     "text": [
      "Number of training:  5335\n",
      "Number of dev:  667\n",
      "Number of test:  667\n",
      "Number of websites:  5953\n"
     ]
    }
   ],
   "source": [
    "print('Number of training: ', len(src_train))\n",
    "print('Number of dev: ', len(src_dev))\n",
    "print('Number of test: ', len(src_test))\n",
    "print('Number of websites: ', len(webpage_id_map))"
   ]
  },
  {
   "cell_type": "code",
   "execution_count": 12,
   "metadata": {},
   "outputs": [
    {
     "name": "stdout",
     "output_type": "stream",
     "text": [
      "5953\n",
      "[('en.wikipedia.org', 5659), ('news.bbc.co.uk', 169), ('www.cnn.com', 62), ('www.bbc.co.uk', 19), ('edition.cnn.com', 13), ('money.cnn.com', 10), ('fr.wikipedia.org', 5), ('www.google.com', 2), ('translate.google.com', 2), ('vault.sportsillustrated.cnn.com', 2), ('de.wikipedia.org', 2), ('simple.wikipedia.org', 2), ('www.google.co.uk', 1), ('start.mozilla.org', 1), ('ja.wikipedia.org', 1), ('en.wikipedia.org.', 1), ('web.archive.org', 1), ('lmgtfy.com', 1)]\n"
     ]
    }
   ],
   "source": [
    "urls = json.load(open('data/RC_2009-05_webpages.json', 'r'))\n",
    "domains = {}\n",
    "print(len(urls))\n",
    "for url in urls:\n",
    "    try:\n",
    "        domain = urlparse(url).netloc\n",
    "    except:\n",
    "        print(url)\n",
    "    if domain not in domains:\n",
    "        domains[domain] = 0\n",
    "    domains[domain] += 1\n",
    "\n",
    "sorted_domains = sorted([(domain, domains[domain]) for domain in domains], reverse=True, key=lambda x: x[1])\n",
    "print(sorted_domains)"
   ]
  }
 ],
 "metadata": {
  "interpreter": {
   "hash": "916dbcbb3f70747c44a77c7bcd40155683ae19c65e1c03b4aa3499c5328201f1"
  },
  "kernelspec": {
   "display_name": "Python 3.8.10 64-bit",
   "language": "python",
   "name": "python3"
  },
  "language_info": {
   "codemirror_mode": {
    "name": "ipython",
    "version": 3
   },
   "file_extension": ".py",
   "mimetype": "text/x-python",
   "name": "python",
   "nbconvert_exporter": "python",
   "pygments_lexer": "ipython3",
   "version": "3.8.10"
  },
  "orig_nbformat": 4
 },
 "nbformat": 4,
 "nbformat_minor": 2
}
