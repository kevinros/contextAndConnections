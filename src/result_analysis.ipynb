{
 "cells": [
  {
   "cell_type": "code",
   "execution_count": 1,
   "metadata": {},
   "outputs": [],
   "source": [
    "from eval import eval\n",
    "import json\n",
    "import pickle"
   ]
  },
  {
   "cell_type": "code",
   "execution_count": 2,
   "metadata": {},
   "outputs": [],
   "source": [
    "### load general data\n",
    "relevance_scores = eval.load_rel_scores('data_2017-09/queries/relevance_scores.txt')\n",
    "url_file_map = pickle.load(open('data_2017-09/url_file_map.pkl', 'rb'))\n",
    "file_url_map = {url_file_map[url]['filename']: url for url in url_file_map}"
   ]
  },
  {
   "cell_type": "code",
   "execution_count": 3,
   "metadata": {},
   "outputs": [],
   "source": [
    "### load run-specific data\n",
    "\n",
    "# full\n",
    "queries_full = eval.load_query_ids('data_2017-09/queries/queries_val.tsv')\n",
    "bm25_full = eval.load_run('out/bm25_runs/v2_run.val_8_0.99.txt')\n",
    "semantic_full = eval.load_run('out/semantic_runs/v2_run.val_full_msmarco-distilbert-cos-v5.txt')\n",
    "semantic_finetune_full = eval.load_run('out/semantic_finetune_runs/train_bi-encoder-mnrl-msmarco-distilbert-cos-v5-queries-2022-06-01_12-04-50/eval/run.val_full.txt')\n"
   ]
  },
  {
   "cell_type": "code",
   "execution_count": 58,
   "metadata": {},
   "outputs": [],
   "source": [
    "def load_webpage_text(name):\n",
    "    webpage = json.load(open('data_2017-09/webpages/' + name + '.json', 'r'))\n",
    "    return webpage['contents'][:1000]"
   ]
  },
  {
   "cell_type": "code",
   "execution_count": 36,
   "metadata": {},
   "outputs": [],
   "source": [
    "def find_differences(relevance_scores, run1, run2):\n",
    "    infirst = []\n",
    "    insecond = []\n",
    "    inboth = []\n",
    "    for query_id in run1:\n",
    "        ground_truth = relevance_scores[query_id]\n",
    "        if ground_truth in run1[query_id] and ground_truth not in run2[query_id]:\n",
    "            infirst.append(query_id)\n",
    "        if ground_truth in run2[query_id] and ground_truth not in run1[query_id]:\n",
    "            insecond.append(query_id)\n",
    "        if ground_truth in run1[query_id] and ground_truth in run2[query_id]:\n",
    "            inboth.append(query_id)\n",
    "    all_found = set(infirst).union(set(insecond)).union(set(inboth))\n",
    "    missing = list(set(list(run1.keys())).difference(all_found))\n",
    "    return infirst, insecond, missing\n",
    "        "
   ]
  },
  {
   "cell_type": "code",
   "execution_count": 37,
   "metadata": {},
   "outputs": [
    {
     "data": {
      "text/plain": [
       "11092"
      ]
     },
     "execution_count": 37,
     "metadata": {},
     "output_type": "execute_result"
    }
   ],
   "source": [
    "inbm25, insemanticfinetune, missing = find_differences(relevance_scores, bm25_full, semantic_finetune_full)\n",
    "len(inbm25) + len(insemanticfinetune) + len(missing)"
   ]
  },
  {
   "cell_type": "markdown",
   "metadata": {},
   "source": [
    "Observations of full missed by both bm25 and semantic finetune (missing[:10])\n",
    "\n",
    "1. '54110' --> BLM description / debate. even though missed still relevant. bm25 --> news articles about police and protests. semantic finetune --> wikipedia pages about individuals shot by police officers. \n",
    "2. '31481' --> about computer memory. Both returned somewhat relevant wiki pages. but induced demand is missed, possibly because the last comment is the url alone\n",
    "3. '9643' --> cows and visions and colors. semantic finetune way off with mad cow disease. but bm25 gives color blindness and vision test examples. Many results with fragments. Likely artificially decreases scores, especially with wikipedia. More preprocessing needed.\n",
    "4. '150732' --> trump wiretap. all results about wiretap. interestingly, they are all news articles. Top may be missed because a bit of irrelevant meta text at top of article. More preprocessing needed\n",
    "5. '47250' --> trump exec actions but talking about veteren stuff. Mentioned in passing and a long comment. Difficult to recognize as a human that the url was there. \n",
    "6. '62920' --> england and countries. bm25 takes it literally and finds country wikipedia. semantic finetune finds articles based on urls already in comments (e.g.,Montevideo_Convention )"
   ]
  },
  {
   "cell_type": "markdown",
   "metadata": {},
   "source": [
    "Observations of last missed by both bm25 and semantic finetune ()"
   ]
  },
  {
   "cell_type": "code",
   "execution_count": 69,
   "metadata": {},
   "outputs": [
    {
     "name": "stdout",
     "output_type": "stream",
     "text": [
      "Query:  Legal/political fallout - none. It was done with a warrant, which means that there was enough evidence to convince a judge to sign the warrant. If the Trump administration wants to try to make political hay about it, they are going to be going to bat for someone that is about to indicted (according to a new NY Times story), and that won't look so good. It certainly doesn't vindicate Trump, who was trying to paint the picture of a Nixonian/Watergate sort of scandal to spy on his campaign when he claimed that he and Trump Tower were the targets of wiretapping, though he should probably be worried about any conversations he had with Manafort during that time. So, smoking gun? It remains to be seen. <C> &gt;It was done with a warrant, which means that there was enough evidence to convince a judge to sign the warrant. Well, no. The issue was never just that a judge issued warrants for Russia witch hunt wiretaps (though many of us strongly suspect DNC meddling in that). The issue was that political appointees in the Obama administration were unmasking the names of Trump employees 'incidentally' caught on wiretap and were sharing that information with the corrupt DNC and the media. That being said, I don't think this will change much, because it's not news. As much as Hillary and Obama tried to kill the story, it's been known for months that Trump Tower was wiretapped. It's just hitting the media now because *someone* - probably someone whose book tour is a complete bust - feels like now is a good time to try and make Trump look bad. Because it's not like we have any real problems going on with North Korea or hurricane season or so on that a more patriotic opposition party might leave Our President to handle with a stab-free back...\n",
      "\n",
      "http://www.businessinsider.com/susan-rice-trump-unmask-intelligence-wiretap-2017-4 c8c3efbf24b640c3b8e84e8b0a9c997d\n",
      "\t Susan Rice Tried to 'Unmask' Trump Associates, Report SaysA vertical stack of three evenly spaced horizontal lines.A magnifying glass. It indicates, \"Click to perform a search\".An icon in the shape of a person's head and shoulders. It often indicates a user profile.An icon in the shape of a person's head and shoulders. It often indicates a user profile.Two crossed lines that form an 'X'. It indicates a way to close an interaction, or dismiss a notification.It indicates an expandable section or menu, or sometimes previous / next navigation options.An icon in the shape of a person's head and shoulders. It often indicates a user profile.It indicates an expandable section or menu, or sometimes previous / next navigation options.We now have a better idea who's behind 'unmasking' Trump officials' contact with foreign agents — and whyAn envelope. It indicates the ability to send an email.An image of a chain link. It symobilizes a website link url.Former National Security Adviser Susan Rice re\n",
      "https://www.usatoday.com/story/news/politics/2017/09/02/doj-confirms-no-evidence-supporting-trump-claim-obama-wiretapped-him/628758001/ a28b6f6fb31b403ea8b4bd810a8178be\n",
      "http://www.businessinsider.com/justice-department-no-evidence-obama-wiretapped-trump-tower-2017-9 85720afc2cc84e46afb65c301a1937fa\n",
      "http://www.businessinsider.com/justice-department-no-evidence-obama-wiretapped-trump-tower-2017-9?IR=T 5a0dc90572e04e89b641093da5564d05\n",
      "http://www.foxnews.com/politics/2017/09/18/former-trump-campaign-chair-paul-manafort-wiretapped-by-us-investigators-report-says.html 084b607778e14c1590d8de1f7c25eecb\n",
      "http://www.independent.co.uk/news/world/americas/us-politics/trump-obama-wiretap-claim-no-evidence-tweets-department-of-justice-a7926561.html 756ba8933ee0439aab0d8fcd9ba04a19\n",
      "http://www.cnn.com/2017/09/18/politics/paul-manafort-government-wiretapped-fisa-russians/index.html 692fd915845b4681ab235de8a8065066\n",
      "http://www.cnn.com/2017/09/18/politics/paul-manafort-government-wiretapped-fisa-russians/index.html?adkey=bn ce274cf0c49946e0bfae78c50960a0d7\n",
      "http://www.independent.co.uk/news/world/americas/us-politics/donald-trump-russia-probe-staff-advisers-hung-out-to-dry-hillary-clinton-a7950246.html a8a39d4d4a7644cc993cb2786542f751\n",
      "http://www.foxnews.com/politics/2017/09/02/doj-no-evidence-trump-tower-was-wiretapped.html b80ed7e2debd4366a3aef0171680277f\n",
      "http://www.cnn.com/videos/politics/2017/09/13/susan-rice-trump-senior-officials-unmasking-united-arab-emirates-raju-tsr.cnn 1d29ea685bcf4cfe922cf115ab593c54\n"
     ]
    }
   ],
   "source": [
    "query_id = '150732'\n",
    "print('Query: ',queries_full[query_id])\n",
    "print(file_url_map[relevance_scores[query_id]], relevance_scores[query_id])\n",
    "print('\\t', load_webpage_text(relevance_scores[query_id]))\n",
    "#print('Run: ', semantic_finetune_full[query_id], '\\n')\n",
    "for x in semantic_finetune_full[query_id]:\n",
    "    print(file_url_map[x],x)\n",
    "    #print('\\t', load_webpage_text(x))"
   ]
  }
 ],
 "metadata": {
  "interpreter": {
   "hash": "31f2aee4e71d21fbe5cf8b01ff0e069b9275f58929596ceb00d14d90e3e16cd6"
  },
  "kernelspec": {
   "display_name": "Python 3.8.10 64-bit",
   "language": "python",
   "name": "python3"
  },
  "language_info": {
   "codemirror_mode": {
    "name": "ipython",
    "version": 3
   },
   "file_extension": ".py",
   "mimetype": "text/x-python",
   "name": "python",
   "nbconvert_exporter": "python",
   "pygments_lexer": "ipython3",
   "version": "3.8.10"
  },
  "orig_nbformat": 4
 },
 "nbformat": 4,
 "nbformat_minor": 2
}
