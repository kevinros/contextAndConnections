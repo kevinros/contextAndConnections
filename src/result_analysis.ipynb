{
 "cells": [
  {
   "cell_type": "code",
   "execution_count": 1,
   "metadata": {},
   "outputs": [],
   "source": [
    "from eval import eval\n",
    "import json\n",
    "import pickle\n",
    "import seaborn as sb\n",
    "from scipy.stats import pearsonr\n",
    "from scipy.stats import ttest_ind"
   ]
  },
  {
   "cell_type": "code",
   "execution_count": 2,
   "metadata": {},
   "outputs": [],
   "source": [
    "### load general data\n",
    "relevance_scores = eval.load_rel_scores('data_2017-09/queries/relevance_scores.txt')\n",
    "url_file_map = pickle.load(open('data_2017-09/url_file_map.pkl', 'rb'))\n",
    "file_url_map = {url_file_map[url]['filename']: url for url in url_file_map}"
   ]
  },
  {
   "cell_type": "code",
   "execution_count": 3,
   "metadata": {},
   "outputs": [],
   "source": [
    "### load run-specific data\n",
    "\n",
    "queries_full = eval.load_query_ids('data_2017-09/queries/queries_val.tsv')\n",
    "\n",
    "# full\n",
    "bm25_full = eval.load_run('out/bm25_runs/v2_run.val_8_0.99.txt')\n",
    "bm25_full_mrr = eval.compute_mrr10(relevance_scores, bm25_full, queries_full, raw=True)\n",
    "bm25_full_p = eval.compute_p1(relevance_scores, bm25_full, queries_full, raw=True)\n",
    "\n",
    "\n",
    "semantic_full = eval.load_run('out/semantic_runs/v2_run.val_full_msmarco-distilbert-cos-v5.txt')\n",
    "semantic_full_mrr = eval.compute_mrr10(relevance_scores, semantic_full, queries_full, raw=True)\n",
    "semantic_full_p = eval.compute_p1(relevance_scores, semantic_full, queries_full, raw=True)\n",
    "\n",
    "\n",
    "semantic_finetune_full = eval.load_run('out/semantic_finetune_runs/train_bi-encoder-mnrl-msmarco-distilbert-cos-v5-queries-2022-06-01_12-04-50/eval/run.val_full.txt')\n",
    "semantic_finetune_full_mrr = eval.compute_mrr10(relevance_scores, semantic_finetune_full, queries_full, raw=True)\n",
    "semantic_finetune_full_p = eval.compute_p1(relevance_scores, semantic_finetune_full, queries_full, raw=True)\n",
    "\n",
    "\n",
    "# onlylast\n",
    "bm25_onlylast = eval.load_run('out/bm25_runs/v2_run.onlylast.val_4_0.9.txt')\n",
    "bm25_onlylast_mrr = eval.compute_mrr10(relevance_scores, bm25_onlylast, queries_full, raw=True)\n",
    "bm25_onlylast_p = eval.compute_p1(relevance_scores, bm25_onlylast, queries_full, raw=True)\n",
    "\n",
    "\n",
    "semantic_onlylast = eval.load_run('out/semantic_runs/v2_run.val_onlylast_msmarco-distilbert-cos-v5.txt')\n",
    "semantic_onlylast_mrr = eval.compute_mrr10(relevance_scores, semantic_onlylast, queries_full, raw=True)\n",
    "semantic_onlylast_p = eval.compute_p1(relevance_scores, semantic_onlylast, queries_full, raw=True)\n",
    "\n",
    "\n",
    "semantic_finetune_onlylast_full = eval.load_run('out/semantic_finetune_runs/train_bi-encoder-mnrl-msmarco-distilbert-cos-v5-queries_onlylast-2022-06-02_21-24-49/eval/run.val_onlylast.txt')\n",
    "semantic_finetune_onlylast_mrr = eval.compute_mrr10(relevance_scores, semantic_finetune_onlylast_full, queries_full, raw=True)\n",
    "semantic_finetune_onlylast_p = eval.compute_p1(relevance_scores, semantic_finetune_onlylast_full, queries_full, raw=True)\n",
    "\n",
    "\n",
    "# removelast\n",
    "bm25_removelast = eval.load_run('out/bm25_runs/run.removelast.val_7_0.99.txt')\n",
    "bm25_removelast_mrr = eval.compute_mrr10(relevance_scores, bm25_removelast, queries_full, raw=True)\n",
    "bm25_removelast_p = eval.compute_p1(relevance_scores, bm25_removelast, queries_full, raw=True)\n",
    "\n",
    "\n",
    "semantic_removelast = eval.load_run('out/semantic_runs/run.val_removelast_msmarco-distilbert-cos-v5.txt')\n",
    "semantic_removelast_mrr = eval.compute_mrr10(relevance_scores, semantic_removelast, queries_full, raw=True)\n",
    "semantic_removelast_p = eval.compute_p1(relevance_scores, semantic_removelast, queries_full, raw=True)\n",
    "\n",
    "\n",
    "semantic_finetune_removelast = eval.load_run('out/semantic_finetune_runs/train_bi-encoder-mnrl-msmarco-distilbert-cos-v5-queries_removelast-2022-05-22_18-44-28/eval/run.val_removelast.txt')\n",
    "semantic_finetune_removelast_mrr = eval.compute_mrr10(relevance_scores, semantic_finetune_removelast, queries_full, raw=True)\n",
    "semantic_finetune_removelast_p = eval.compute_p1(relevance_scores, semantic_finetune_removelast, queries_full, raw=True)\n",
    "\n",
    "\n"
   ]
  },
  {
   "cell_type": "markdown",
   "metadata": {},
   "source": [
    "### Query length, MRR correlation"
   ]
  },
  {
   "cell_type": "code",
   "execution_count": null,
   "metadata": {},
   "outputs": [],
   "source": [
    "### Query length vs. MRR@10\n",
    "lengths = {}\n",
    "for query in queries_full:\n",
    "    lengths[query] = len(queries_full[query].split(' '))\n",
    "\n",
    "sb.scatterplot(list(lengths.values()), list(bm25_full_mrr.values()))\n",
    "sb.scatterplot(list(lengths.values()), list(semantic_finetune_full_mrr.values()))\n",
    "sb.scatterplot(list(lengths.values()), list(semantic_full_mrr.values()))\n",
    "# Takeaway: no major visual difference\n"
   ]
  },
  {
   "cell_type": "code",
   "execution_count": 8,
   "metadata": {},
   "outputs": [
    {
     "name": "stdout",
     "output_type": "stream",
     "text": [
      "-0.20167615064719355\n",
      "-0.17732113069403493\n"
     ]
    }
   ],
   "source": [
    "corr, _ = pearsonr(list(lengths.values()), list(bm25_full_mrr.values()))\n",
    "print(corr)\n",
    "corr, _ = pearsonr(list(lengths.values()), list(bm25_full_p.values()))\n",
    "print(corr)\n"
   ]
  },
  {
   "cell_type": "code",
   "execution_count": 9,
   "metadata": {},
   "outputs": [
    {
     "name": "stderr",
     "output_type": "stream",
     "text": [
      "/home/kjros2/.local/lib/python3.8/site-packages/seaborn/_decorators.py:36: FutureWarning: Pass the following variables as keyword args: x, y. From version 0.12, the only valid positional argument will be `data`, and passing other arguments without an explicit keyword will result in an error or misinterpretation.\n",
      "  warnings.warn(\n"
     ]
    },
    {
     "data": {
      "text/plain": [
       "<AxesSubplot:>"
      ]
     },
     "execution_count": 9,
     "metadata": {},
     "output_type": "execute_result"
    },
    {
     "data": {
      "image/png": "[encoded data removed]",
      "text/plain": [
       "<Figure size 432x288 with 1 Axes>"
      ]
     },
     "metadata": {
      "needs_background": "light"
     },
     "output_type": "display_data"
    }
   ],
   "source": [
    "sb.scatterplot(list(bm25_full_mrr.values()), list(semantic_finetune_full_mrr.values()))\n"
   ]
  },
  {
   "cell_type": "markdown",
   "metadata": {},
   "source": [
    "### Statistical significance testing"
   ]
  },
  {
   "cell_type": "code",
   "execution_count": 8,
   "metadata": {},
   "outputs": [
    {
     "name": "stdout",
     "output_type": "stream",
     "text": [
      "Ttest_indResult(statistic=-7.816899265638475, pvalue=5.5865454513825735e-15)\n",
      "Ttest_indResult(statistic=12.652849342527968, pvalue=1.3319195116779942e-36)\n",
      "Ttest_indResult(statistic=20.28278637078471, pvalue=7.2053947803362e-91)\n",
      "==\n",
      "Ttest_indResult(statistic=10.848580155147822, pvalue=2.271110323149177e-27)\n",
      "Ttest_indResult(statistic=9.398966775873898, pvalue=5.879546485757949e-21)\n",
      "Ttest_indResult(statistic=-1.3312665814852245, pvalue=0.18311120008822174)\n",
      "==\n"
     ]
    }
   ],
   "source": [
    "print(ttest_ind(list(bm25_full_mrr.values()), list(semantic_finetune_full_mrr.values())))\n",
    "print(ttest_ind(list(bm25_full_mrr.values()), list(semantic_full_mrr.values())))\n",
    "print(ttest_ind(list(semantic_finetune_full_mrr.values()), list(semantic_full_mrr.values())))\n",
    "print('==')\n",
    "print(ttest_ind(list(bm25_removelast_mrr.values()), list(semantic_finetune_removelast_mrr.values())))\n",
    "print(ttest_ind(list(bm25_removelast_mrr.values()), list(semantic_removelast_mrr.values())))\n",
    "print(ttest_ind(list(semantic_finetune_removelast_mrr.values()), list(semantic_removelast_mrr.values())))\n",
    "print('==')"
   ]
  },
  {
   "cell_type": "code",
   "execution_count": 4,
   "metadata": {},
   "outputs": [
    {
     "data": {
      "text/plain": [
       "<AxesSubplot:ylabel='Count'>"
      ]
     },
     "execution_count": 4,
     "metadata": {},
     "output_type": "execute_result"
    },
    {
     "data": {
      "image/png": "[encoded data removed]",
      "text/plain": [
       "<Figure size 432x288 with 1 Axes>"
      ]
     },
     "metadata": {
      "needs_background": "light"
     },
     "output_type": "display_data"
    }
   ],
   "source": [
    "x = list(semantic_finetune_removelast_mrr.values())\n",
    "y = list(semantic_removelast_mrr.values())\n",
    "z = [x[i] - y[i] for i in range(len(x))]\n",
    "\n",
    "sb.histplot(z)\n"
   ]
  },
  {
   "cell_type": "code",
   "execution_count": 6,
   "metadata": {},
   "outputs": [
    {
     "data": {
      "text/plain": [
       "<AxesSubplot:ylabel='Count'>"
      ]
     },
     "execution_count": 6,
     "metadata": {},
     "output_type": "execute_result"
    },
    {
     "data": {
      "image/png": "[encoded data removed]",
      "text/plain": [
       "<Figure size 432x288 with 1 Axes>"
      ]
     },
     "metadata": {
      "needs_background": "light"
     },
     "output_type": "display_data"
    }
   ],
   "source": [
    "x = list(semantic_finetune_full_mrr.values())\n",
    "y = list(bm25_full_mrr.values())\n",
    "z = [x[i] - y[i] for i in range(len(x)) if y[i] == 0]\n",
    "\n",
    "sb.histplot(z)"
   ]
  },
  {
   "cell_type": "code",
   "execution_count": 6,
   "metadata": {},
   "outputs": [],
   "source": [
    "def load_webpage_text(name):\n",
    "    webpage = json.load(open('data_2017-09/webpages/' + name + '.json', 'r'))\n",
    "    return webpage['contents']"
   ]
  },
  {
   "cell_type": "code",
   "execution_count": 4,
   "metadata": {},
   "outputs": [],
   "source": [
    "def find_differences(relevance_scores, run1, run2):\n",
    "    infirst = []\n",
    "    insecond = []\n",
    "    inboth = []\n",
    "    for query_id in run1:\n",
    "        ground_truth = relevance_scores[query_id]\n",
    "        if ground_truth in run1[query_id] and ground_truth not in run2[query_id]:\n",
    "            infirst.append(query_id)\n",
    "        if ground_truth in run2[query_id] and ground_truth not in run1[query_id]:\n",
    "            insecond.append(query_id)\n",
    "        if ground_truth in run1[query_id] and ground_truth in run2[query_id]:\n",
    "            inboth.append(query_id)\n",
    "    all_found = set(infirst).union(set(insecond)).union(set(inboth))\n",
    "    missing = list(set(list(run1.keys())).difference(all_found))\n",
    "    return infirst, insecond, missing\n",
    "        "
   ]
  },
  {
   "cell_type": "code",
   "execution_count": 5,
   "metadata": {},
   "outputs": [
    {
     "data": {
      "text/plain": [
       "11092"
      ]
     },
     "execution_count": 5,
     "metadata": {},
     "output_type": "execute_result"
    }
   ],
   "source": [
    "inbm25, insemanticfinetune, missing = find_differences(relevance_scores, bm25_full, semantic_finetune_full)\n",
    "len(inbm25) + len(insemanticfinetune) + len(missing)"
   ]
  },
  {
   "cell_type": "markdown",
   "metadata": {},
   "source": [
    "Observations of full missed by both bm25 and semantic finetune (missing[:10])\n",
    "\n",
    "1. '54110' --> BLM description / debate. even though missed still relevant. bm25 --> news articles about police and protests. semantic finetune --> wikipedia pages about individuals shot by police officers. \n",
    "2. '31481' --> about computer memory. Both returned somewhat relevant wiki pages. but induced demand is missed, possibly because the last comment is the url alone\n",
    "3. '9643' --> cows and visions and colors. semantic finetune way off with mad cow disease. but bm25 gives color blindness and vision test examples. Many results with fragments. Likely artificially decreases scores, especially with wikipedia. More preprocessing needed.\n",
    "4. '150732' --> trump wiretap. all results about wiretap. interestingly, they are all news articles. Top may be missed because a bit of irrelevant meta text at top of article. More preprocessing needed\n",
    "5. '47250' --> trump exec actions but talking about veteren stuff. Mentioned in passing and a long comment. Difficult to recognize as a human that the url was there. \n",
    "6. '62920' --> england and countries. bm25 takes it literally and finds country wikipedia. semantic finetune finds articles based on urls already in comments (e.g.,Montevideo_Convention )"
   ]
  },
  {
   "cell_type": "markdown",
   "metadata": {},
   "source": [
    "Observations of last missed by both bm25 and semantic finetune ()"
   ]
  },
  {
   "cell_type": "code",
   "execution_count": 7,
   "metadata": {},
   "outputs": [
    {
     "name": "stdout",
     "output_type": "stream",
     "text": [
      "Query:  Legal/political fallout - none. It was done with a warrant, which means that there was enough evidence to convince a judge to sign the warrant. If the Trump administration wants to try to make political hay about it, they are going to be going to bat for someone that is about to indicted (according to a new NY Times story), and that won't look so good. It certainly doesn't vindicate Trump, who was trying to paint the picture of a Nixonian/Watergate sort of scandal to spy on his campaign when he claimed that he and Trump Tower were the targets of wiretapping, though he should probably be worried about any conversations he had with Manafort during that time. So, smoking gun? It remains to be seen. <C> &gt;It was done with a warrant, which means that there was enough evidence to convince a judge to sign the warrant. Well, no. The issue was never just that a judge issued warrants for Russia witch hunt wiretaps (though many of us strongly suspect DNC meddling in that). The issue was that political appointees in the Obama administration were unmasking the names of Trump employees 'incidentally' caught on wiretap and were sharing that information with the corrupt DNC and the media. That being said, I don't think this will change much, because it's not news. As much as Hillary and Obama tried to kill the story, it's been known for months that Trump Tower was wiretapped. It's just hitting the media now because *someone* - probably someone whose book tour is a complete bust - feels like now is a good time to try and make Trump look bad. Because it's not like we have any real problems going on with North Korea or hurricane season or so on that a more patriotic opposition party might leave Our President to handle with a stab-free back...\n",
      "\n",
      "http://www.businessinsider.com/susan-rice-trump-unmask-intelligence-wiretap-2017-4 c8c3efbf24b640c3b8e84e8b0a9c997d\n",
      "\t Susan Rice Tried to 'Unmask' Trump Associates, Report SaysA vertical stack of three evenly spaced horizontal lines.A magnifying glass. It indicates, \"Click to perform a search\".An icon in the shape of a person's head and shoulders. It often indicates a user profile.An icon in the shape of a person's head and shoulders. It often indicates a user profile.Two crossed lines that form an 'X'. It indicates a way to close an interaction, or dismiss a notification.It indicates an expandable section or menu, or sometimes previous / next navigation options.An icon in the shape of a person's head and shoulders. It often indicates a user profile.It indicates an expandable section or menu, or sometimes previous / next navigation options.We now have a better idea who's behind 'unmasking' Trump officials' contact with foreign agents — and whyAn envelope. It indicates the ability to send an email.An image of a chain link. It symobilizes a website link url.Former National Security Adviser Susan Rice reportedly tried to learn the identities of officials on President Donald Trump's transition team whose conversations with foreign officials were incidentally collected during routine intelligence-gathering operations.The intelligence reports obtained by Rice, who served under President Barack Obama from 2013 to 2017, \"were summaries of monitored conversations — primarily between foreign officials discussing the Trump transition, but also in some cases direct contact between members of the Trump team and monitored foreign officials,\" Bloomberg's Eli Lake reported on Monday.National-security experts say Rice's reported requests to identify who was speaking with the foreign officials before Trump was inaugurated were neither unusual nor against the law — especially if, as Lake reported, the foreign officials being monitored were discussing \"valuable political information\" that required the identity of the people they were speaking to, or about, to be uncovered.\"The identities of US persons may be released under two circumstances: 1) the identity is needed to make sense of the intercept; 2) if a crime is involved in the conversation,\" said Robert Deitz, a former senior counselor to the CIA director and former general counsel at the National Security Agency.\"Any senior official who receives the underlying intelligence may request these identities,\" Deitz said, noting that while \"the bar for obtaining the identity is not particularly high, it must come from a senior official, and the reason cannot simply be raw curiosity.\"Documents showing that Rice made those requests were uncovered by the National Security Council's senior director for intelligence, Ezra Cohen-Watnick, according to Lake's reporting. Cohen-Watnick was involved in providing documents related to the incidental surveillance of members of Trump's transition team to House Intelligence Committee Chairman Devin Nunes about two weeks ago, though it is unclear if they are the same documents mentioned in Lake's reporting.Rep. Devin Nunes, the chairman of the House Intelligence Committee.Nunes, a California Republican, told reporters last month that he briefed Trump on the documents because he was concerned about the potential \"unmasking\" of US persons caught up in routine surveillance, though he said he had no evidence that such unmasking had been unwarranted or illegal.A source of concern to some, however, has been why some of Trump's associates who had been caught up in the surveillance and later unmasked, such as former National Security Adviser Michael Flynn, had their names leaked to the press. Lake, for instance, has argued that the \"selective leaking of monitored communications of US persons is a police-state tactic.\"But former NSA Director Michael Hayden, who also served as the principal deputy director of national intelligence and the director of the CIA, cautioned against \"automatically assuming that the US person was party to the conversation\" that may have prompted an unmasking.\"My life experience suggests that the overwhelming proportion of these cases of incidental collection is not information to or from an American, but information about an American,\" Hayden said. \"In this case, it is very likely in most instances two foreigners talking about the Trump transition.\"Lake's article follows a Fox News report citing \"a source\" who said the official who sought to identify the people who were speaking with monitored foreign agents was \"very well known, very high up, very senior in the intelligence world.\"Trump on Monday praised Fox's \"amazing reporting on unmasking and the crooked scheme against us,\" which he said showed that \"there was electronic surveillance\" of his inner circle during the transition.'A carefully documented process'As Nunes has told reporters and as Lake has reported, there is no evidence that Trump and his team were directly surveilled.The move by Rice, if she had probable cause, could likely be viewed as routine and expected of high-level intelligence officials, said Paul Pillar, a 28-year veteran of the CIA and former executive assistant to the CIA's deputy director for intelligence.\"There is an unavoidable tension between, on one hand, restricting information to protect the privacy of US persons and, on the other hand, sharing enough information with the consumers of intelligence so that the intelligence report in question is comprehensible and useful,\" Pillar said in an email. \"And if the report is not that, why bother collecting and disseminating the information in the first place?\"The producer of the report, usually the NSA, tends to err on the side of restricting the information, while a senior consumer's natural tendency is to want more information.\"Steve Slick, a former CIA operations officer and NSC official who now heads the Intelligence Studies Project at the University of Texas at Austin, agreed that the consumer of the report would often require more information to understand the significance of the intelligence.\"By definition, any report that the NSA elects to disseminate is relevant to a foreign or national-security issue,\" Slick said. But it is \"often not possible for a consumer or reader to fully understand the significance of a report without knowing precisely which US person may have been communicating with the foreign official,\" he added.\"The national security adviser, or a member of his/her staff, or perhaps a morning intelligence briefer, would convey that request to the originating agency with an explanation of who wishes to know the identity and why,\" Slick said. \"In my experience, legitimate requests are promptly granted, and less defensible requests (or requesters) are challenged.\"Hayden largely echoed that assessment.\"The NSA is notoriously conservative in revealing US identities in its reporting,\" Hayden said. \"Obviously, a request from the national security adviser to unmask an identity would be given great weight. That said, it is not automatic and goes through a carefully documented process at the NSA before an identity is unmasked.\"Obama talks with Russian President Vladimir Putin, right, and Rice, second from left, in November 2015.An 'effort to divert attention' from the Trump-Russia probePillar, who is now a nonresident senior fellow at Georgetown University's Center for Security Studies, said Rice may have even been motivated to request identities in order to constrain her own communications.\"If Ms. Rice was communicating with members of Trump's team regarding transition matters and she learns from intelligence that some such members also are communicating with the Russians, she would want to know exactly who is doing that so she can be extra careful in her own talks, lest something she says gets relayed to Moscow,\" Pillar said.At least one member of Trump's transition team had his conversations picked up incidentally during routine surveillance of Russia's ambassador to the US, Sergey Kislyak, last year: Flynn, the former national security adviser. He was forced to resign in February after reports surfaced that said he spoke with Kislyak about US sanctions on Russia despite telling Vice President Mike Pence that he hadn't.Michael Flynn, the first national security adviser to Trump. Flynn resigned in February.The FBI has been examining whether Trump associates colluded with Russian officials to undermine Hillary Clinton during the 2016 presidential election. The probe into Trump's ties to Russia is part of the bureau's broader investigation into Russia's interference in the 2016 election, FBI Director James Comey said during a House Intelligence Committee hearing last month.\"This whole story strikes me as just more of the effort to divert attention from the issue of the relations that Trump and his associates have had with Russia, and as part of the diversion to try to suggest impropriety of some sort on the part of the Obama administration,\" Pillar said. \"In other words, it's a continuation of an effort to salvage something from Trump's baseless charges about Obama wiretapping him.\"The White House has tried repeatedly, with varying degrees of evidence, to validate Trump's explosive claim made last month that Obama wiretapped his phones at Trump Tower during the election.A former Obama administration official responsible for the Defense Department's Russia policy, for instance, came into the White House's crosshairs last week for what it has characterized as her admission that Obama-era officials were collecting intelligence on Trump and his transition team.Pillar said that \"an important thing to remember is that we are dealing with foreign intelligence — intelligence on Russian activities — and indeed, Russian activities that strike close to the heart of our democratic processes.\"We should be disturbed if whoever was in office was not keeping close tabs on that sort of thing,\" he said.Sign up for notifications from Insider! Stay up to date with what you want to know.Sign up for our weekday newsletter, packed with original analysis, news, and trends — delivered right to your inbox.By clicking ‘Sign up’, you agree to receive marketing emails from InsiderThe White House is trying to distract from Trump's wiretap claims with a dubious new talking pointNOW WATCH: Meet the woman behind Trump's $20 million merch empireTwo crossed lines that form an 'X'. It indicates a way to close an interaction, or dismiss a notification.Registration on or use of this site constitutes acceptance of our\n",
      "https://www.usatoday.com/story/news/politics/2017/09/02/doj-confirms-no-evidence-supporting-trump-claim-obama-wiretapped-him/628758001/ a28b6f6fb31b403ea8b4bd810a8178be\n",
      "http://www.businessinsider.com/justice-department-no-evidence-obama-wiretapped-trump-tower-2017-9 85720afc2cc84e46afb65c301a1937fa\n",
      "http://www.businessinsider.com/justice-department-no-evidence-obama-wiretapped-trump-tower-2017-9?IR=T 5a0dc90572e04e89b641093da5564d05\n",
      "http://www.foxnews.com/politics/2017/09/18/former-trump-campaign-chair-paul-manafort-wiretapped-by-us-investigators-report-says.html 084b607778e14c1590d8de1f7c25eecb\n",
      "http://www.independent.co.uk/news/world/americas/us-politics/trump-obama-wiretap-claim-no-evidence-tweets-department-of-justice-a7926561.html 756ba8933ee0439aab0d8fcd9ba04a19\n",
      "http://www.cnn.com/2017/09/18/politics/paul-manafort-government-wiretapped-fisa-russians/index.html 692fd915845b4681ab235de8a8065066\n",
      "http://www.cnn.com/2017/09/18/politics/paul-manafort-government-wiretapped-fisa-russians/index.html?adkey=bn ce274cf0c49946e0bfae78c50960a0d7\n",
      "http://www.independent.co.uk/news/world/americas/us-politics/donald-trump-russia-probe-staff-advisers-hung-out-to-dry-hillary-clinton-a7950246.html a8a39d4d4a7644cc993cb2786542f751\n",
      "http://www.foxnews.com/politics/2017/09/02/doj-no-evidence-trump-tower-was-wiretapped.html b80ed7e2debd4366a3aef0171680277f\n",
      "http://www.cnn.com/videos/politics/2017/09/13/susan-rice-trump-senior-officials-unmasking-united-arab-emirates-raju-tsr.cnn 1d29ea685bcf4cfe922cf115ab593c54\n"
     ]
    }
   ],
   "source": [
    "query_id = '150732'\n",
    "print('Query: ',queries_full[query_id])\n",
    "print(file_url_map[relevance_scores[query_id]], relevance_scores[query_id])\n",
    "print('\\t', load_webpage_text(relevance_scores[query_id]))\n",
    "#print('Run: ', semantic_finetune_full[query_id], '\\n')\n",
    "for x in semantic_finetune_full[query_id]:\n",
    "    print(file_url_map[x],x)\n",
    "    #print('\\t', load_webpage_text(x))"
   ]
  }
 ],
 "metadata": {
  "interpreter": {
   "hash": "31f2aee4e71d21fbe5cf8b01ff0e069b9275f58929596ceb00d14d90e3e16cd6"
  },
  "kernelspec": {
   "display_name": "Python 3.8.10 64-bit",
   "language": "python",
   "name": "python3"
  },
  "language_info": {
   "codemirror_mode": {
    "name": "ipython",
    "version": 3
   },
   "file_extension": ".py",
   "mimetype": "text/x-python",
   "name": "python",
   "nbconvert_exporter": "python",
   "pygments_lexer": "ipython3",
   "version": "3.8.10"
  },
  "orig_nbformat": 4
 },
 "nbformat": 4,
 "nbformat_minor": 2
}
