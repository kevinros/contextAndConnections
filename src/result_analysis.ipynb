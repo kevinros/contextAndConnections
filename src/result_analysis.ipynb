{
 "cells": [
  {
   "cell_type": "code",
   "execution_count": 12,
   "metadata": {},
   "outputs": [],
   "source": [
    "from eval import eval\n",
    "import json\n",
    "import pickle\n",
    "import seaborn as sb\n",
    "from scipy.stats import pearsonr\n",
    "from scipy.stats import ttest_rel\n",
    "import matplotlib.pyplot as plt"
   ]
  },
  {
   "cell_type": "code",
   "execution_count": 2,
   "metadata": {},
   "outputs": [],
   "source": [
    "### load general data\n",
    "relevance_scores = eval.load_rel_scores('data_2017-09/queries/relevance_scores.txt')\n",
    "url_file_map = pickle.load(open('data_2017-09/url_file_map.pkl', 'rb'))\n",
    "file_url_map = {url_file_map[url]['filename']: url for url in url_file_map}"
   ]
  },
  {
   "cell_type": "code",
   "execution_count": 3,
   "metadata": {},
   "outputs": [],
   "source": [
    "### load run-specific data\n",
    "\n",
    "queries_full = eval.load_query_ids('data_2017-09/queries/queries_val.tsv')\n",
    "\n",
    "# full\n",
    "bm25_full = eval.load_run('out/bm25_runs/v2_run.val_8_0.99.txt')\n",
    "bm25_full_mrr = eval.compute_mrr10(relevance_scores, bm25_full, queries_full, raw=True)\n",
    "bm25_full_p = eval.compute_p1(relevance_scores, bm25_full, queries_full, raw=True)\n",
    "\n",
    "bm25rm3_full = eval.load_run('out/bm25rm3_runs/v2_run.val_8_0.99_0.9_1_10.txt')\n",
    "bm25rm3_full_mrr = eval.compute_mrr10(relevance_scores, bm25rm3_full, queries_full, raw=True)\n",
    "bm25rm3_full_p = eval.compute_p1(relevance_scores, bm25rm3_full, queries_full, raw=True)\n",
    "\n",
    "\n",
    "semantic_full = eval.load_run('out/semantic_runs/v2_run.val_full_msmarco-distilbert-cos-v5.txt')\n",
    "semantic_full_mrr = eval.compute_mrr10(relevance_scores, semantic_full, queries_full, raw=True)\n",
    "semantic_full_p = eval.compute_p1(relevance_scores, semantic_full, queries_full, raw=True)\n",
    "\n",
    "\n",
    "semantic_finetune_full = eval.load_run('out/semantic_finetune_runs/train_bi-encoder-mnrl-msmarco-distilbert-cos-v5-queries-2022-06-01_12-04-50/eval/run.val_full.txt')\n",
    "semantic_finetune_full_mrr = eval.compute_mrr10(relevance_scores, semantic_finetune_full, queries_full, raw=True)\n",
    "semantic_finetune_full_p = eval.compute_p1(relevance_scores, semantic_finetune_full, queries_full, raw=True)\n",
    "\n",
    "\n",
    "# onlylast\n",
    "bm25_onlylast = eval.load_run('out/bm25_runs/v2_run.onlylast.val_4_0.9.txt')\n",
    "bm25_onlylast_mrr = eval.compute_mrr10(relevance_scores, bm25_onlylast, queries_full, raw=True)\n",
    "bm25_onlylast_p = eval.compute_p1(relevance_scores, bm25_onlylast, queries_full, raw=True)\n",
    "\n",
    "bm25rm3_onlylast = eval.load_run('out/bm25rm3_runs/v2_run.onlylast.val_4_0.9_0.9_1_10.txt')\n",
    "bm25rm3_onlylast_mrr = eval.compute_mrr10(relevance_scores, bm25rm3_onlylast, queries_full, raw=True)\n",
    "bm25rm3_onlylast_p = eval.compute_p1(relevance_scores, bm25rm3_onlylast, queries_full, raw=True)\n",
    "\n",
    "\n",
    "semantic_onlylast = eval.load_run('out/semantic_runs/v2_run.val_onlylast_msmarco-distilbert-cos-v5.txt')\n",
    "semantic_onlylast_mrr = eval.compute_mrr10(relevance_scores, semantic_onlylast, queries_full, raw=True)\n",
    "semantic_onlylast_p = eval.compute_p1(relevance_scores, semantic_onlylast, queries_full, raw=True)\n",
    "\n",
    "\n",
    "semantic_finetune_onlylast = eval.load_run('out/semantic_finetune_runs/train_bi-encoder-mnrl-msmarco-distilbert-cos-v5-queries_onlylast-2022-06-02_21-24-49/eval/run.val_onlylast.txt')\n",
    "semantic_finetune_onlylast_mrr = eval.compute_mrr10(relevance_scores, semantic_finetune_onlylast, queries_full, raw=True)\n",
    "semantic_finetune_onlylast_p = eval.compute_p1(relevance_scores, semantic_finetune_onlylast, queries_full, raw=True)\n",
    "\n",
    "\n",
    "# removelast\n",
    "bm25_removelast = eval.load_run('out/bm25_runs/run.removelast.val_7_0.99.txt')\n",
    "bm25_removelast_mrr = eval.compute_mrr10(relevance_scores, bm25_removelast, queries_full, raw=True)\n",
    "bm25_removelast_p = eval.compute_p1(relevance_scores, bm25_removelast, queries_full, raw=True)\n",
    "\n",
    "bm25rm3_removelast = eval.load_run('out/bm25rm3_runs/run.removelast.val_7_0.99_0.9_10_10.txt')\n",
    "bm25rm3_removelast_mrr = eval.compute_mrr10(relevance_scores, bm25rm3_removelast, queries_full, raw=True)\n",
    "bm25rm3_removelast_p = eval.compute_p1(relevance_scores, bm25rm3_removelast, queries_full, raw=True)\n",
    "\n",
    "\n",
    "semantic_removelast = eval.load_run('out/semantic_runs/run.val_removelast_msmarco-distilbert-cos-v5.txt')\n",
    "semantic_removelast_mrr = eval.compute_mrr10(relevance_scores, semantic_removelast, queries_full, raw=True)\n",
    "semantic_removelast_p = eval.compute_p1(relevance_scores, semantic_removelast, queries_full, raw=True)\n",
    "\n",
    "\n",
    "semantic_finetune_removelast = eval.load_run('out/semantic_finetune_runs/train_bi-encoder-mnrl-msmarco-distilbert-cos-v5-queries_removelast-2022-05-22_18-44-28/eval/run.val_removelast.txt')\n",
    "semantic_finetune_removelast_mrr = eval.compute_mrr10(relevance_scores, semantic_finetune_removelast, queries_full, raw=True)\n",
    "semantic_finetune_removelast_p = eval.compute_p1(relevance_scores, semantic_finetune_removelast, queries_full, raw=True)\n",
    "\n",
    "\n"
   ]
  },
  {
   "cell_type": "markdown",
   "metadata": {},
   "source": [
    "### Interpolate"
   ]
  },
  {
   "cell_type": "code",
   "execution_count": 10,
   "metadata": {},
   "outputs": [],
   "source": [
    "def interpolate(alpha, run1, run2, queries=queries_full):\n",
    "    # change queries to queries_full_test for testing interpolation\n",
    "    # need to match in eval\n",
    "    new_run = {}\n",
    "\n",
    "    # add the runs\n",
    "    for query in run1:\n",
    "        max = float(run1[query][0][1])\n",
    "        if query not in new_run:\n",
    "            new_run[query] = {}\n",
    "        for result in run1[query]:\n",
    "            if result[0] not in new_run[query]:\n",
    "                new_run[query][result[0]] = (float(result[1])/max) * alpha\n",
    "            else:\n",
    "                new_run[query][result[0]] += (float(result[1])/max) * alpha\n",
    "    for query in run2:\n",
    "        max = float(run2[query][0][1])\n",
    "        if query not in new_run:\n",
    "            new_run[query] = {}\n",
    "        for result in run2[query]:\n",
    "            if result[0] not in new_run[query]:\n",
    "                new_run[query][result[0]] = (float(result[1])/max) * (1-alpha)\n",
    "            else:\n",
    "                new_run[query][result[0]] += (float(result[1])/max) * (1-alpha)\n",
    "\n",
    "    for query in new_run:\n",
    "        sorted_scores = sorted([(x,new_run[query][x]) for x in new_run[query]], reverse=True, key=lambda x: x[1])\n",
    "        new_run[query] = [x[0] for x in sorted_scores]\n",
    "    \n",
    "    mrr = eval.compute_mrr10(relevance_scores, new_run, queries)\n",
    "    p = eval.compute_p1(relevance_scores, new_run, queries)\n",
    "    return p, mrr, new_run\n",
    "    \n",
    "    \n"
   ]
  },
  {
   "cell_type": "code",
   "execution_count": 5,
   "metadata": {},
   "outputs": [
    {
     "name": "stdout",
     "output_type": "stream",
     "text": [
      "(0.2, 0.27515641293013554, 0.3408721624294483)\n",
      "(0.5, 0.2566475495307612, 0.33722821701673295)\n",
      "(0.8, 0.09449947862356621, 0.13548476111855887)\n"
     ]
    }
   ],
   "source": [
    "# for validation\n",
    "bm25_full_withscores = eval.load_run('out/bm25_runs/v2_run.val_8_0.99.txt', with_scores=True)\n",
    "semantic_finetune_full_withscores = eval.load_run('out/semantic_finetune_runs/train_bi-encoder-mnrl-msmarco-distilbert-cos-v5-queries-2022-06-01_12-04-50/eval/run.val_full.txt', with_scores=True)\n",
    "\n",
    "bm25_onlylast_withscores = eval.load_run('out/bm25_runs/v2_run.onlylast.val_4_0.9.txt', with_scores=True)\n",
    "semantic_finetune_onlylast_withscores = eval.load_run('out/semantic_finetune_runs/train_bi-encoder-mnrl-msmarco-distilbert-cos-v5-queries_onlylast-2022-06-02_21-24-49/eval/run.val_onlylast.txt', with_scores=True)\n",
    "\n",
    "bm25_removelast_withscores = eval.load_run('out/bm25_runs/run.removelast.val_7_0.99.txt', with_scores=True)\n",
    "semantic_finetune_removelast_withscores = eval.load_run('out/semantic_finetune_runs/train_bi-encoder-mnrl-msmarco-distilbert-cos-v5-queries_removelast-2022-05-22_18-44-28/eval/run.val_removelast.txt', with_scores=True)\n",
    "\n",
    "\n",
    "def find_best(run1, run2):\n",
    "    scores = []\n",
    "    for i in range(0,10):\n",
    "        p, mrr, new_run = interpolate(i/10, run1, run2)\n",
    "        scores.append((i/10, p, mrr))\n",
    "    sorted_scores = sorted(scores, reverse=True, key=lambda x: x[1])\n",
    "    print(sorted_scores[0])\n",
    "\n",
    "\n",
    "find_best(bm25_full_withscores, semantic_finetune_full_withscores)\n",
    "find_best(bm25_onlylast_withscores, semantic_finetune_onlylast_withscores)\n",
    "find_best(bm25_removelast_withscores, semantic_finetune_removelast_withscores)"
   ]
  },
  {
   "cell_type": "code",
   "execution_count": 19,
   "metadata": {},
   "outputs": [],
   "source": [
    "# for val sig tests\n",
    "\n",
    "# weights determined by val run\n",
    "interpolate_p_full, interpolate_mrr_full, interpolate_newrun_full = interpolate(0.2, bm25_full_withscores, semantic_finetune_full_withscores)\n",
    "interpolate_p_onlylast, interpolate_mrr_onlylast, interpolate_newrun_onlylast = interpolate(0.5, bm25_onlylast_withscores, semantic_finetune_onlylast_withscores)\n",
    "interpolate_p_removelast, interpolate_mrr_removelast, interpolate_newrun_removelast = interpolate(0.8, bm25_removelast_withscores, semantic_finetune_removelast_withscores)\n",
    "\n",
    "\n",
    "interpolate_full_mrr = eval.compute_mrr10(relevance_scores, interpolate_newrun_full, queries_full, raw=True)\n",
    "interpolate_onlylast_mrr = eval.compute_mrr10(relevance_scores, interpolate_newrun_onlylast, queries_full, raw=True)\n",
    "interpolate_removelast_mrr = eval.compute_mrr10(relevance_scores, interpolate_newrun_removelast, queries_full, raw=True)\n",
    "\n"
   ]
  },
  {
   "cell_type": "code",
   "execution_count": 11,
   "metadata": {},
   "outputs": [
    {
     "name": "stdout",
     "output_type": "stream",
     "text": [
      "0.26618138894353727 0.33208789647408615\n",
      "0.25470522657223427 0.337567438718334\n",
      "0.09390779723260542 0.13448079343219954\n"
     ]
    }
   ],
   "source": [
    "# for test\n",
    "queries_full_test = eval.load_query_ids('data_2017-09/queries/queries_test.tsv')\n",
    "\n",
    "bm25_full_test_withscores = eval.load_run('out/bm25_runs/v2_run.test_8_0.99.txt', with_scores=True)\n",
    "semantic_finetune_full__test_withscores = eval.load_run('out/semantic_finetune_runs/train_bi-encoder-mnrl-msmarco-distilbert-cos-v5-queries-2022-06-01_12-04-50/eval/v2_run.test_full.txt', with_scores=True)\n",
    "\n",
    "bm25_onlylast_test_withscores = eval.load_run('out/bm25_runs/v2_run.onlylast.test_4_0.9.txt', with_scores=True)\n",
    "semantic_finetune_onlylast_withscores = eval.load_run('out/semantic_finetune_runs/train_bi-encoder-mnrl-msmarco-distilbert-cos-v5-queries_onlylast-2022-06-02_21-24-49/eval/v2_run.test_onlylast.txt', with_scores=True)\n",
    "\n",
    "bm25_removelast_test_withscores = eval.load_run('out/bm25_runs/run.removelast.test_7_0.99.txt', with_scores=True)\n",
    "semantic_finetune_removelast_withscores = eval.load_run('out/semantic_finetune_runs/train_bi-encoder-mnrl-msmarco-distilbert-cos-v5-queries_removelast-2022-05-22_18-44-28/eval/run.test_removelast.txt', with_scores=True)\n",
    "\n",
    "# weights determined by val run\n",
    "p_test, mrr_test, _ = interpolate(0.2, bm25_full_test_withscores, semantic_finetune_full__test_withscores, queries=queries_full_test)\n",
    "print(p_test, mrr_test)\n",
    "p_test, mrr_test, _ = interpolate(0.5, bm25_onlylast_test_withscores, semantic_finetune_onlylast_withscores, queries=queries_full_test)\n",
    "print(p_test, mrr_test)\n",
    "p_test, mrr_test, _ = interpolate(0.8, bm25_removelast_test_withscores, semantic_finetune_removelast_withscores, queries=queries_full_test)\n",
    "print(p_test, mrr_test)"
   ]
  },
  {
   "cell_type": "markdown",
   "metadata": {},
   "source": [
    "### Wiki, non-wiki"
   ]
  },
  {
   "cell_type": "code",
   "execution_count": 59,
   "metadata": {},
   "outputs": [
    {
     "data": {
      "image/png": "[encoded data removed]",
      "text/plain": [
       "<Figure size 864x288 with 2 Axes>"
      ]
     },
     "metadata": {
      "needs_background": "light"
     },
     "output_type": "display_data"
    }
   ],
   "source": [
    "wiki_scores = []\n",
    "non_wiki_scores = []\n",
    "for query in queries_full:\n",
    "    url = file_url_map[relevance_scores[query]]\n",
    "    if 'wiki' in url:\n",
    "        wiki_scores.append(semantic_finetune_full_mrr[query])\n",
    "    else:\n",
    "        non_wiki_scores.append(semantic_finetune_full_mrr[query])\n",
    "\n",
    "plt.rcParams['figure.figsize'] = [12,4]\n",
    "\n",
    "fig, (ax1, ax2) = plt.subplots(ncols=2)\n",
    "\n",
    "sb.histplot(x = wiki_scores, ax=ax1)\n",
    "ax1.set_xlabel('MRR@10 on Wikipedia domains')\n",
    "ax2.set_ylabel('Distribution')\n",
    "\n",
    "\n",
    "sb.histplot(x = non_wiki_scores, ax=ax2)\n",
    "ax2.set_xlabel('MRR@10 on non-Wikipedia domains')\n",
    "ax2.set_ylabel('Distribution')\n",
    "\n",
    "fig.savefig('out/plots/wiki_nonwiki.pdf')"
   ]
  },
  {
   "cell_type": "markdown",
   "metadata": {},
   "source": [
    "### Query length, MRR correlation"
   ]
  },
  {
   "cell_type": "code",
   "execution_count": 42,
   "metadata": {},
   "outputs": [
    {
     "name": "stderr",
     "output_type": "stream",
     "text": [
      "/home/kjros2/.local/lib/python3.8/site-packages/seaborn/_decorators.py:36: FutureWarning: Pass the following variables as keyword args: x, y. From version 0.12, the only valid positional argument will be `data`, and passing other arguments without an explicit keyword will result in an error or misinterpretation.\n",
      "  warnings.warn(\n",
      "/home/kjros2/.local/lib/python3.8/site-packages/seaborn/_decorators.py:36: FutureWarning: Pass the following variables as keyword args: x, y. From version 0.12, the only valid positional argument will be `data`, and passing other arguments without an explicit keyword will result in an error or misinterpretation.\n",
      "  warnings.warn(\n",
      "/home/kjros2/.local/lib/python3.8/site-packages/seaborn/_decorators.py:36: FutureWarning: Pass the following variables as keyword args: x, y. From version 0.12, the only valid positional argument will be `data`, and passing other arguments without an explicit keyword will result in an error or misinterpretation.\n",
      "  warnings.warn(\n"
     ]
    },
    {
     "data": {
      "text/plain": [
       "<AxesSubplot:>"
      ]
     },
     "execution_count": 42,
     "metadata": {},
     "output_type": "execute_result"
    },
    {
     "data": {
      "image/png": "[encoded data removed]",
      "text/plain": [
       "<Figure size 432x288 with 1 Axes>"
      ]
     },
     "metadata": {
      "needs_background": "light"
     },
     "output_type": "display_data"
    }
   ],
   "source": [
    "### Query length vs. MRR@10\n",
    "lengths = {}\n",
    "for query in queries_full:\n",
    "    #lengths[query] = len(queries_full[query].split(' '))\n",
    "    lengths[query] = len(queries_full[query].split('<C>')[-1].split(' '))\n",
    "\n",
    "sb.scatterplot(list(lengths.values()), list(bm25_full_mrr.values()))\n",
    "sb.scatterplot(list(lengths.values()), list(semantic_finetune_full_mrr.values()))\n",
    "sb.scatterplot(list(lengths.values()), list(semantic_full_mrr.values()))\n",
    "# Takeaway: no major visual difference\n"
   ]
  },
  {
   "cell_type": "code",
   "execution_count": 40,
   "metadata": {},
   "outputs": [
    {
     "name": "stdout",
     "output_type": "stream",
     "text": [
      "-0.10757197690495472\n"
     ]
    }
   ],
   "source": [
    "corr, _ = pearsonr(list(lengths.values()), list(bm25_removelast_mrr.values()))\n",
    "print(corr)\n"
   ]
  },
  {
   "cell_type": "markdown",
   "metadata": {},
   "source": [
    "### Statistical significance testing"
   ]
  },
  {
   "cell_type": "code",
   "execution_count": 24,
   "metadata": {},
   "outputs": [
    {
     "name": "stdout",
     "output_type": "stream",
     "text": [
      "bm25\n",
      "Ttest_relResult(statistic=58.93928192233481, pvalue=0.0)\n",
      "Ttest_relResult(statistic=-9.599168938767223, pvalue=9.277405269738759e-22)\n",
      "Ttest_relResult(statistic=-48.70780894169876, pvalue=0.0)\n",
      "bm25 rm3\n",
      "Ttest_relResult(statistic=54.94927748852135, pvalue=0.0)\n",
      "Ttest_relResult(statistic=-10.792010435310118, pvalue=4.696059991417465e-27)\n",
      "Ttest_relResult(statistic=-50.014428134942904, pvalue=0.0)\n",
      "semantic\n",
      "Ttest_relResult(statistic=48.14425495748813, pvalue=0.0)\n",
      "Ttest_relResult(statistic=-1.6517177422198095, pvalue=0.09861256779250331)\n",
      "Ttest_relResult(statistic=-37.95369661234372, pvalue=2.342188706985002e-301)\n",
      "semantic finetune\n",
      "Ttest_relResult(statistic=63.9565002549924, pvalue=0.0)\n",
      "Ttest_relResult(statistic=13.954893729506693, pvalue=5.455141719216298e-44)\n",
      "Ttest_relResult(statistic=-50.099542753388754, pvalue=0.0)\n",
      "interpolated\n",
      "Ttest_relResult(statistic=10.80382177759671, pvalue=4.133317091262602e-27)\n",
      "Ttest_relResult(statistic=56.6330466148522, pvalue=0.0)\n",
      "Ttest_relResult(statistic=-48.70780894169876, pvalue=0.0)\n",
      "full\n",
      "Ttest_relResult(statistic=17.921360258028354, pvalue=4.259406468890039e-71)\n",
      "Ttest_relResult(statistic=21.894792533646495, pvalue=1.1588308496454482e-104)\n",
      "Ttest_relResult(statistic=34.14266376880183, pvalue=2.548331426948487e-246)\n",
      "Ttest_relResult(statistic=18.44671827428206, pvalue=3.595940364032411e-75)\n",
      "last\n",
      "Ttest_relResult(statistic=nan, pvalue=nan)\n",
      "Ttest_relResult(statistic=16.716875913632677, pvalue=3.5036048065411415e-62)\n",
      "Ttest_relResult(statistic=24.377123254087124, pvalue=8.320824952490694e-129)\n",
      "Ttest_relResult(statistic=8.073449535797057, pvalue=7.337784781768646e-16)\n",
      "removelast\n",
      "Ttest_relResult(statistic=nan, pvalue=nan)\n",
      "Ttest_relResult(statistic=12.886428955757262, pvalue=8.429887467210067e-38)\n",
      "Ttest_relResult(statistic=13.14315025023437, pvalue=3.035564557774375e-39)\n",
      "Ttest_relResult(statistic=13.033976933668825, pvalue=1.2574804660057214e-38)\n"
     ]
    }
   ],
   "source": [
    "# across settings\n",
    "print('bm25')\n",
    "print(ttest_rel(list(bm25_full_mrr.values()), list(bm25_removelast_mrr.values())))\n",
    "print(ttest_rel(list(bm25_full_mrr.values()), list(bm25_onlylast_mrr.values())))\n",
    "print(ttest_rel(list(bm25_removelast_mrr.values()), list(bm25_onlylast_mrr.values())))\n",
    "\n",
    "print('bm25 rm3')\n",
    "print(ttest_rel(list(bm25rm3_full_mrr.values()), list(bm25rm3_removelast_mrr.values())))\n",
    "print(ttest_rel(list(bm25rm3_full_mrr.values()), list(bm25rm3_onlylast_mrr.values())))\n",
    "print(ttest_rel(list(bm25rm3_removelast_mrr.values()), list(bm25rm3_onlylast_mrr.values())))\n",
    "\n",
    "print('semantic')\n",
    "print(ttest_rel(list(semantic_full_mrr.values()), list(semantic_removelast_mrr.values())))\n",
    "print(ttest_rel(list(semantic_full_mrr.values()), list(semantic_onlylast_mrr.values())))\n",
    "print(ttest_rel(list(semantic_removelast_mrr.values()), list(semantic_onlylast_mrr.values())))\n",
    "\n",
    "print('semantic finetune')\n",
    "print(ttest_rel(list(semantic_finetune_full_mrr.values()), list(semantic_finetune_removelast_mrr.values())))\n",
    "print(ttest_rel(list(semantic_finetune_full_mrr.values()), list(semantic_finetune_onlylast_mrr.values())))\n",
    "print(ttest_rel(list(semantic_finetune_removelast_mrr.values()), list(semantic_finetune_onlylast_mrr.values())))\n",
    "\n",
    "print('interpolated')\n",
    "print(ttest_rel(list(interpolate_full_mrr.values()), list(interpolate_onlylast_mrr.values())))\n",
    "print(ttest_rel(list(interpolate_full_mrr.values()), list(interpolate_removelast_mrr.values())))\n",
    "print(ttest_rel(list(interpolate_removelast_mrr.values()), list(interpolate_onlylast_mrr.values())))\n",
    "\n",
    "# best in each setting (interpolated)\n",
    "print('full')\n",
    "print(ttest_rel(list(interpolate_full_mrr.values()), list(bm25_full_mrr.values())))\n",
    "print(ttest_rel(list(interpolate_full_mrr.values()), list(bm25rm3_full_mrr.values())))\n",
    "print(ttest_rel(list(interpolate_full_mrr.values()), list(semantic_full_mrr.values())))\n",
    "print(ttest_rel(list(interpolate_full_mrr.values()), list(semantic_finetune_full_mrr.values())))\n",
    "print('last')\n",
    "print(ttest_rel(list(interpolate_onlylast_mrr.values()), list(bm25_onlylast_mrr.values())))\n",
    "print(ttest_rel(list(interpolate_onlylast_mrr.values()), list(bm25rm3_onlylast_mrr.values())))\n",
    "print(ttest_rel(list(interpolate_onlylast_mrr.values()), list(semantic_onlylast_mrr.values())))\n",
    "print(ttest_rel(list(interpolate_onlylast_mrr.values()), list(semantic_finetune_onlylast_mrr.values())))\n",
    "print('removelast')\n",
    "print(ttest_rel(list(interpolate_removelast_mrr.values()), list(bm25_removelast_mrr.values())))\n",
    "print(ttest_rel(list(interpolate_removelast_mrr.values()), list(bm25rm3_removelast_mrr.values())))\n",
    "print(ttest_rel(list(interpolate_removelast_mrr.values()), list(semantic_removelast_mrr.values())))\n",
    "print(ttest_rel(list(interpolate_removelast_mrr.values()), list(semantic_finetune_removelast_mrr.values())))\n",
    "\n"
   ]
  },
  {
   "cell_type": "code",
   "execution_count": 11,
   "metadata": {},
   "outputs": [
    {
     "data": {
      "text/plain": [
       "<AxesSubplot:ylabel='Count'>"
      ]
     },
     "execution_count": 11,
     "metadata": {},
     "output_type": "execute_result"
    },
    {
     "data": {
      "image/png": "[encoded data removed]",
      "text/plain": [
       "<Figure size 432x288 with 1 Axes>"
      ]
     },
     "metadata": {
      "needs_background": "light"
     },
     "output_type": "display_data"
    }
   ],
   "source": [
    "x = list(semantic_finetune_full_mrr.values())\n",
    "#y = list(semantic_removelast_mrr.values())\n",
    "#z = [x[i] - y[i] for i in range(len(x))]\n",
    "\n",
    "sb.histplot(x)\n"
   ]
  },
  {
   "cell_type": "code",
   "execution_count": 6,
   "metadata": {},
   "outputs": [
    {
     "data": {
      "text/plain": [
       "<AxesSubplot:ylabel='Count'>"
      ]
     },
     "execution_count": 6,
     "metadata": {},
     "output_type": "execute_result"
    },
    {
     "data": {
      "image/png": "[encoded data removed]",
      "text/plain": [
       "<Figure size 432x288 with 1 Axes>"
      ]
     },
     "metadata": {
      "needs_background": "light"
     },
     "output_type": "display_data"
    }
   ],
   "source": [
    "x = list(semantic_finetune_full_mrr.values())\n",
    "y = list(bm25_full_mrr.values())\n",
    "z = [x[i] - y[i] for i in range(len(x)) if y[i] == 0]\n",
    "\n",
    "sb.histplot(z)"
   ]
  },
  {
   "cell_type": "code",
   "execution_count": 15,
   "metadata": {},
   "outputs": [],
   "source": [
    "def load_webpage_text(name):\n",
    "    webpage = json.load(open('data_2017-09/webpages/' + name + '.json', 'r'))\n",
    "    return webpage['contents'][:500]"
   ]
  },
  {
   "cell_type": "code",
   "execution_count": 19,
   "metadata": {},
   "outputs": [],
   "source": [
    "def find_differences(relevance_scores, run1, run2):\n",
    "    infirst = []\n",
    "    insecond = []\n",
    "    inboth = []\n",
    "    for query_id in run1:\n",
    "        ground_truth = relevance_scores[query_id]\n",
    "        if ground_truth in run1[query_id] and ground_truth not in run2[query_id]:\n",
    "            infirst.append(query_id)\n",
    "        if ground_truth in run2[query_id] and ground_truth not in run1[query_id]:\n",
    "            insecond.append(query_id)\n",
    "        if ground_truth in run1[query_id] and ground_truth in run2[query_id]:\n",
    "            inboth.append(query_id)\n",
    "    all_found = set(infirst).union(set(insecond)).union(set(inboth))\n",
    "    missing = list(set(list(run1.keys())).difference(all_found))\n",
    "    return infirst, insecond, missing, inboth\n",
    "        "
   ]
  },
  {
   "cell_type": "code",
   "execution_count": 44,
   "metadata": {},
   "outputs": [
    {
     "data": {
      "text/plain": [
       "13958"
      ]
     },
     "execution_count": 44,
     "metadata": {},
     "output_type": "execute_result"
    }
   ],
   "source": [
    "#inbm25, insemanticfinetune, missing = find_differences(relevance_scores, bm25_full, semantic_finetune_full)\n",
    "\n",
    "inbm25, insemanticfinetune, missing, inboth = find_differences(relevance_scores, bm25_removelast, semantic_finetune_removelast)\n",
    "len(inbm25) + len(insemanticfinetune) + len(missing)"
   ]
  },
  {
   "cell_type": "markdown",
   "metadata": {},
   "source": [
    "Observations of full missed by both bm25 and semantic finetune (missing[:10])\n",
    "\n",
    "1. '54110' --> BLM description / debate. even though missed still relevant. bm25 --> news articles about police and protests. semantic finetune --> wikipedia pages about individuals shot by police officers. \n",
    "2. '31481' --> about computer memory. Both returned somewhat relevant wiki pages. but induced demand is missed, possibly because the last comment is the url alone\n",
    "3. '9643' --> cows and visions and colors. semantic finetune way off with mad cow disease. but bm25 gives color blindness and vision test examples. Many results with fragments. Likely artificially decreases scores, especially with wikipedia. More preprocessing needed.\n",
    "4. '150732' --> trump wiretap. all results about wiretap. interestingly, they are all news articles. Top may be missed because a bit of irrelevant meta text at top of article. More preprocessing needed\n",
    "5. '47250' --> trump exec actions but talking about veteren stuff. Mentioned in passing and a long comment. Difficult to recognize as a human that the url was there. \n",
    "6. '62920' --> england and countries. bm25 takes it literally and finds country wikipedia. semantic finetune finds articles based on urls already in comments (e.g.,Montevideo_Convention )"
   ]
  },
  {
   "cell_type": "code",
   "execution_count": 21,
   "metadata": {},
   "outputs": [
    {
     "data": {
      "text/plain": [
       "['119', '1120', '1291', '2312', '2418', '2571', '2572', '2686', '2698', '2837']"
      ]
     },
     "execution_count": 21,
     "metadata": {},
     "output_type": "execute_result"
    }
   ],
   "source": [
    "inboth[:10]"
   ]
  },
  {
   "cell_type": "markdown",
   "metadata": {},
   "source": [
    "Observations of proactive missed by both bm25 and semantic finetune"
   ]
  },
  {
   "cell_type": "code",
   "execution_count": 46,
   "metadata": {},
   "outputs": [
    {
     "name": "stdout",
     "output_type": "stream",
     "text": [
      "55.94560357675112\n",
      "107.61278231619414\n"
     ]
    }
   ],
   "source": [
    "# for the remove last setting\n",
    "\n",
    "inboth_lengths = []\n",
    "missing_lengths = []\n",
    "for query in inboth:\n",
    "    inboth_lengths.append(lengths[query])\n",
    "for query in missing:\n",
    "    missing_lengths.append(lengths[query])\n",
    "print(sum(inboth_lengths) / len(inboth_lengths))\n",
    "print(sum(missing_lengths) / len(missing_lengths))"
   ]
  },
  {
   "cell_type": "code",
   "execution_count": 30,
   "metadata": {},
   "outputs": [
    {
     "name": "stdout",
     "output_type": "stream",
     "text": [
      "Query:  You might also find it interesting that pigeons produce milk! Both sexes, even! It's called crop milk. <C> isn't it called fight milk <C>\n",
      "\n",
      "https://en.wikipedia.org/wiki/Crop_milk 0c594a950580451489075dca3a6aa63d\n",
      "\t A greater flamingo chick in Zoo Basel is fed crop milkCrop milk is a secretion from the lining of the crop of parent birds that is regurgitated to young birds. It is found among all pigeons and doves where it is referred to as pigeon milk. An analog to crop milk is also secreted from the esophagus of flamingos and the male emperor penguin.[1][2][3]Crop milk bears little physical resemblance to mammalian milk. Crop milk is a semi-solid substance somewhat like pale yellow cottage cheese. It is ext\n",
      "https://en.wikipedia.org/wiki/Crop_milk 0c594a950580451489075dca3a6aa63d\n",
      "\t A greater flamingo chick in Zoo Basel is fed crop milkCrop milk is a secretion from the lining of the crop of parent birds that is regurgitated to young birds. It is found among all pigeons and doves where it is referred to as pigeon milk. An analog to crop milk is also secreted from the esophagus of flamingos and the male emperor penguin.[1][2][3]Crop milk bears little physical resemblance to mammalian milk. Crop milk is a semi-solid substance somewhat like pale yellow cottage cheese. It is ext\n",
      "https://en.wikipedia.org/wiki/Pouter 0f3708fd292941598dcde51a7219dcbf\n",
      "\t The Pouter pigeons are domesticated varieties of the rock dove, Columba livia, characterized by a very large, inflatable crop.[1]They are kept as ornamental or fancy breeds, valued for their unusual appearance. There are many varieties of pouter with little in common except for the nature of the crop.The origin of the breed group is unknown, but Pouters have been bred in Europe for at least 400 years.^ Levi, Wendell (1977). The Pigeon. Sumter, S.C.: Levi Publishing Co, Inc. ISBN 0-85390-013-2.Me\n",
      "https://en.wikipedia.org/wiki/Lovebird 02ef7c269e274d3f9c3ade3f68d550f3\n",
      "\t A feral peach-faced lovebird eating seeds in ChicagoPsittacus swindernianus (black-collared lovebird)Kuhl, 1820Lovebird is the common name for the genus Agapornis, a small group of parrots in the Old World parrot family Psittaculidae. Of the nine species in the genus, all are native to the African continent, with the grey-headed lovebird being native to the African island of Madagascar.Social and affectionate, the name comes from the parrots' strong, monogamous pair bonding and the long periods \n",
      "https://en.wikipedia.org/wiki/Feral_chicken 09aa93f4e7034d00ab9a6d18c3ce7ab2\n",
      "\t This article needs additional citations for verification. Please help improve this article by adding citations to reliable sources. Unsourced material may be challenged and removed.Find sources: \"Feral chicken\" – news · newspapers · books · scholar · JSTOR (July 2015) (Learn how and when to remove this template message)Feral chickens are derived from domestic chickens (Gallus gallus domesticus) who have returned to the wild. Like the red junglefowl (the closest wild relative of domestic chickens\n",
      "https://en.wikipedia.org/wiki/Pigmy_Pouter 0db798f9e61c429fb87e6912fe9da1b2\n",
      "\t This article may be written from a fan's point of view, rather than a neutral point of view. Please clean it up to conform to a higher standard of quality, and to make it neutral in tone. (January 2021) (Learn how and when to remove this template message)Pigmy PouterBlue bar Pigmy PouterConservation statusCommonCountry of originEnglandClassificationUS Breed GroupFancyNotesThe pigmy pouter is a smaller version of the English Pouter hence the name \"pigmy\"PigeonColumba liviaThe Pigmy Pouter is a br\n",
      "https://en.wikipedia.org/wiki/Release_dove d19b24cf1cf54c1b976a89107cb40672\n",
      "\t A release dove, is usually a small white domestic rock dove used for events such as public ceremonies, weddings and funerals. They typically have a symbolic meaning for the event.Typically one or more white doves are released. Sometimes doves are called pigeons, there is no distinction.[1]Usually domestic rock doves (Columba livia domestica) bred for small size and white coloration are released due to their homing ability.[2][3]Barbary doves (Streptopelia risoria), also known as ringneck doves, \n",
      "https://en.wikipedia.org/wiki/White-faced_cuckoo-dove de82db0d8a0142e59d0364a6de36aef2\n",
      "\t For the species alternatively named white-faced dove in the genus Leptotila, see Yungas dove.The white-faced cuckoo-dove (Turacoena manadensis), also known as the white-faced dove, is a species of bird in the family Columbidae.It is endemic to Sulawesi and the Togian Islands in Indonesia. The Sula cuckoo-dove was previously considered conspecific.^ BirdLife International (2019). \"Turacoena manadensis\". IUCN Red List of Threatened Species. 2019: e.T154619546A154612783. doi:10.2305/IUCN.UK.2019-3.\n",
      "https://en.wikipedia.org/wiki/Victoria_crowned_pigeon 5489a5dedf60414f9b31b1347ab839c6\n",
      "\t The Victoria crowned pigeon (Goura victoria) is a large, bluish-grey pigeon with elegant blue lace-like crests, maroon breast and red irises. It is part of a genus (Goura) of four unique, very large, ground-dwelling pigeons native to the New Guinea region. The bird may be easily recognized by the unique white tips on its crests and by its deep 'whooping' sounds made while calling.[3] Its name commemorates the British monarch Queen Victoria.The Victoria crowned pigeon is a deep blue-grey colour w\n",
      "http://www.dailymail.co.uk/news/peoplesdaily/article-4263964/Shocked-farmers-discover-panda-feasting-goat.html 70d606cf6a8f4bf4babfb137bcdd6d18\n",
      "\t Farmer discovers a panda feasting on a goat in China | Daily Mail OnlineSCOTUS is set to OVERTURN Roe v. Wade according to leaked draft majority opinion that calls the landmark 1973 decision legalizing abortion nationwide 'egregiously wrong from the start'Hundreds of demonstrators take to the streets out the US Supreme Court Building hours after news broke that SCOTUS is set to overturn Roe v. WadeREVEALED: The 26 states where abortion will likely become illegal if SCOTUS overturns Roe v. WadeRo\n",
      "https://en.wikipedia.org/wiki/Painted_bunting 2c4dad27478e4b43b06608da52875cd5\n",
      "\t Range of P. ciris   Breeding range  Wintering rangeThe painted bunting (Passerina ciris) is a species of bird in the cardinal family, Cardinalidae. It is native to North America. The bright plumage of the male only comes in the second year of life; in the first year they can only be distinguished from the female by close inspection.The painted bunting was originally described by Carl Linnaeus in his eighteenth-century work Systema Naturae.[2] There are two recognized subspecies of the painted bu\n"
     ]
    }
   ],
   "source": [
    "query_id = '2837'\n",
    "print('Query: ',queries_full[query_id])\n",
    "print(file_url_map[relevance_scores[query_id]], relevance_scores[query_id])\n",
    "print('\\t', load_webpage_text(relevance_scores[query_id]))\n",
    "#print('Run: ', semantic_finetune_full[query_id], '\\n')\n",
    "for x in semantic_finetune_full[query_id]:\n",
    "    print(file_url_map[x],x)\n",
    "    print('\\t', load_webpage_text(x))"
   ]
  }
 ],
 "metadata": {
  "interpreter": {
   "hash": "31f2aee4e71d21fbe5cf8b01ff0e069b9275f58929596ceb00d14d90e3e16cd6"
  },
  "kernelspec": {
   "display_name": "Python 3.8.10 64-bit",
   "language": "python",
   "name": "python3"
  },
  "language_info": {
   "codemirror_mode": {
    "name": "ipython",
    "version": 3
   },
   "file_extension": ".py",
   "mimetype": "text/x-python",
   "name": "python",
   "nbconvert_exporter": "python",
   "pygments_lexer": "ipython3",
   "version": "3.8.10"
  },
  "orig_nbformat": 4
 },
 "nbformat": 4,
 "nbformat_minor": 2
}
