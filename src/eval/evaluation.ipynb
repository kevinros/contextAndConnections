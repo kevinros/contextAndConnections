{
 "cells": [
  {
   "cell_type": "code",
   "execution_count": 1,
   "metadata": {},
   "outputs": [],
   "source": [
    "import eval"
   ]
  },
  {
   "cell_type": "code",
   "execution_count": 16,
   "metadata": {},
   "outputs": [],
   "source": [
    "# Change for whichever run you're evaluating\n",
    "path_to_run = '/home/kjros2/contextualSearch/contextAndConnections/src/semantic_finetune_v2/contriever-main/out/test_full.txt'\n",
    "path_to_relevance_scores = '../data_2017-09/queries/relevance_scores.txt'\n",
    "\n",
    "# This is important, so that we know how many queries to expect. Can use the full setting in all cases, just need to change between train/val/test. \n",
    "all_query_path = '../data_2017-09/queries/queries_test.tsv'"
   ]
  },
  {
   "cell_type": "code",
   "execution_count": 17,
   "metadata": {},
   "outputs": [
    {
     "name": "stdout",
     "output_type": "stream",
     "text": [
      "P@1:  0.12092596235818742\n",
      "MRR@10:  0.1743789860797531\n"
     ]
    }
   ],
   "source": [
    "run = eval.load_run(path_to_run)\n",
    "rs = eval.load_rel_scores(path_to_relevance_scores)\n",
    "q_ids = eval.load_query_ids(all_query_path)\n",
    "print('P@1: ', eval.compute_p1(rs,run, q_ids))\n",
    "print('MRR@10: ', eval.compute_mrr10(rs,run, q_ids))"
   ]
  }
 ],
 "metadata": {
  "kernelspec": {
   "display_name": "Python 3.6.8 64-bit",
   "language": "python",
   "name": "python3"
  },
  "language_info": {
   "codemirror_mode": {
    "name": "ipython",
    "version": 3
   },
   "file_extension": ".py",
   "mimetype": "text/x-python",
   "name": "python",
   "nbconvert_exporter": "python",
   "pygments_lexer": "ipython3",
   "version": "3.8.10"
  },
  "orig_nbformat": 4,
  "vscode": {
   "interpreter": {
    "hash": "31f2aee4e71d21fbe5cf8b01ff0e069b9275f58929596ceb00d14d90e3e16cd6"
   }
  }
 },
 "nbformat": 4,
 "nbformat_minor": 2
}
