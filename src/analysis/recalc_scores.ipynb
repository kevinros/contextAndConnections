{
 "cells": [
  {
   "cell_type": "code",
   "execution_count": 2,
   "metadata": {},
   "outputs": [],
   "source": [
    "# make cluster mapping\n",
    "path_to_clusters = \"matching/clusters.csv\"\n",
    "id_cluster_map = {}\n",
    "with open(path_to_clusters, \"r\") as f:\n",
    "    for i,line in enumerate(f):\n",
    "        if i == 0: continue\n",
    "        webpage_id, cluster = line.split(\", \")\n",
    "        webpage_id = webpage_id.replace(\".json\", \"\").strip()\n",
    "        cluster = cluster.replace(\".json\", \"\").strip()\n",
    "        if webpage_id not in id_cluster_map:\n",
    "            id_cluster_map[webpage_id] = cluster"
   ]
  },
  {
   "cell_type": "code",
   "execution_count": 3,
   "metadata": {},
   "outputs": [],
   "source": [
    "def load_rel_scores(path_to_rel_scores):\n",
    "    # map from queryid to webpage filename\n",
    "    relevance_scores = {}\n",
    "    with open(path_to_rel_scores, 'r') as f:\n",
    "        for line in f:\n",
    "            split_line = line.split()\n",
    "            relevance_scores[split_line[0]] = split_line[2]\n",
    "    return relevance_scores\n",
    "relevance_scores = load_rel_scores('../data_2017-09/queries/relevance_scores.txt')"
   ]
  },
  {
   "cell_type": "code",
   "execution_count": 4,
   "metadata": {},
   "outputs": [],
   "source": [
    "# compute recall at 10 by cluster\n",
    "def recompute_scores(path_to_run, clusters):\n",
    "    scores = {}\n",
    "    with open(path_to_run, \"r\") as f:\n",
    "        for line in f:\n",
    "            split_line = line.split()\n",
    "            query_id = split_line[0]\n",
    "            doc_id = split_line[2]\n",
    "\n",
    "            ground_truth_cluster = clusters[relevance_scores[query_id]]\n",
    "\n",
    "            if query_id not in scores:\n",
    "                scores[query_id] = []\n",
    "\n",
    "            if len(scores[query_id]) == 10: continue # stop at recall 10\n",
    "\n",
    "            if clusters[doc_id] == ground_truth_cluster:\n",
    "                scores[query_id].append(1)\n",
    "            else:\n",
    "                scores[query_id].append(0)\n",
    "\n",
    "    return scores"
   ]
  },
  {
   "cell_type": "code",
   "execution_count": 5,
   "metadata": {},
   "outputs": [],
   "source": [
    "def calc_recall_clusters(scores):\n",
    "    total_score = 0\n",
    "    for query in scores:\n",
    "        for i,score in enumerate(scores[query]):\n",
    "            if score == 1:\n",
    "                total_score += 1 / (i+1) \n",
    "                break\n",
    "    total_score = total_score / len(scores)\n",
    "    return total_score"
   ]
  },
  {
   "cell_type": "code",
   "execution_count": 5,
   "metadata": {},
   "outputs": [
    {
     "name": "stdout",
     "output_type": "stream",
     "text": [
      "0.29459857275373885\n",
      "0.2902240415476881\n"
     ]
    }
   ],
   "source": [
    "bm25_full_recompute = recompute_scores(\"/home/kjros2/contextualSearch/contextAndConnections/src/out/bm25_runs/v2_run.val_8_0.99.txt\", id_cluster_map)\n",
    "print(calc_recall_clusters(bm25_full_recompute))\n",
    "bm25_full_recompute = recompute_scores(\"/home/kjros2/contextualSearch/contextAndConnections/src/out/bm25_runs/v2_run.test_8_0.99.txt\", id_cluster_map)\n",
    "print(calc_recall_clusters(bm25_full_recompute))"
   ]
  },
  {
   "cell_type": "code",
   "execution_count": 6,
   "metadata": {},
   "outputs": [
    {
     "name": "stdout",
     "output_type": "stream",
     "text": [
      "0.3488577109347195\n",
      "0.3437141451177583\n"
     ]
    }
   ],
   "source": [
    "bm25_onlylast_recompute = recompute_scores(\"/home/kjros2/contextualSearch/contextAndConnections/src/out/bm25_runs/v2_run.onlylast.val_4_0.9.txt\", id_cluster_map)\n",
    "print(calc_recall_clusters(bm25_onlylast_recompute))\n",
    "bm25_onlylast_recompute = recompute_scores(\"/home/kjros2/contextualSearch/contextAndConnections/src/out/bm25_runs/v2_run.onlylast.test_4_0.9.txt\", id_cluster_map)\n",
    "print(calc_recall_clusters(bm25_onlylast_recompute))"
   ]
  },
  {
   "cell_type": "code",
   "execution_count": 7,
   "metadata": {},
   "outputs": [
    {
     "name": "stdout",
     "output_type": "stream",
     "text": [
      "0.13509853200539418\n",
      "0.1326275443142552\n"
     ]
    }
   ],
   "source": [
    "bm25_removelast_recompute = recompute_scores(\"../out/bm25_runs/run.removelast.val_7_0.99.txt\", id_cluster_map)\n",
    "print(calc_recall_clusters(bm25_removelast_recompute))\n",
    "bm25_removelast_recompute = recompute_scores(\"../out/bm25_runs/run.removelast.test_7_0.99.txt\", id_cluster_map)\n",
    "print(calc_recall_clusters(bm25_removelast_recompute))"
   ]
  },
  {
   "cell_type": "code",
   "execution_count": 8,
   "metadata": {},
   "outputs": [
    {
     "name": "stdout",
     "output_type": "stream",
     "text": [
      "0.33179860904215636\n",
      "0.3253665866197834\n"
     ]
    }
   ],
   "source": [
    "semanticfinetune_full_recompute = recompute_scores(\"../out/semantic_finetune_runs/train_bi-encoder-mnrl-msmarco-distilbert-cos-v5-queries-2022-06-01_12-04-50/eval/run.val_full.txt\", id_cluster_map)\n",
    "print(calc_recall_clusters(semanticfinetune_full_recompute))\n",
    "semanticfinetune_full_recompute = recompute_scores(\"../out/semantic_finetune_runs/train_bi-encoder-mnrl-msmarco-distilbert-cos-v5-queries-2022-06-01_12-04-50/eval/v2_run.test_full.txt\", id_cluster_map)\n",
    "print(calc_recall_clusters(semanticfinetune_full_recompute))"
   ]
  },
  {
   "cell_type": "code",
   "execution_count": 9,
   "metadata": {},
   "outputs": [
    {
     "name": "stdout",
     "output_type": "stream",
     "text": [
      "0.29112258346160885\n",
      "0.2906473180130481\n"
     ]
    }
   ],
   "source": [
    "semanticfinetune_onlylast_recompute = recompute_scores(\"../out/semantic_finetune_runs/train_bi-encoder-mnrl-msmarco-distilbert-cos-v5-queries_onlylast-2022-06-02_21-24-49/eval/run.val_onlylast.txt\", id_cluster_map)\n",
    "print(calc_recall_clusters(semanticfinetune_onlylast_recompute))\n",
    "semanticfinetune_onlylast_recompute = recompute_scores(\"../out/semantic_finetune_runs/train_bi-encoder-mnrl-msmarco-distilbert-cos-v5-queries_onlylast-2022-06-02_21-24-49/eval/v2_run.test_onlylast.txt\", id_cluster_map)\n",
    "print(calc_recall_clusters(semanticfinetune_onlylast_recompute))"
   ]
  },
  {
   "cell_type": "code",
   "execution_count": 10,
   "metadata": {},
   "outputs": [
    {
     "name": "stdout",
     "output_type": "stream",
     "text": [
      "0.09988152651571557\n",
      "0.0993271481762529\n"
     ]
    }
   ],
   "source": [
    "semanticfinetune_removelast_recompute = recompute_scores(\"/home/kjros2/contextualSearch/contextAndConnections/src/out/semantic_finetune_runs/train_bi-encoder-mnrl-msmarco-distilbert-cos-v5-queries_removelast-2022-05-22_18-44-28/eval/run.val_removelast.txt\", id_cluster_map)\n",
    "print(calc_recall_clusters(semanticfinetune_removelast_recompute))\n",
    "semanticfinetune_removelast_recompute = recompute_scores(\"/home/kjros2/contextualSearch/contextAndConnections/src/out/semantic_finetune_runs/train_bi-encoder-mnrl-msmarco-distilbert-cos-v5-queries_removelast-2022-05-22_18-44-28/eval/run.test_removelast.txt\", id_cluster_map)\n",
    "print(calc_recall_clusters(semanticfinetune_removelast_recompute))"
   ]
  },
  {
   "cell_type": "code",
   "execution_count": 12,
   "metadata": {},
   "outputs": [
    {
     "name": "stdout",
     "output_type": "stream",
     "text": [
      "0.2770709511291541\n",
      "0.27309466026998597\n"
     ]
    }
   ],
   "source": [
    "bm25_rm3_full_recompute = recompute_scores(\"/home/kjros2/contextualSearch/contextAndConnections/src/out/bm25rm3_runs/v2_run.val_8_0.99_0.9_1_10.txt\", id_cluster_map)\n",
    "print(calc_recall_clusters(bm25_rm3_full_recompute))\n",
    "bm25_rm3_full_recompute = recompute_scores(\"/home/kjros2/contextualSearch/contextAndConnections/src/out/bm25rm3_runs/v2_run.test_8_0.99_0.9_1_10.txt\", id_cluster_map)\n",
    "print(calc_recall_clusters(bm25_rm3_full_recompute))"
   ]
  },
  {
   "cell_type": "code",
   "execution_count": 13,
   "metadata": {},
   "outputs": [
    {
     "name": "stdout",
     "output_type": "stream",
     "text": [
      "0.3154231091093334\n",
      "0.3127130538722119\n"
     ]
    }
   ],
   "source": [
    "bm25_rm3_onlylast_recompute = recompute_scores(\"/home/kjros2/contextualSearch/contextAndConnections/src/out/bm25rm3_runs/v2_run.onlylast.val_4_0.9_0.9_1_10.txt\", id_cluster_map)\n",
    "print(calc_recall_clusters(bm25_rm3_onlylast_recompute))\n",
    "bm25_rm3_onlylast_recompute = recompute_scores(\"/home/kjros2/contextualSearch/contextAndConnections/src/out/bm25rm3_runs/v2_run.onlylast.test_4_0.9_0.9_1_10.txt\", id_cluster_map)\n",
    "print(calc_recall_clusters(bm25_rm3_onlylast_recompute))"
   ]
  },
  {
   "cell_type": "code",
   "execution_count": 14,
   "metadata": {},
   "outputs": [
    {
     "name": "stdout",
     "output_type": "stream",
     "text": [
      "0.12748888578363587\n",
      "0.12462012338504888\n"
     ]
    }
   ],
   "source": [
    "bm25_rm3_removelast_recompute = recompute_scores(\"/home/kjros2/contextualSearch/contextAndConnections/src/out/bm25rm3_runs/run.removelast.val_7_0.99_0.9_1_10.txt\", id_cluster_map)\n",
    "print(calc_recall_clusters(bm25_rm3_removelast_recompute))\n",
    "bm25_rm3_removelast_recompute = recompute_scores(\"/home/kjros2/contextualSearch/contextAndConnections/src/out/bm25rm3_runs/run.removelast.test_7_0.99_0.9_1_10.txt\", id_cluster_map)\n",
    "print(calc_recall_clusters(bm25_rm3_removelast_recompute))"
   ]
  },
  {
   "cell_type": "code",
   "execution_count": 15,
   "metadata": {},
   "outputs": [
    {
     "name": "stdout",
     "output_type": "stream",
     "text": [
      "0.2333481780790181\n",
      "0.23273563606044495\n"
     ]
    }
   ],
   "source": [
    "semantic_full_recompute = recompute_scores(\"/home/kjros2/contextualSearch/contextAndConnections/src/out/semantic_runs/v2_run.val_full_msmarco-distilbert-cos-v5.txt\", id_cluster_map)\n",
    "print(calc_recall_clusters(semantic_full_recompute))\n",
    "semantic_full_recompute = recompute_scores(\"/home/kjros2/contextualSearch/contextAndConnections/src/out/semantic_runs/v2_run.test_full_msmarco-distilbert-cos-v5.txt\", id_cluster_map)\n",
    "print(calc_recall_clusters(semantic_full_recompute))"
   ]
  },
  {
   "cell_type": "code",
   "execution_count": 16,
   "metadata": {},
   "outputs": [
    {
     "name": "stdout",
     "output_type": "stream",
     "text": [
      "0.23833332298856394\n",
      "0.24086232040196318\n"
     ]
    }
   ],
   "source": [
    "semantic_onlylast_recompute = recompute_scores(\"/home/kjros2/contextualSearch/contextAndConnections/src/out/semantic_runs/v2_run.val_onlylast_msmarco-distilbert-cos-v5.txt\", id_cluster_map)\n",
    "print(calc_recall_clusters(semantic_onlylast_recompute))\n",
    "semantic_onlylast_recompute = recompute_scores(\"/home/kjros2/contextualSearch/contextAndConnections/src/out/semantic_runs/v2_run.test_onlylast_msmarco-distilbert-cos-v5.txt\", id_cluster_map)\n",
    "print(calc_recall_clusters(semantic_onlylast_recompute))"
   ]
  },
  {
   "cell_type": "code",
   "execution_count": 17,
   "metadata": {},
   "outputs": [
    {
     "name": "stdout",
     "output_type": "stream",
     "text": [
      "0.10204345424301088\n",
      "0.10264969235557457\n"
     ]
    }
   ],
   "source": [
    "semantic_removelast_recompute = recompute_scores(\"/home/kjros2/contextualSearch/contextAndConnections/src/out/semantic_runs/run.val_removelast_msmarco-distilbert-cos-v5.txt\", id_cluster_map)\n",
    "print(calc_recall_clusters(semantic_removelast_recompute))\n",
    "semantic_removelast_recompute = recompute_scores(\"/home/kjros2/contextualSearch/contextAndConnections/src/out/semantic_runs/run.test_removelast_msmarco-distilbert-cos-v5.txt\", id_cluster_map)\n",
    "print(calc_recall_clusters(semantic_removelast_recompute))"
   ]
  },
  {
   "cell_type": "code",
   "execution_count": 18,
   "metadata": {},
   "outputs": [
    {
     "name": "stdout",
     "output_type": "stream",
     "text": [
      "0.36683246747604037\n",
      "0.35944032759889544\n"
     ]
    }
   ],
   "source": [
    "interpolated_full_recompute = recompute_scores(\"/home/kjros2/contextualSearch/contextAndConnections/src/out/interpolated/full.txt\", id_cluster_map)\n",
    "print(calc_recall_clusters(interpolated_full_recompute))\n",
    "interpolated_full_recompute = recompute_scores(\"/home/kjros2/contextualSearch/contextAndConnections/src/out/interpolated/test_full.txt\", id_cluster_map)\n",
    "print(calc_recall_clusters(interpolated_full_recompute))"
   ]
  },
  {
   "cell_type": "code",
   "execution_count": 19,
   "metadata": {},
   "outputs": [
    {
     "name": "stdout",
     "output_type": "stream",
     "text": [
      "0.36562267242663393\n",
      "0.36868280199482223\n"
     ]
    }
   ],
   "source": [
    "interpolated_onlylast_recompute = recompute_scores(\"/home/kjros2/contextualSearch/contextAndConnections/src/out/interpolated/onlylast.txt\", id_cluster_map)\n",
    "print(calc_recall_clusters(interpolated_onlylast_recompute))\n",
    "interpolated_onlylast_recompute = recompute_scores(\"/home/kjros2/contextualSearch/contextAndConnections/src/out/interpolated/test_onlylast.txt\", id_cluster_map)\n",
    "print(calc_recall_clusters(interpolated_onlylast_recompute))"
   ]
  },
  {
   "cell_type": "code",
   "execution_count": 20,
   "metadata": {},
   "outputs": [
    {
     "name": "stdout",
     "output_type": "stream",
     "text": [
      "0.14511509591671176\n",
      "0.1442418550474812\n"
     ]
    }
   ],
   "source": [
    "interpolated_removelast_recompute = recompute_scores(\"/home/kjros2/contextualSearch/contextAndConnections/src/out/interpolated/removelast.txt\", id_cluster_map)\n",
    "print(calc_recall_clusters(interpolated_removelast_recompute))\n",
    "interpolated_removelast_recompute = recompute_scores(\"/home/kjros2/contextualSearch/contextAndConnections/src/out/interpolated/test_removelast.txt\", id_cluster_map)\n",
    "print(calc_recall_clusters(interpolated_removelast_recompute))"
   ]
  },
  {
   "cell_type": "code",
   "execution_count": 6,
   "metadata": {},
   "outputs": [
    {
     "name": "stdout",
     "output_type": "stream",
     "text": [
      "0.18717569144446128\n",
      "0.18844683544172047\n"
     ]
    }
   ],
   "source": [
    "contriver_full_recompute = recompute_scores(\"/home/kjros2/contextualSearch/contextAndConnections/src/semantic_finetune_v2/contriever-main/out/val_full.txt\", id_cluster_map)\n",
    "print(calc_recall_clusters(contriver_full_recompute))\n",
    "contriver_full_recompute = recompute_scores(\"/home/kjros2/contextualSearch/contextAndConnections/src/semantic_finetune_v2/contriever-main/out/test_full.txt\", id_cluster_map)\n",
    "print(calc_recall_clusters(contriver_full_recompute))"
   ]
  },
  {
   "cell_type": "code",
   "execution_count": 7,
   "metadata": {},
   "outputs": [
    {
     "name": "stdout",
     "output_type": "stream",
     "text": [
      "0.23122118981412593\n",
      "0.23197919821960802\n"
     ]
    }
   ],
   "source": [
    "contriver_onlylast_recompute = recompute_scores(\"/home/kjros2/contextualSearch/contextAndConnections/src/semantic_finetune_v2/contriever-main/out/val_onlylast.txt\", id_cluster_map)\n",
    "print(calc_recall_clusters(contriver_onlylast_recompute))\n",
    "contriver_onlylast_recompute = recompute_scores(\"/home/kjros2/contextualSearch/contextAndConnections/src/semantic_finetune_v2/contriever-main/out/test_onlylast.txt\", id_cluster_map)\n",
    "print(calc_recall_clusters(contriver_onlylast_recompute))"
   ]
  },
  {
   "cell_type": "code",
   "execution_count": 8,
   "metadata": {},
   "outputs": [
    {
     "name": "stdout",
     "output_type": "stream",
     "text": [
      "0.07805783657745335\n",
      "0.08310110368933904\n"
     ]
    }
   ],
   "source": [
    "contriver_removelast_recompute = recompute_scores(\"/home/kjros2/contextualSearch/contextAndConnections/src/semantic_finetune_v2/contriever-main/out/val_removelast.txt\", id_cluster_map)\n",
    "print(calc_recall_clusters(contriver_removelast_recompute))\n",
    "contriver_removelast_recompute = recompute_scores(\"/home/kjros2/contextualSearch/contextAndConnections/src/semantic_finetune_v2/contriever-main/out/test_removelast.txt\", id_cluster_map)\n",
    "print(calc_recall_clusters(contriver_removelast_recompute))"
   ]
  }
 ],
 "metadata": {
  "kernelspec": {
   "display_name": "Python 3.6.8 64-bit",
   "language": "python",
   "name": "python3"
  },
  "language_info": {
   "codemirror_mode": {
    "name": "ipython",
    "version": 3
   },
   "file_extension": ".py",
   "mimetype": "text/x-python",
   "name": "python",
   "nbconvert_exporter": "python",
   "pygments_lexer": "ipython3",
   "version": "3.8.10"
  },
  "orig_nbformat": 4,
  "vscode": {
   "interpreter": {
    "hash": "31f2aee4e71d21fbe5cf8b01ff0e069b9275f58929596ceb00d14d90e3e16cd6"
   }
  }
 },
 "nbformat": 4,
 "nbformat_minor": 2
}
