{
 "cells": [
  {
   "cell_type": "code",
   "execution_count": 6,
   "metadata": {},
   "outputs": [
    {
     "name": "stdout",
     "output_type": "stream",
     "text": [
      "Number of total queries in train split: 129392\n",
      "Number of unique queries in train split: 128152\n",
      "Number of total queries in validation split: 15464\n",
      "Number of unique queries in validation split: 15434\n",
      "Number of total queries in test split: 15354\n",
      "Number of unique queries in test split: 15298\n"
     ]
    }
   ],
   "source": [
    "queries_train = set()\n",
    "queries_val = set()\n",
    "queries_test = set()\n",
    "\n",
    "num_queries_train = 0\n",
    "num_queries_val = 0\n",
    "num_queries_test = 0\n",
    "\n",
    "with open('../data_2017-09/queries/queries_train.tsv', 'r') as f:\n",
    "    for i,line in enumerate(f):\n",
    "        split_line = line.split('\\t')\n",
    "        query_id = split_line[0]\n",
    "        query = \" \".join(split_line[1:])\n",
    "        queries_train.add(query)\n",
    "        num_queries_train += 1\n",
    "\n",
    "print(\"Number of total queries in train split: {}\".format(num_queries_train))\n",
    "print(\"Number of unique queries in train split: {}\".format(len(queries_train)))\n",
    "\n",
    "with open('../data_2017-09/queries/queries_val.tsv', 'r') as f:\n",
    "    for i,line in enumerate(f):\n",
    "        split_line = line.split('\\t')\n",
    "        query_id = split_line[0]\n",
    "        query = \" \".join(split_line[1:])\n",
    "        queries_val.add(query)\n",
    "        num_queries_val += 1\n",
    "\n",
    "print(\"Number of total queries in validation split: {}\".format(num_queries_val))\n",
    "print(\"Number of unique queries in validation split: {}\".format(len(queries_val)))\n",
    "\n",
    "with open('../data_2017-09/queries/queries_test.tsv', 'r') as f:\n",
    "    for i,line in enumerate(f):\n",
    "        split_line = line.split('\\t')\n",
    "        query_id = split_line[0]\n",
    "        query = \" \".join(split_line[1:])\n",
    "        queries_test.add(query)\n",
    "        num_queries_test += 1\n",
    "\n",
    "print(\"Number of total queries in test split: {}\".format(num_queries_test))\n",
    "print(\"Number of unique queries in test split: {}\".format(len(queries_test)))"
   ]
  },
  {
   "cell_type": "code",
   "execution_count": 11,
   "metadata": {},
   "outputs": [
    {
     "name": "stdout",
     "output_type": "stream",
     "text": [
      "Number of queries existing in val and train split: 173\n",
      "Number of queries existing in test and train split: 156\n"
     ]
    }
   ],
   "source": [
    "# find number of queries in validation set existing in train set\n",
    "print(\"Number of queries existing in both val and train splits: {}\".format(len(queries_train.intersection(queries_val))))\n",
    "\n",
    "# find queries in test set existing in train set\n",
    "print(\"Number of queries existing in both test and train splits: {}\".format(len(queries_train.intersection(queries_test))))"
   ]
  }
 ],
 "metadata": {
  "kernelspec": {
   "display_name": "Python 3.9.12 ('mjin': conda)",
   "language": "python",
   "name": "python3"
  },
  "language_info": {
   "codemirror_mode": {
    "name": "ipython",
    "version": 3
   },
   "file_extension": ".py",
   "mimetype": "text/x-python",
   "name": "python",
   "nbconvert_exporter": "python",
   "pygments_lexer": "ipython3",
   "version": "3.9.12"
  },
  "orig_nbformat": 4,
  "vscode": {
   "interpreter": {
    "hash": "186f772927d269f45103655f755c1be5fcd73f402c4c2c68e610ffbef55b1b56"
   }
  }
 },
 "nbformat": 4,
 "nbformat_minor": 2
}
