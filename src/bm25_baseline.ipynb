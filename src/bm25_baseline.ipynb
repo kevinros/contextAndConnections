{
 "cells": [
  {
   "cell_type": "markdown",
   "metadata": {},
   "source": [
    "There is a slight problem with our formatting of webpage storage (too many files for pyserini). The indexing appears to freeze. So this is a script that makes it indexible by placing all webpages into a single file, then removing it once indexing is complete."
   ]
  },
  {
   "cell_type": "code",
   "execution_count": null,
   "metadata": {},
   "outputs": [],
   "source": [
    "# reformat into jsonl file\n",
    "import os\n",
    "import json\n",
    "os.mkdir('data_2017-09/webpages_tmp')\n",
    "with open('data_2017-09/webpages_tmp/webpages_tmp.jsonl', 'w') as f:\n",
    "    for i,file in enumerate(os.listdir('data_2017-09/webpages/')):\n",
    "        webpage = json.load(open('data_2017-09/webpages/' + file, 'r'))\n",
    "        f.write(json.dumps(webpage) + '\\n')\n",
    "        if i % 10000 == 0: print(i)"
   ]
  },
  {
   "cell_type": "code",
   "execution_count": 2,
   "metadata": {},
   "outputs": [
    {
     "name": "stdout",
     "output_type": "stream",
     "text": [
      "WARNING: sun.reflect.Reflection.getCallerClass is not supported. This will impact performance.\n",
      "2022-05-07 11:43:17,504 INFO  [main] index.IndexCollection (IndexCollection.java:636) - Setting log level to DEBUG\n",
      "2022-05-07 11:43:17,506 INFO  [main] index.IndexCollection (IndexCollection.java:646) - Starting indexer...\n",
      "2022-05-07 11:43:17,506 INFO  [main] index.IndexCollection (IndexCollection.java:647) - ============ Loading Parameters ============\n",
      "2022-05-07 11:43:17,507 INFO  [main] index.IndexCollection (IndexCollection.java:648) - DocumentCollection path: data_2017-09/webpages_tmp\n",
      "2022-05-07 11:43:17,507 INFO  [main] index.IndexCollection (IndexCollection.java:649) - CollectionClass: JsonCollection\n",
      "2022-05-07 11:43:17,507 INFO  [main] index.IndexCollection (IndexCollection.java:650) - Generator: DefaultLuceneDocumentGenerator\n",
      "2022-05-07 11:43:17,508 INFO  [main] index.IndexCollection (IndexCollection.java:651) - Threads: 10\n",
      "2022-05-07 11:43:17,508 INFO  [main] index.IndexCollection (IndexCollection.java:652) - Language: en\n",
      "2022-05-07 11:43:17,508 INFO  [main] index.IndexCollection (IndexCollection.java:653) - Stemmer: porter\n",
      "2022-05-07 11:43:17,508 INFO  [main] index.IndexCollection (IndexCollection.java:654) - Keep stopwords? false\n",
      "2022-05-07 11:43:17,509 INFO  [main] index.IndexCollection (IndexCollection.java:655) - Stopwords: data_2017-09/stopwords.txt\n",
      "2022-05-07 11:43:17,509 INFO  [main] index.IndexCollection (IndexCollection.java:656) - Store positions? false\n",
      "2022-05-07 11:43:17,509 INFO  [main] index.IndexCollection (IndexCollection.java:657) - Store docvectors? false\n",
      "2022-05-07 11:43:17,510 INFO  [main] index.IndexCollection (IndexCollection.java:658) - Store document \"contents\" field? false\n",
      "2022-05-07 11:43:17,510 INFO  [main] index.IndexCollection (IndexCollection.java:659) - Store document \"raw\" field? false\n",
      "2022-05-07 11:43:17,510 INFO  [main] index.IndexCollection (IndexCollection.java:660) - Optimize (merge segments)? false\n",
      "2022-05-07 11:43:17,510 INFO  [main] index.IndexCollection (IndexCollection.java:661) - Whitelist: null\n",
      "2022-05-07 11:43:17,511 INFO  [main] index.IndexCollection (IndexCollection.java:662) - Pretokenized?: false\n",
      "2022-05-07 11:43:17,511 INFO  [main] index.IndexCollection (IndexCollection.java:682) - Directly building Lucene indexes...\n",
      "2022-05-07 11:43:17,511 INFO  [main] index.IndexCollection (IndexCollection.java:683) - Index path: data_2017-09/pyserini/pyserini_index\n",
      "2022-05-07 11:43:17,722 INFO  [main] index.IndexCollection (IndexCollection.java:738) - ============ Indexing Collection ============\n",
      "2022-05-07 11:43:17,926 INFO  [main] index.IndexCollection (IndexCollection.java:839) - Thread pool with 10 threads initialized.\n",
      "2022-05-07 11:43:17,926 INFO  [main] index.IndexCollection (IndexCollection.java:841) - Initializing collection in data_2017-09/webpages_tmp\n",
      "2022-05-07 11:43:17,929 INFO  [main] index.IndexCollection (IndexCollection.java:850) - 1 file found\n",
      "2022-05-07 11:43:17,929 INFO  [main] index.IndexCollection (IndexCollection.java:851) - Starting to index...\n",
      "2022-05-07 11:44:17,934 INFO  [main] index.IndexCollection (IndexCollection.java:869) - 30,000 documents indexed\n",
      "2022-05-07 11:45:17,935 INFO  [main] index.IndexCollection (IndexCollection.java:869) - 70,000 documents indexed\n",
      "2022-05-07 11:45:58,507 DEBUG [pool-2-thread-1] index.IndexCollection$LocalIndexerThread (IndexCollection.java:248) - webpages_tmp/webpages_tmp.jsonl: 98231 docs added.\n",
      "2022-05-07 11:46:37,286 INFO  [main] index.IndexCollection (IndexCollection.java:935) - Indexing Complete! 98,231 documents indexed\n",
      "2022-05-07 11:46:37,287 INFO  [main] index.IndexCollection (IndexCollection.java:936) - ============ Final Counter Values ============\n",
      "2022-05-07 11:46:37,287 INFO  [main] index.IndexCollection (IndexCollection.java:937) - indexed:           98,231\n",
      "2022-05-07 11:46:37,287 INFO  [main] index.IndexCollection (IndexCollection.java:938) - unindexable:            0\n",
      "2022-05-07 11:46:37,287 INFO  [main] index.IndexCollection (IndexCollection.java:939) - empty:                  0\n",
      "2022-05-07 11:46:37,288 INFO  [main] index.IndexCollection (IndexCollection.java:940) - skipped:                0\n",
      "2022-05-07 11:46:37,288 INFO  [main] index.IndexCollection (IndexCollection.java:941) - errors:                 0\n",
      "2022-05-07 11:46:37,293 INFO  [main] index.IndexCollection (IndexCollection.java:944) - Total 98,231 documents indexed in 00:03:19\n"
     ]
    }
   ],
   "source": [
    "# sets up the pyserini sparse index\n",
    "!python3 -m pyserini.index.lucene --stopwords \"data_2017-09/stopwords.txt\" --collection JsonCollection --input \"data_2017-09/webpages_tmp\" --index \"data_2017-09/pyserini/pyserini_index\" --generator DefaultLuceneDocumentGenerator --threads 10 -verbose"
   ]
  },
  {
   "cell_type": "code",
   "execution_count": 3,
   "metadata": {},
   "outputs": [],
   "source": [
    "os.remove('data_2017-09/webpages_tmp/webpages_tmp.jsonl')\n",
    "os.rmdir('data_2017-09/webpages_tmp')"
   ]
  },
  {
   "cell_type": "code",
   "execution_count": 2,
   "metadata": {},
   "outputs": [],
   "source": [
    "from eval import eval"
   ]
  },
  {
   "cell_type": "markdown",
   "metadata": {},
   "source": [
    "### BM25 for full run"
   ]
  },
  {
   "cell_type": "code",
   "execution_count": 1,
   "metadata": {},
   "outputs": [
    {
     "name": "stdout",
     "output_type": "stream",
     "text": [
      "Setting BM25 parameters: k1=8.0, b=0.99\n",
      "Using custom stopwords=data_2017-09/stopwords.txt\n",
      "Running data_2017-09/queries/queries_test.tsv topics, saving to out/bm25_runs/run.test_8_0.99.txt...\n",
      "100%|█████████████████████████████████████| 15249/15249 [04:37<00:00, 55.04it/s]\n"
     ]
    }
   ],
   "source": [
    "!python3 -m pyserini.search.lucene --stopwords \"data_2017-09/stopwords.txt\" --batch-size 50 --threads 10 --hits 10 --index \"data_2017-09/pyserini/pyserini_index\" --topics \"data_2017-09/queries/queries_test.tsv\" --output out/bm25_runs/run.test_8_0.99.txt --bm25 --k1 8 --b 0.99\n",
    "\n",
    "# note MAP = MRR when there is exactly one relevant result\n",
    "# https://stats.stackexchange.com/questions/127041/mean-average-precision-vs-mean-reciprocal-ran\n",
    "#!python3 -m pyserini.eval.trec_eval -m P.1 \"data_2017-09/queries/relevance_scores.txt\" out/bm25_runs/run.val_4_0.9.txt"
   ]
  },
  {
   "cell_type": "code",
   "execution_count": 4,
   "metadata": {},
   "outputs": [
    {
     "name": "stdout",
     "output_type": "stream",
     "text": [
      "P@1:  0.20203336809176226\n",
      "MRR@10:  0.27804125908270966\n"
     ]
    }
   ],
   "source": [
    "ru = eval.load_run('out/bm25_runs/run.test_8_0.99.txt')\n",
    "rs = eval.load_rel_scores('data_2017-09/queries/relevance_scores.txt')\n",
    "q_ids = eval.load_query_ids('data_2017-09/queries/queries_val.tsv')\n",
    "print('P@1: ', eval.compute_p1(rs,ru, q_ids))\n",
    "print('MRR@10: ', eval.compute_mrr10(rs,ru, q_ids))"
   ]
  },
  {
   "cell_type": "markdown",
   "metadata": {},
   "source": [
    "### BM25 for only last"
   ]
  },
  {
   "cell_type": "code",
   "execution_count": 5,
   "metadata": {},
   "outputs": [
    {
     "name": "stdout",
     "output_type": "stream",
     "text": [
      "Setting BM25 parameters: k1=4.0, b=0.9\n",
      "Using custom stopwords=data_2017-09/stopwords.txt\n",
      "Running data_2017-09/queries_onlylast/queries_test.tsv topics, saving to out/bm25_runs/run.onlylast.test_4_0.9.txt...\n",
      "100%|█████████████████████████████████████| 15249/15249 [03:32<00:00, 71.60it/s]\n"
     ]
    }
   ],
   "source": [
    "!python3 -m pyserini.search.lucene --stopwords \"data_2017-09/stopwords.txt\" --batch-size 50 --threads 10 --hits 10 --index \"data_2017-09/pyserini/pyserini_index\" --topics \"data_2017-09/queries_onlylast/queries_test.tsv\" --output out/bm25_runs/run.onlylast.test_4_0.9.txt --bm25 --k1 4 --b 0.9"
   ]
  },
  {
   "cell_type": "code",
   "execution_count": 7,
   "metadata": {},
   "outputs": [
    {
     "name": "stdout",
     "output_type": "stream",
     "text": [
      "P@1:  0.23468456725755996\n",
      "MRR@10:  0.31207113167651523\n"
     ]
    }
   ],
   "source": [
    "ru = eval.load_run('out/bm25_runs/run.onlylast.test_4_0.9.txt')\n",
    "rs = eval.load_rel_scores('data_2017-09/queries/relevance_scores.txt')\n",
    "q_ids = eval.load_query_ids('data_2017-09/queries_onlylast/queries_val.tsv')\n",
    "print('P@1: ', eval.compute_p1(rs,ru, q_ids))\n",
    "print('MRR@10: ', eval.compute_mrr10(rs,ru, q_ids))"
   ]
  },
  {
   "cell_type": "markdown",
   "metadata": {},
   "source": [
    "### BM25 for remove last"
   ]
  },
  {
   "cell_type": "code",
   "execution_count": 8,
   "metadata": {},
   "outputs": [
    {
     "name": "stdout",
     "output_type": "stream",
     "text": [
      "Setting BM25 parameters: k1=7.0, b=0.99\n",
      "Using custom stopwords=data_2017-09/stopwords.txt\n",
      "Running data_2017-09/queries_removelast/queries_test.tsv topics, saving to out/bm25_runs/run.removelast.test_7_0.99.txt...\n",
      "100%|█████████████████████████████████████| 15249/15249 [03:26<00:00, 73.80it/s]\n"
     ]
    }
   ],
   "source": [
    "!python3 -m pyserini.search.lucene --stopwords \"data_2017-09/stopwords.txt\" --batch-size 50 --threads 10 --hits 10 --index \"data_2017-09/pyserini/pyserini_index\" --topics \"data_2017-09/queries_removelast/queries_test.tsv\" --output out/bm25_runs/run.removelast.test_7_0.99.txt --bm25 --k1 7 --b 0.99"
   ]
  },
  {
   "cell_type": "code",
   "execution_count": 10,
   "metadata": {},
   "outputs": [
    {
     "name": "stdout",
     "output_type": "stream",
     "text": [
      "P@1:  0.08192127215849844\n",
      "MRR@10:  0.12333250057930666\n"
     ]
    }
   ],
   "source": [
    "ru = eval.load_run('out/bm25_runs/run.removelast.test_7_0.99.txt')\n",
    "rs = eval.load_rel_scores('data_2017-09/queries/relevance_scores.txt')\n",
    "q_ids = eval.load_query_ids('data_2017-09/queries_removelast/queries_val.tsv')\n",
    "print('P@1: ', eval.compute_p1(rs,ru, q_ids))\n",
    "print('MRR@10: ', eval.compute_mrr10(rs,ru, q_ids))"
   ]
  },
  {
   "cell_type": "markdown",
   "metadata": {},
   "source": [
    "### For easy evaluation of semantic search baseline"
   ]
  },
  {
   "cell_type": "code",
   "execution_count": 6,
   "metadata": {},
   "outputs": [
    {
     "name": "stdout",
     "output_type": "stream",
     "text": [
      "P@1:  0.06654066736183524\n",
      "MRR@10:  0.09665750119999321\n"
     ]
    }
   ],
   "source": [
    "ru = eval.load_run('out/semantic_runs/run.test_removelast_msmarco-distilbert-cos-v5.txt')\n",
    "rs = eval.load_rel_scores('data_2017-09/queries/relevance_scores.txt')\n",
    "q_ids = eval.load_query_ids('data_2017-09/queries/queries_val.tsv')\n",
    "print('P@1: ', eval.compute_p1(rs,ru, q_ids))\n",
    "print('MRR@10: ', eval.compute_mrr10(rs,ru, q_ids))"
   ]
  },
  {
   "cell_type": "markdown",
   "metadata": {},
   "source": [
    "### For semantic fine tune CSV validation analysis"
   ]
  },
  {
   "cell_type": "code",
   "execution_count": 3,
   "metadata": {},
   "outputs": [
    {
     "name": "stdout",
     "output_type": "stream",
     "text": [
      "epoch steps cos_sim-Precision@1 cos_sim-MRR@10 dot_score-Precision@1 dot_score-MRR@10\n",
      "0 3500 0.04959593326381648 0.07674741277289501 0.04959593326381648 0.07674741277289501\n",
      "0 -1 0.05969760166840459 0.09267510075806472 0.05969760166840459 0.09267510075806472\n",
      "1 3500 0.05194212721584984 0.08270819885131658 0.05194212721584984 0.08270819885131658\n",
      "1 -1 0.05298488008342023 0.08063050341791222 0.05298488008342023 0.08063050341791222\n",
      "2 3500 0.05396246089676746 0.08406054483837325 0.05396246089676746 0.08406054483837325\n",
      "2 -1 0.0513555787278415 0.07936466557425889 0.0513555787278415 0.07936466557425889\n",
      "3 3500 0.049791449426485924 0.07600654617077973 0.049791449426485924 0.07600654617077973\n",
      "3 -1 0.049661105318039626 0.07581180586589875 0.049661105318039626 0.07581180586589875\n",
      "4 3500 0.05070385818561001 0.07780074316831358 0.05070385818561001 0.07780074316831358\n",
      "4 -1 0.04998696558915537 0.07757600302894882 0.04998696558915537 0.07757600302894882\n"
     ]
    }
   ],
   "source": [
    "import csv\n",
    "#with open('out/semantic_finetune_runs/train_bi-encoder-mnrl-msmarco-distilbert-dot-v5-queries_onlylast-2022-05-17_19-33-33/eval/Information-Retrieval_evaluation_results.csv') as csvfile:\n",
    "#with open('out/semantic_finetune_runs/train_bi-encoder-mnrl-msmarco-distilbert-dot-v5-queries_onlylast-2022-05-17_12-01-23/eval/Information-Retrieval_evaluation_results.csv') as csvfile:\n",
    "\n",
    "#with open('out/semantic_finetune_runs/train_bi-encoder-mnrl-msmarco-distilbert-dot-v5-queries_removelast-2022-05-18_13-27-41/eval/Information-Retrieval_evaluation_results.csv') as csvfile: #cosine\n",
    "#with open('out/semantic_finetune_runs/train_bi-encoder-mnrl-msmarco-distilbert-dot-v5-queries_removelast-2022-05-19_07-51-48/eval/Information-Retrieval_evaluation_results.csv') as csvfile: #dot\n",
    "\n",
    "#with open('out/semantic_finetune_runs/train_bi-encoder-mnrl-msmarco-distilbert-cos-v5-queries-2022-05-21_20-12-34/eval/Information-Retrieval_evaluation_results.csv') as csvfile:\n",
    "#with open('out/semantic_finetune_runs/train_bi-encoder-mnrl-msmarco-distilbert-cos-v5-queries_onlylast-2022-05-22_10-35-21/eval/Information-Retrieval_evaluation_results.csv') as csvfile:\n",
    "with open('out/semantic_finetune_runs/train_bi-encoder-mnrl-msmarco-distilbert-cos-v5-queries_removelast-2022-05-22_18-44-28/eval/Information-Retrieval_evaluation_results.csv') as csvfile:\n",
    "    reader = csv.reader(csvfile)\n",
    "    for row in reader:\n",
    "        print(row[0], row[1], row[6], row[14], row[21], row[29])"
   ]
  },
  {
   "cell_type": "markdown",
   "metadata": {},
   "source": [
    "### For evaluation of semantic finetune"
   ]
  },
  {
   "cell_type": "code",
   "execution_count": 9,
   "metadata": {},
   "outputs": [
    {
     "name": "stdout",
     "output_type": "stream",
     "text": [
      "P@1:  0.05885036496350365\n",
      "MRR@10:  0.09088563649303986\n"
     ]
    }
   ],
   "source": [
    "ru = eval.load_run('out/semantic_finetune_runs/train_bi-encoder-mnrl-msmarco-distilbert-cos-v5-queries_removelast-2022-05-22_18-44-28/eval/run.test_removelast.txt')\n",
    "rs = eval.load_rel_scores('data_2017-09/queries/relevance_scores.txt')\n",
    "q_ids = eval.load_query_ids('data_2017-09/queries/queries_val.tsv')\n",
    "print('P@1: ', eval.compute_p1(rs,ru, q_ids))\n",
    "print('MRR@10: ', eval.compute_mrr10(rs,ru, q_ids))"
   ]
  }
 ],
 "metadata": {
  "interpreter": {
   "hash": "31f2aee4e71d21fbe5cf8b01ff0e069b9275f58929596ceb00d14d90e3e16cd6"
  },
  "kernelspec": {
   "display_name": "Python 3.8.10 64-bit",
   "language": "python",
   "name": "python3"
  },
  "language_info": {
   "codemirror_mode": {
    "name": "ipython",
    "version": 3
   },
   "file_extension": ".py",
   "mimetype": "text/x-python",
   "name": "python",
   "nbconvert_exporter": "python",
   "pygments_lexer": "ipython3",
   "version": "3.8.10"
  },
  "orig_nbformat": 4
 },
 "nbformat": 4,
 "nbformat_minor": 2
}
