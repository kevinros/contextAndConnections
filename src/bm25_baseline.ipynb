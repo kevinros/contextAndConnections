{
 "cells": [
  {
   "cell_type": "markdown",
   "metadata": {},
   "source": [
    "There is a slight problem with our formatting of webpage storage (too many files for pyserini). The indexing appears to freeze. So this is a script that makes it indexible by placing all webpages into a single file, then removing it once indexing is complete."
   ]
  },
  {
   "cell_type": "code",
   "execution_count": null,
   "metadata": {},
   "outputs": [],
   "source": [
    "# reformat into jsonl file\n",
    "import os\n",
    "import json\n",
    "os.mkdir('data_2017-09/webpages_tmp')\n",
    "with open('data_2017-09/webpages_tmp/webpages_tmp.jsonl', 'w') as f:\n",
    "    for i,file in enumerate(os.listdir('data_2017-09/webpages/')):\n",
    "        webpage = json.load(open('data_2017-09/webpages/' + file, 'r'))\n",
    "        f.write(json.dumps(webpage) + '\\n')\n",
    "        if i % 10000 == 0: print(i)"
   ]
  },
  {
   "cell_type": "code",
   "execution_count": 6,
   "metadata": {},
   "outputs": [
    {
     "name": "stdout",
     "output_type": "stream",
     "text": [
      "WARNING: sun.reflect.Reflection.getCallerClass is not supported. This will impact performance.\n",
      "2022-06-14 13:39:43,824 INFO  [main] index.IndexCollection (IndexCollection.java:636) - Setting log level to DEBUG\n",
      "2022-06-14 13:39:43,826 INFO  [main] index.IndexCollection (IndexCollection.java:646) - Starting indexer...\n",
      "2022-06-14 13:39:43,826 INFO  [main] index.IndexCollection (IndexCollection.java:647) - ============ Loading Parameters ============\n",
      "2022-06-14 13:39:43,826 INFO  [main] index.IndexCollection (IndexCollection.java:648) - DocumentCollection path: data_2017-09/webpages_tmp\n",
      "2022-06-14 13:39:43,827 INFO  [main] index.IndexCollection (IndexCollection.java:649) - CollectionClass: JsonCollection\n",
      "2022-06-14 13:39:43,827 INFO  [main] index.IndexCollection (IndexCollection.java:650) - Generator: DefaultLuceneDocumentGenerator\n",
      "2022-06-14 13:39:43,827 INFO  [main] index.IndexCollection (IndexCollection.java:651) - Threads: 10\n",
      "2022-06-14 13:39:43,828 INFO  [main] index.IndexCollection (IndexCollection.java:652) - Language: en\n",
      "2022-06-14 13:39:43,828 INFO  [main] index.IndexCollection (IndexCollection.java:653) - Stemmer: porter\n",
      "2022-06-14 13:39:43,828 INFO  [main] index.IndexCollection (IndexCollection.java:654) - Keep stopwords? false\n",
      "2022-06-14 13:39:43,828 INFO  [main] index.IndexCollection (IndexCollection.java:655) - Stopwords: data_2017-09/stopwords.txt\n",
      "2022-06-14 13:39:43,829 INFO  [main] index.IndexCollection (IndexCollection.java:656) - Store positions? false\n",
      "2022-06-14 13:39:43,829 INFO  [main] index.IndexCollection (IndexCollection.java:657) - Store docvectors? true\n",
      "2022-06-14 13:39:43,829 INFO  [main] index.IndexCollection (IndexCollection.java:658) - Store document \"contents\" field? false\n",
      "2022-06-14 13:39:43,830 INFO  [main] index.IndexCollection (IndexCollection.java:659) - Store document \"raw\" field? false\n",
      "2022-06-14 13:39:43,830 INFO  [main] index.IndexCollection (IndexCollection.java:660) - Optimize (merge segments)? false\n",
      "2022-06-14 13:39:43,830 INFO  [main] index.IndexCollection (IndexCollection.java:661) - Whitelist: null\n",
      "2022-06-14 13:39:43,830 INFO  [main] index.IndexCollection (IndexCollection.java:662) - Pretokenized?: false\n",
      "2022-06-14 13:39:43,831 INFO  [main] index.IndexCollection (IndexCollection.java:682) - Directly building Lucene indexes...\n",
      "2022-06-14 13:39:43,831 INFO  [main] index.IndexCollection (IndexCollection.java:683) - Index path: data_2017-09/pyserini/pyserini_index_rm3\n",
      "2022-06-14 13:39:43,847 INFO  [main] index.IndexCollection (IndexCollection.java:738) - ============ Indexing Collection ============\n",
      "2022-06-14 13:39:44,079 INFO  [main] index.IndexCollection (IndexCollection.java:839) - Thread pool with 10 threads initialized.\n",
      "2022-06-14 13:39:44,079 INFO  [main] index.IndexCollection (IndexCollection.java:841) - Initializing collection in data_2017-09/webpages_tmp\n",
      "2022-06-14 13:39:44,083 INFO  [main] index.IndexCollection (IndexCollection.java:850) - 1 file found\n",
      "2022-06-14 13:39:44,083 INFO  [main] index.IndexCollection (IndexCollection.java:851) - Starting to index...\n",
      "2022-06-14 13:40:44,091 INFO  [main] index.IndexCollection (IndexCollection.java:869) - 0 documents indexed\n",
      "2022-06-14 13:41:44,094 INFO  [main] index.IndexCollection (IndexCollection.java:869) - 10,000 documents indexed\n",
      "2022-06-14 13:42:44,096 INFO  [main] index.IndexCollection (IndexCollection.java:869) - 20,000 documents indexed\n",
      "2022-06-14 13:43:44,098 INFO  [main] index.IndexCollection (IndexCollection.java:869) - 30,000 documents indexed\n",
      "2022-06-14 13:44:44,099 INFO  [main] index.IndexCollection (IndexCollection.java:869) - 40,000 documents indexed\n",
      "2022-06-14 13:45:44,100 INFO  [main] index.IndexCollection (IndexCollection.java:869) - 60,000 documents indexed\n",
      "2022-06-14 13:46:44,102 INFO  [main] index.IndexCollection (IndexCollection.java:869) - 70,000 documents indexed\n",
      "2022-06-14 13:47:44,104 INFO  [main] index.IndexCollection (IndexCollection.java:869) - 80,000 documents indexed\n",
      "2022-06-14 13:48:12,609 DEBUG [pool-2-thread-1] index.IndexCollection$LocalIndexerThread (IndexCollection.java:248) - webpages_tmp/webpages_tmp.jsonl: 98231 docs added.\n",
      "2022-06-14 13:48:46,465 INFO  [main] index.IndexCollection (IndexCollection.java:935) - Indexing Complete! 98,231 documents indexed\n",
      "2022-06-14 13:48:46,466 INFO  [main] index.IndexCollection (IndexCollection.java:936) - ============ Final Counter Values ============\n",
      "2022-06-14 13:48:46,466 INFO  [main] index.IndexCollection (IndexCollection.java:937) - indexed:           98,231\n",
      "2022-06-14 13:48:46,466 INFO  [main] index.IndexCollection (IndexCollection.java:938) - unindexable:            0\n",
      "2022-06-14 13:48:46,466 INFO  [main] index.IndexCollection (IndexCollection.java:939) - empty:                  0\n",
      "2022-06-14 13:48:46,466 INFO  [main] index.IndexCollection (IndexCollection.java:940) - skipped:                0\n",
      "2022-06-14 13:48:46,467 INFO  [main] index.IndexCollection (IndexCollection.java:941) - errors:                 0\n",
      "2022-06-14 13:48:46,526 INFO  [main] index.IndexCollection (IndexCollection.java:944) - Total 98,231 documents indexed in 00:09:02\n"
     ]
    }
   ],
   "source": [
    "# sets up the pyserini sparse index\n",
    "!python3 -m pyserini.index.lucene --stopwords \"data_2017-09/stopwords.txt\" --collection JsonCollection --input \"data_2017-09/webpages_tmp\" --index \"data_2017-09/pyserini/pyserini_index_rm3\" --generator DefaultLuceneDocumentGenerator --threads 10 -verbose --storeDocvectors"
   ]
  },
  {
   "cell_type": "code",
   "execution_count": 7,
   "metadata": {},
   "outputs": [],
   "source": [
    "os.remove('data_2017-09/webpages_tmp/webpages_tmp.jsonl')\n",
    "os.rmdir('data_2017-09/webpages_tmp')"
   ]
  },
  {
   "cell_type": "code",
   "execution_count": 5,
   "metadata": {},
   "outputs": [],
   "source": [
    "from eval import eval\n",
    "\n",
    "# note: v2 runs are with the queries that have been updated to resolve the wiki mobile link error"
   ]
  },
  {
   "cell_type": "markdown",
   "metadata": {},
   "source": [
    "### BM25 for full run"
   ]
  },
  {
   "cell_type": "code",
   "execution_count": 1,
   "metadata": {},
   "outputs": [
    {
     "name": "stdout",
     "output_type": "stream",
     "text": [
      "Setting BM25 parameters: k1=8.0, b=0.99\n",
      "Using custom stopwords=data_2017-09/stopwords.txt\n",
      "Running data_2017-09/queries/queries_test.tsv topics, saving to out/bm25_runs/v2_run.test_8_0.99.txt...\n",
      "100%|█████████████████████████████████████| 15249/15249 [04:28<00:00, 56.71it/s]\n"
     ]
    }
   ],
   "source": [
    "!python3 -m pyserini.search.lucene --stopwords \"data_2017-09/stopwords.txt\" --batch-size 50 --threads 10 --hits 10 --index \"data_2017-09/pyserini/pyserini_index\" --topics \"data_2017-09/queries/queries_test.tsv\" --output out/bm25_runs/v2_run.test_8_0.99.txt --bm25 --k1 8 --b 0.99"
   ]
  },
  {
   "cell_type": "code",
   "execution_count": 1,
   "metadata": {},
   "outputs": [
    {
     "name": "stdout",
     "output_type": "stream",
     "text": [
      "Setting BM25 parameters: k1=8.0, b=0.99\n",
      "Using custom stopwords=data_2017-09/stopwords.txt\n",
      "Running data_2017-09/queries/queries_test.tsv topics, saving to out/bm25rm3_runs/v2_run.test_8_0.99_0.9_1_10.txt...\n",
      "100%|███████████████████████████████████| 15249/15249 [1:10:16<00:00,  3.62it/s]\n"
     ]
    }
   ],
   "source": [
    "# bm25 with rm3\n",
    "!python3 -m pyserini.search.lucene --stopwords \"data_2017-09/stopwords.txt\" --hits 10 --index \"data_2017-09/pyserini/pyserini_index_rm3\" --topics \"data_2017-09/queries/queries_test.tsv\" --output out/bm25rm3_runs/v2_run.test_8_0.99_0.9_1_10.txt --rm3 --k1 8 --b 0.99 --original_query_weight 0.9 --fb_docs 1 --fb_terms 10"
   ]
  },
  {
   "cell_type": "code",
   "execution_count": 8,
   "metadata": {},
   "outputs": [
    {
     "name": "stdout",
     "output_type": "stream",
     "text": [
      "P@1:  0.19352088661551578\n",
      "MRR@10:  0.254706761931827\n"
     ]
    }
   ],
   "source": [
    "ru = eval.load_run('out/bm25rm3_runs/v2_run.test_8_0.99_0.9_1_10.txt')\n",
    "rs = eval.load_rel_scores('data_2017-09/queries/relevance_scores.txt')\n",
    "q_ids = eval.load_query_ids('data_2017-09/queries/queries_test.tsv')\n",
    "print('P@1: ', eval.compute_p1(rs,ru, q_ids))\n",
    "print('MRR@10: ', eval.compute_mrr10(rs,ru, q_ids))"
   ]
  },
  {
   "cell_type": "markdown",
   "metadata": {},
   "source": [
    "### BM25 for only last"
   ]
  },
  {
   "cell_type": "code",
   "execution_count": 6,
   "metadata": {},
   "outputs": [
    {
     "name": "stdout",
     "output_type": "stream",
     "text": [
      "Setting BM25 parameters: k1=4.0, b=0.9\n",
      "Using custom stopwords=data_2017-09/stopwords.txt\n",
      "Running data_2017-09/queries_onlylast/queries_test.tsv topics, saving to out/bm25_runs/v2_run.onlylast.test_4_0.9.txt...\n",
      "100%|█████████████████████████████████████| 15249/15249 [03:32<00:00, 71.66it/s]\n"
     ]
    }
   ],
   "source": [
    "!python3 -m pyserini.search.lucene --stopwords \"data_2017-09/stopwords.txt\" --batch-size 50 --threads 10 --hits 10 --index \"data_2017-09/pyserini/pyserini_index\" --topics \"data_2017-09/queries_onlylast/queries_test.tsv\" --output out/bm25_runs/v2_run.onlylast.test_4_0.9.txt --bm25 --k1 4 --b 0.9"
   ]
  },
  {
   "cell_type": "code",
   "execution_count": 2,
   "metadata": {},
   "outputs": [
    {
     "name": "stdout",
     "output_type": "stream",
     "text": [
      "Setting BM25 parameters: k1=4.0, b=0.9\n",
      "Using custom stopwords=data_2017-09/stopwords.txt\n",
      "Running data_2017-09/queries_onlylast/queries_test.tsv topics, saving to out/bm25rm3_runs/v2_run.onlylast.test_4_0.9_0.9_1_10.txt...\n",
      "100%|█████████████████████████████████████| 15249/15249 [31:06<00:00,  8.17it/s]\n"
     ]
    }
   ],
   "source": [
    "# for rm3\n",
    "!python3 -m pyserini.search.lucene --stopwords \"data_2017-09/stopwords.txt\" --hits 10 --index \"data_2017-09/pyserini/pyserini_index_rm3\" --topics \"data_2017-09/queries_onlylast/queries_test.tsv\" --output out/bm25rm3_runs/v2_run.onlylast.test_4_0.9_0.9_1_10.txt --rm3 --k1 4 --b 0.9 --original_query_weight 0.9 --fb_docs 1 --fb_terms 10"
   ]
  },
  {
   "cell_type": "code",
   "execution_count": 7,
   "metadata": {},
   "outputs": [
    {
     "name": "stdout",
     "output_type": "stream",
     "text": [
      "P@1:  0.22060462981179094\n",
      "MRR@10:  0.286381984975336\n"
     ]
    }
   ],
   "source": [
    "ru = eval.load_run('out/bm25rm3_runs/v2_run.onlylast.test_4_0.9_0.9_1_10.txt')\n",
    "rs = eval.load_rel_scores('data_2017-09/queries/relevance_scores.txt')\n",
    "q_ids = eval.load_query_ids('data_2017-09/queries_onlylast/queries_test.tsv')\n",
    "print('P@1: ', eval.compute_p1(rs,ru, q_ids))\n",
    "print('MRR@10: ', eval.compute_mrr10(rs,ru, q_ids))"
   ]
  },
  {
   "cell_type": "markdown",
   "metadata": {},
   "source": [
    "### BM25 for remove last"
   ]
  },
  {
   "cell_type": "code",
   "execution_count": 8,
   "metadata": {},
   "outputs": [
    {
     "name": "stdout",
     "output_type": "stream",
     "text": [
      "Setting BM25 parameters: k1=7.0, b=0.99\n",
      "Using custom stopwords=data_2017-09/stopwords.txt\n",
      "Running data_2017-09/queries_removelast/queries_test.tsv topics, saving to out/bm25_runs/run.removelast.test_7_0.99.txt...\n",
      "100%|█████████████████████████████████████| 15249/15249 [03:26<00:00, 73.80it/s]\n"
     ]
    }
   ],
   "source": [
    "!python3 -m pyserini.search.lucene --stopwords \"data_2017-09/stopwords.txt\" --batch-size 50 --threads 10 --hits 10 --index \"data_2017-09/pyserini/pyserini_index\" --topics \"data_2017-09/queries_removelast/queries_test.tsv\" --output out/bm25_runs/run.removelast.test_7_0.99.txt --bm25 --k1 7 --b 0.99"
   ]
  },
  {
   "cell_type": "code",
   "execution_count": 3,
   "metadata": {},
   "outputs": [
    {
     "name": "stdout",
     "output_type": "stream",
     "text": [
      "Setting BM25 parameters: k1=7.0, b=0.99\n",
      "Using custom stopwords=data_2017-09/stopwords.txt\n",
      "Running data_2017-09/queries_removelast/queries_test.tsv topics, saving to out/bm25rm3_runs/run.removelast.test_7_0.99_0.9_1_10.txt...\n",
      "100%|█████████████████████████████████████| 15249/15249 [46:53<00:00,  5.42it/s]\n"
     ]
    }
   ],
   "source": [
    "!python3 -m pyserini.search.lucene --stopwords \"data_2017-09/stopwords.txt\" --hits 10 --index \"data_2017-09/pyserini/pyserini_index_rm3\" --topics \"data_2017-09/queries_removelast/queries_test.tsv\" --output out/bm25rm3_runs/run.removelast.test_7_0.99_0.9_1_10.txt --rm3 --k1 7 --b 0.99 --original_query_weight 0.9 --fb_docs 1 --fb_terms 10"
   ]
  },
  {
   "cell_type": "code",
   "execution_count": 6,
   "metadata": {},
   "outputs": [
    {
     "name": "stdout",
     "output_type": "stream",
     "text": [
      "P@1:  0.08164469801298446\n",
      "MRR@10:  0.11681601291575679\n"
     ]
    }
   ],
   "source": [
    "ru = eval.load_run('out/bm25rm3_runs/run.removelast.test_7_0.99_0.9_1_10.txt')\n",
    "rs = eval.load_rel_scores('data_2017-09/queries/relevance_scores.txt')\n",
    "q_ids = eval.load_query_ids('data_2017-09/queries_removelast/queries_test.tsv')\n",
    "print('P@1: ', eval.compute_p1(rs,ru, q_ids))\n",
    "print('MRR@10: ', eval.compute_mrr10(rs,ru, q_ids))"
   ]
  },
  {
   "cell_type": "markdown",
   "metadata": {},
   "source": [
    "### For easy evaluation of semantic search baseline"
   ]
  },
  {
   "cell_type": "code",
   "execution_count": 9,
   "metadata": {},
   "outputs": [
    {
     "name": "stdout",
     "output_type": "stream",
     "text": [
      "P@1:  0.16427306708636633\n",
      "MRR@10:  0.22143749733263868\n"
     ]
    }
   ],
   "source": [
    "ru = eval.load_run('out/semantic_runs/v2_run.test_full_msmarco-distilbert-cos-v5.txt')\n",
    "rs = eval.load_rel_scores('data_2017-09/queries/relevance_scores.txt')\n",
    "q_ids = eval.load_query_ids('data_2017-09/queries/queries_test.tsv')\n",
    "print('P@1: ', eval.compute_p1(rs,ru, q_ids))\n",
    "print('MRR@10: ', eval.compute_mrr10(rs,ru, q_ids))"
   ]
  },
  {
   "cell_type": "markdown",
   "metadata": {},
   "source": [
    "### For semantic fine tune CSV validation analysis"
   ]
  },
  {
   "cell_type": "code",
   "execution_count": 2,
   "metadata": {},
   "outputs": [
    {
     "name": "stdout",
     "output_type": "stream",
     "text": [
      "epoch steps cos_sim-Precision@1 cos_sim-MRR@10 dot_score-Precision@1 dot_score-MRR@10\n",
      "0 3500 0.23559697601668406 0.3076395095751195 0.23559697601668406 0.3076395095751195\n",
      "0 -1 0.2315563086548488 0.30012126657232197 0.2315563086548488 0.30012126657232197\n",
      "1 3500 0.22940563086548488 0.29929678836254725 0.22940563086548488 0.29929678836254725\n",
      "1 -1 0.24094108446298226 0.31088957785060495 0.24094108446298226 0.31088957785060495\n",
      "2 3500 0.24276590198123044 0.3119622271049537 0.24276590198123044 0.3119622271049537\n",
      "2 -1 0.2375521376433785 0.30603138913716404 0.2375521376433785 0.30603138913716404\n",
      "3 3500 0.2391162669447341 0.30835844526375134 0.2391162669447341 0.30835844526375134\n",
      "3 -1 0.23866006256517205 0.3075655961898148 0.23866006256517205 0.3075655961898148\n",
      "4 3500 0.2415276329509906 0.3096220331198177 0.2415276329509906 0.3096220331198177\n",
      "4 -1 0.24022419186652763 0.3087839256748932 0.24022419186652763 0.3087839256748932\n"
     ]
    }
   ],
   "source": [
    "import csv\n",
    "#with open('out/semantic_finetune_runs/train_bi-encoder-mnrl-msmarco-distilbert-dot-v5-queries_onlylast-2022-05-17_19-33-33/eval/Information-Retrieval_evaluation_results.csv') as csvfile:\n",
    "#with open('out/semantic_finetune_runs/train_bi-encoder-mnrl-msmarco-distilbert-dot-v5-queries_onlylast-2022-05-17_12-01-23/eval/Information-Retrieval_evaluation_results.csv') as csvfile:\n",
    "\n",
    "#with open('out/semantic_finetune_runs/train_bi-encoder-mnrl-msmarco-distilbert-dot-v5-queries_removelast-2022-05-18_13-27-41/eval/Information-Retrieval_evaluation_results.csv') as csvfile: #cosine\n",
    "#with open('out/semantic_finetune_runs/train_bi-encoder-mnrl-msmarco-distilbert-dot-v5-queries_removelast-2022-05-19_07-51-48/eval/Information-Retrieval_evaluation_results.csv') as csvfile: #dot\n",
    "\n",
    "#with open('out/semantic_finetune_runs/train_bi-encoder-mnrl-msmarco-distilbert-cos-v5-queries-2022-05-21_20-12-34/eval/Information-Retrieval_evaluation_results.csv') as csvfile:\n",
    "#with open('out/semantic_finetune_runs/train_bi-encoder-mnrl-msmarco-distilbert-cos-v5-queries_onlylast-2022-05-22_10-35-21/eval/Information-Retrieval_evaluation_results.csv') as csvfile:\n",
    "with open('out/semantic_finetune_runs/train_bi-encoder-mnrl-msmarco-distilbert-cos-v5-queries-2022-06-01_12-04-50/eval/Information-Retrieval_evaluation_results.csv') as csvfile:\n",
    "    reader = csv.reader(csvfile)\n",
    "    for row in reader:\n",
    "        print(row[0], row[1], row[6], row[14], row[21], row[29])"
   ]
  },
  {
   "cell_type": "markdown",
   "metadata": {},
   "source": [
    "### For evaluation of semantic finetune"
   ]
  },
  {
   "cell_type": "code",
   "execution_count": 11,
   "metadata": {},
   "outputs": [
    {
     "name": "stdout",
     "output_type": "stream",
     "text": [
      "P@1:  0.21634205521673552\n",
      "MRR@10:  0.27457028147565327\n"
     ]
    }
   ],
   "source": [
    "ru = eval.load_run('out/semantic_finetune_runs/train_bi-encoder-mnrl-msmarco-distilbert-cos-v5-queries_onlylast-2022-06-02_21-24-49/eval/v2_run.test_onlylast.txt')\n",
    "rs = eval.load_rel_scores('data_2017-09/queries/relevance_scores.txt')\n",
    "q_ids = eval.load_query_ids('data_2017-09/queries/queries_test.tsv')\n",
    "print('P@1: ', eval.compute_p1(rs,ru, q_ids))\n",
    "print('MRR@10: ', eval.compute_mrr10(rs,ru, q_ids))"
   ]
  }
 ],
 "metadata": {
  "interpreter": {
   "hash": "31f2aee4e71d21fbe5cf8b01ff0e069b9275f58929596ceb00d14d90e3e16cd6"
  },
  "kernelspec": {
   "display_name": "Python 3.8.10 64-bit",
   "language": "python",
   "name": "python3"
  },
  "language_info": {
   "codemirror_mode": {
    "name": "ipython",
    "version": 3
   },
   "file_extension": ".py",
   "mimetype": "text/x-python",
   "name": "python",
   "nbconvert_exporter": "python",
   "pygments_lexer": "ipython3",
   "version": "3.8.10"
  },
  "orig_nbformat": 4
 },
 "nbformat": 4,
 "nbformat_minor": 2
}
