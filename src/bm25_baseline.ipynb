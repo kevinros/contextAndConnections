{
 "cells": [
  {
   "cell_type": "markdown",
   "metadata": {},
   "source": [
    "There is a slight problem with our formatting of webpage storage (too many files for pyserini). The indexing appears to freeze. So this is a script that makes it indexible by placing all webpages into a single file, then removing it once indexing is complete."
   ]
  },
  {
   "cell_type": "code",
   "execution_count": null,
   "metadata": {},
   "outputs": [],
   "source": [
    "# reformat into jsonl file\n",
    "import os\n",
    "import json\n",
    "os.mkdir('data_2017-09/webpages_tmp')\n",
    "with open('data_2017-09/webpages_tmp/webpages_tmp.jsonl', 'w') as f:\n",
    "    for i,file in enumerate(os.listdir('data_2017-09/webpages/')):\n",
    "        webpage = json.load(open('data_2017-09/webpages/' + file, 'r'))\n",
    "        f.write(json.dumps(webpage) + '\\n')\n",
    "        if i % 10000 == 0: print(i)"
   ]
  },
  {
   "cell_type": "code",
   "execution_count": 2,
   "metadata": {},
   "outputs": [
    {
     "name": "stdout",
     "output_type": "stream",
     "text": [
      "WARNING: sun.reflect.Reflection.getCallerClass is not supported. This will impact performance.\n",
      "2022-05-07 11:43:17,504 INFO  [main] index.IndexCollection (IndexCollection.java:636) - Setting log level to DEBUG\n",
      "2022-05-07 11:43:17,506 INFO  [main] index.IndexCollection (IndexCollection.java:646) - Starting indexer...\n",
      "2022-05-07 11:43:17,506 INFO  [main] index.IndexCollection (IndexCollection.java:647) - ============ Loading Parameters ============\n",
      "2022-05-07 11:43:17,507 INFO  [main] index.IndexCollection (IndexCollection.java:648) - DocumentCollection path: data_2017-09/webpages_tmp\n",
      "2022-05-07 11:43:17,507 INFO  [main] index.IndexCollection (IndexCollection.java:649) - CollectionClass: JsonCollection\n",
      "2022-05-07 11:43:17,507 INFO  [main] index.IndexCollection (IndexCollection.java:650) - Generator: DefaultLuceneDocumentGenerator\n",
      "2022-05-07 11:43:17,508 INFO  [main] index.IndexCollection (IndexCollection.java:651) - Threads: 10\n",
      "2022-05-07 11:43:17,508 INFO  [main] index.IndexCollection (IndexCollection.java:652) - Language: en\n",
      "2022-05-07 11:43:17,508 INFO  [main] index.IndexCollection (IndexCollection.java:653) - Stemmer: porter\n",
      "2022-05-07 11:43:17,508 INFO  [main] index.IndexCollection (IndexCollection.java:654) - Keep stopwords? false\n",
      "2022-05-07 11:43:17,509 INFO  [main] index.IndexCollection (IndexCollection.java:655) - Stopwords: data_2017-09/stopwords.txt\n",
      "2022-05-07 11:43:17,509 INFO  [main] index.IndexCollection (IndexCollection.java:656) - Store positions? false\n",
      "2022-05-07 11:43:17,509 INFO  [main] index.IndexCollection (IndexCollection.java:657) - Store docvectors? false\n",
      "2022-05-07 11:43:17,510 INFO  [main] index.IndexCollection (IndexCollection.java:658) - Store document \"contents\" field? false\n",
      "2022-05-07 11:43:17,510 INFO  [main] index.IndexCollection (IndexCollection.java:659) - Store document \"raw\" field? false\n",
      "2022-05-07 11:43:17,510 INFO  [main] index.IndexCollection (IndexCollection.java:660) - Optimize (merge segments)? false\n",
      "2022-05-07 11:43:17,510 INFO  [main] index.IndexCollection (IndexCollection.java:661) - Whitelist: null\n",
      "2022-05-07 11:43:17,511 INFO  [main] index.IndexCollection (IndexCollection.java:662) - Pretokenized?: false\n",
      "2022-05-07 11:43:17,511 INFO  [main] index.IndexCollection (IndexCollection.java:682) - Directly building Lucene indexes...\n",
      "2022-05-07 11:43:17,511 INFO  [main] index.IndexCollection (IndexCollection.java:683) - Index path: data_2017-09/pyserini/pyserini_index\n",
      "2022-05-07 11:43:17,722 INFO  [main] index.IndexCollection (IndexCollection.java:738) - ============ Indexing Collection ============\n",
      "2022-05-07 11:43:17,926 INFO  [main] index.IndexCollection (IndexCollection.java:839) - Thread pool with 10 threads initialized.\n",
      "2022-05-07 11:43:17,926 INFO  [main] index.IndexCollection (IndexCollection.java:841) - Initializing collection in data_2017-09/webpages_tmp\n",
      "2022-05-07 11:43:17,929 INFO  [main] index.IndexCollection (IndexCollection.java:850) - 1 file found\n",
      "2022-05-07 11:43:17,929 INFO  [main] index.IndexCollection (IndexCollection.java:851) - Starting to index...\n",
      "2022-05-07 11:44:17,934 INFO  [main] index.IndexCollection (IndexCollection.java:869) - 30,000 documents indexed\n",
      "2022-05-07 11:45:17,935 INFO  [main] index.IndexCollection (IndexCollection.java:869) - 70,000 documents indexed\n",
      "2022-05-07 11:45:58,507 DEBUG [pool-2-thread-1] index.IndexCollection$LocalIndexerThread (IndexCollection.java:248) - webpages_tmp/webpages_tmp.jsonl: 98231 docs added.\n",
      "2022-05-07 11:46:37,286 INFO  [main] index.IndexCollection (IndexCollection.java:935) - Indexing Complete! 98,231 documents indexed\n",
      "2022-05-07 11:46:37,287 INFO  [main] index.IndexCollection (IndexCollection.java:936) - ============ Final Counter Values ============\n",
      "2022-05-07 11:46:37,287 INFO  [main] index.IndexCollection (IndexCollection.java:937) - indexed:           98,231\n",
      "2022-05-07 11:46:37,287 INFO  [main] index.IndexCollection (IndexCollection.java:938) - unindexable:            0\n",
      "2022-05-07 11:46:37,287 INFO  [main] index.IndexCollection (IndexCollection.java:939) - empty:                  0\n",
      "2022-05-07 11:46:37,288 INFO  [main] index.IndexCollection (IndexCollection.java:940) - skipped:                0\n",
      "2022-05-07 11:46:37,288 INFO  [main] index.IndexCollection (IndexCollection.java:941) - errors:                 0\n",
      "2022-05-07 11:46:37,293 INFO  [main] index.IndexCollection (IndexCollection.java:944) - Total 98,231 documents indexed in 00:03:19\n"
     ]
    }
   ],
   "source": [
    "# sets up the pyserini sparse index\n",
    "!python3 -m pyserini.index.lucene --stopwords \"data_2017-09/stopwords.txt\" --collection JsonCollection --input \"data_2017-09/webpages_tmp\" --index \"data_2017-09/pyserini/pyserini_index\" --generator DefaultLuceneDocumentGenerator --threads 10 -verbose"
   ]
  },
  {
   "cell_type": "code",
   "execution_count": 3,
   "metadata": {},
   "outputs": [],
   "source": [
    "os.remove('data_2017-09/webpages_tmp/webpages_tmp.jsonl')\n",
    "os.rmdir('data_2017-09/webpages_tmp')"
   ]
  },
  {
   "cell_type": "code",
   "execution_count": 4,
   "metadata": {},
   "outputs": [],
   "source": [
    "from eval import eval"
   ]
  },
  {
   "cell_type": "markdown",
   "metadata": {},
   "source": [
    "### BM25 for full run"
   ]
  },
  {
   "cell_type": "code",
   "execution_count": 6,
   "metadata": {},
   "outputs": [
    {
     "name": "stdout",
     "output_type": "stream",
     "text": [
      "Setting BM25 parameters: k1=8.0, b=0.99\n",
      "Using custom stopwords=data_2017-09/stopwords.txt\n",
      "Running data_2017-09/queries/queries_train.tsv topics, saving to out/bm25_runs/run.train_9_0.99.txt...\n",
      "100%|███████████████████████████████████| 128404/128404 [36:55<00:00, 57.95it/s]\n"
     ]
    }
   ],
   "source": [
    "!python3 -m pyserini.search.lucene --stopwords \"data_2017-09/stopwords.txt\" --batch-size 50 --threads 10 --hits 10 --index \"data_2017-09/pyserini/pyserini_index\" --topics \"data_2017-09/queries/queries_train.tsv\" --output out/bm25_runs/run.train_8_0.99.txt --bm25 --k1 8 --b 0.99\n",
    "\n",
    "# note MAP = MRR when there is exactly one relevant result\n",
    "# https://stats.stackexchange.com/questions/127041/mean-average-precision-vs-mean-reciprocal-ran\n",
    "#!python3 -m pyserini.eval.trec_eval -m P.1 \"data_2017-09/queries/relevance_scores.txt\" out/bm25_runs/run.val_4_0.9.txt"
   ]
  },
  {
   "cell_type": "code",
   "execution_count": 18,
   "metadata": {},
   "outputs": [
    {
     "name": "stdout",
     "output_type": "stream",
     "text": [
      "P@1:  0.17270594369134515\n",
      "MRR@10:  0.23812078967840314\n"
     ]
    }
   ],
   "source": [
    "ru = eval.load_run('out/bm25_runs/run.val_2_0.75.txt')\n",
    "rs = eval.load_rel_scores('data_2017-09/queries/relevance_scores.txt')\n",
    "q_ids = eval.load_query_ids('data_2017-09/queries/queries_val.tsv')\n",
    "print('P@1: ', eval.compute_p1(rs,ru, q_ids))\n",
    "print('MRR@10: ', eval.compute_mrr10(rs,ru, q_ids))"
   ]
  },
  {
   "cell_type": "markdown",
   "metadata": {},
   "source": [
    "### BM25 for only last"
   ]
  },
  {
   "cell_type": "code",
   "execution_count": 1,
   "metadata": {},
   "outputs": [
    {
     "name": "stdout",
     "output_type": "stream",
     "text": [
      "Setting BM25 parameters: k1=4.0, b=0.9\n",
      "Using custom stopwords=data_2017-09/stopwords.txt\n",
      "Running data_2017-09/queries_onlylast/queries_train.tsv topics, saving to out/bm25_runs/run.onlylast.train_4_0.9.txt...\n",
      "100%|███████████████████████████████████| 128404/128404 [26:45<00:00, 79.99it/s]\n"
     ]
    }
   ],
   "source": [
    "!python3 -m pyserini.search.lucene --stopwords \"data_2017-09/stopwords.txt\" --batch-size 50 --threads 10 --hits 10 --index \"data_2017-09/pyserini/pyserini_index\" --topics \"data_2017-09/queries_onlylast/queries_train.tsv\" --output out/bm25_runs/run.onlylast.train_4_0.9.txt --bm25 --k1 4 --b 0.9"
   ]
  },
  {
   "cell_type": "code",
   "execution_count": 6,
   "metadata": {},
   "outputs": [
    {
     "name": "stdout",
     "output_type": "stream",
     "text": [
      "P@1:  0.24426485922836289\n",
      "MRR@10:  0.320607688026549\n"
     ]
    }
   ],
   "source": [
    "ru = eval.load_run('out/bm25_runs/run.onlylast.val_4_0.99.txt')\n",
    "rs = eval.load_rel_scores('data_2017-09/queries/relevance_scores.txt')\n",
    "q_ids = eval.load_query_ids('data_2017-09/queries_onlylast/queries_val.tsv')\n",
    "print('P@1: ', eval.compute_p1(rs,ru, q_ids))\n",
    "print('MRR@10: ', eval.compute_mrr10(rs,ru, q_ids))"
   ]
  },
  {
   "cell_type": "markdown",
   "metadata": {},
   "source": [
    "### BM25 for remove last"
   ]
  },
  {
   "cell_type": "code",
   "execution_count": 13,
   "metadata": {},
   "outputs": [
    {
     "name": "stdout",
     "output_type": "stream",
     "text": [
      "Setting BM25 parameters: k1=7.0, b=0.9\n",
      "Using custom stopwords=data_2017-09/stopwords.txt\n",
      "Running data_2017-09/queries_removelast/queries_val.tsv topics, saving to out/bm25_runs/run.removelast.val_7_0.9.txt...\n",
      "100%|█████████████████████████████████████| 15344/15344 [03:40<00:00, 69.46it/s]\n"
     ]
    }
   ],
   "source": [
    "!python3 -m pyserini.search.lucene --stopwords \"data_2017-09/stopwords.txt\" --batch-size 50 --threads 10 --hits 10 --index \"data_2017-09/pyserini/pyserini_index\" --topics \"data_2017-09/queries_removelast/queries_val.tsv\" --output out/bm25_runs/run.removelast.val_7_0.9.txt --bm25 --k1 7 --b 0.9"
   ]
  },
  {
   "cell_type": "code",
   "execution_count": 14,
   "metadata": {},
   "outputs": [
    {
     "name": "stdout",
     "output_type": "stream",
     "text": [
      "P@1:  0.08335505735140772\n",
      "MRR@10:  0.12613932130029562\n"
     ]
    }
   ],
   "source": [
    "ru = eval.load_run('out/bm25_runs/run.removelast.val_7_0.9.txt')\n",
    "rs = eval.load_rel_scores('data_2017-09/queries/relevance_scores.txt')\n",
    "q_ids = eval.load_query_ids('data_2017-09/queries_removelast/queries_val.tsv')\n",
    "print('P@1: ', eval.compute_p1(rs,ru, q_ids))\n",
    "print('MRR@10: ', eval.compute_mrr10(rs,ru, q_ids))"
   ]
  },
  {
   "cell_type": "markdown",
   "metadata": {},
   "source": [
    "### For easy evaluation of semantic search baseline"
   ]
  },
  {
   "cell_type": "code",
   "execution_count": 17,
   "metadata": {},
   "outputs": [
    {
     "name": "stdout",
     "output_type": "stream",
     "text": [
      "P@1:  0.029131908237747653\n",
      "MRR@10:  0.0431263913716338\n"
     ]
    }
   ],
   "source": [
    "ru = eval.load_run('out/semantic_runs/run.val_removelast.txt')\n",
    "rs = eval.load_rel_scores('data_2017-09/queries/relevance_scores.txt')\n",
    "q_ids = eval.load_query_ids('data_2017-09/queries/queries_val.tsv')\n",
    "print('P@1: ', eval.compute_p1(rs,ru, q_ids))\n",
    "print('MRR@10: ', eval.compute_mrr10(rs,ru, q_ids))"
   ]
  },
  {
   "cell_type": "markdown",
   "metadata": {},
   "source": [
    "### For semantic fine tune CSV validation analysis"
   ]
  },
  {
   "cell_type": "code",
   "execution_count": 18,
   "metadata": {},
   "outputs": [
    {
     "name": "stdout",
     "output_type": "stream",
     "text": [
      "epoch steps dot_score-Precision@1 dot_score-MRR@10\n",
      "0 500 0.528971028971029 0.6172169100740533\n",
      "0 1000 0.554945054945055 0.6404942279942285\n",
      "0 1500 0.5729270729270729 0.6543179043179042\n",
      "0 2000 0.5544455544455544 0.6413007627293341\n",
      "0 2500 0.5854145854145855 0.6650890775890778\n",
      "0 3000 0.5744255744255744 0.6615555079840792\n",
      "0 3500 0.5704295704295704 0.6545385170385173\n",
      "0 4000 0.577922077922078 0.6630601541315827\n",
      "0 4500 0.5719280719280719 0.6547488226059655\n",
      "0 5000 0.5919080919080919 0.6734761270475554\n",
      "0 5500 0.5604395604395604 0.6474739546168117\n",
      "0 6000 0.5704295704295704 0.6585719835719837\n"
     ]
    }
   ],
   "source": [
    "import csv\n",
    "with open('out/semantic_finetune_runs/train_bi-encoder-mnrl-msmarco-distilbert-dot-v5-queries-2022-05-10_21-05-52/eval/Information-Retrieval_evaluation_results.csv') as csvfile:\n",
    "    reader = csv.reader(csvfile)\n",
    "    for row in reader:\n",
    "        print(row[0], row[1], row[21], row[29])"
   ]
  }
 ],
 "metadata": {
  "interpreter": {
   "hash": "31f2aee4e71d21fbe5cf8b01ff0e069b9275f58929596ceb00d14d90e3e16cd6"
  },
  "kernelspec": {
   "display_name": "Python 3.8.10 64-bit",
   "language": "python",
   "name": "python3"
  },
  "language_info": {
   "codemirror_mode": {
    "name": "ipython",
    "version": 3
   },
   "file_extension": ".py",
   "mimetype": "text/x-python",
   "name": "python",
   "nbconvert_exporter": "python",
   "pygments_lexer": "ipython3",
   "version": "3.8.10"
  },
  "orig_nbformat": 4
 },
 "nbformat": 4,
 "nbformat_minor": 2
}
