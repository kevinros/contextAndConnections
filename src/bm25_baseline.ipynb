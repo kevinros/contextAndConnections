{
 "cells": [
  {
   "cell_type": "code",
   "execution_count": 1,
   "metadata": {},
   "outputs": [
    {
     "name": "stdout",
     "output_type": "stream",
     "text": [
      "0\n",
      "10000\n",
      "20000\n",
      "30000\n",
      "40000\n",
      "50000\n",
      "60000\n",
      "70000\n",
      "80000\n",
      "90000\n"
     ]
    }
   ],
   "source": [
    "# reformat into jsonl file\n",
    "import os\n",
    "import json\n",
    "os.mkdir('data_2017-09/webpages_tmp')\n",
    "with open('data_2017-09/webpages_tmp/webpages_tmp.jsonl', 'w') as f:\n",
    "    for i,file in enumerate(os.listdir('data_2017-09/webpages/')):\n",
    "        webpage = json.load(open('data_2017-09/webpages/' + file, 'r'))\n",
    "        f.write(json.dumps(webpage) + '\\n')\n",
    "        if i % 10000 == 0: print(i)"
   ]
  },
  {
   "cell_type": "code",
   "execution_count": 2,
   "metadata": {},
   "outputs": [
    {
     "name": "stdout",
     "output_type": "stream",
     "text": [
      "WARNING: sun.reflect.Reflection.getCallerClass is not supported. This will impact performance.\n",
      "2022-05-07 11:43:17,504 INFO  [main] index.IndexCollection (IndexCollection.java:636) - Setting log level to DEBUG\n",
      "2022-05-07 11:43:17,506 INFO  [main] index.IndexCollection (IndexCollection.java:646) - Starting indexer...\n",
      "2022-05-07 11:43:17,506 INFO  [main] index.IndexCollection (IndexCollection.java:647) - ============ Loading Parameters ============\n",
      "2022-05-07 11:43:17,507 INFO  [main] index.IndexCollection (IndexCollection.java:648) - DocumentCollection path: data_2017-09/webpages_tmp\n",
      "2022-05-07 11:43:17,507 INFO  [main] index.IndexCollection (IndexCollection.java:649) - CollectionClass: JsonCollection\n",
      "2022-05-07 11:43:17,507 INFO  [main] index.IndexCollection (IndexCollection.java:650) - Generator: DefaultLuceneDocumentGenerator\n",
      "2022-05-07 11:43:17,508 INFO  [main] index.IndexCollection (IndexCollection.java:651) - Threads: 10\n",
      "2022-05-07 11:43:17,508 INFO  [main] index.IndexCollection (IndexCollection.java:652) - Language: en\n",
      "2022-05-07 11:43:17,508 INFO  [main] index.IndexCollection (IndexCollection.java:653) - Stemmer: porter\n",
      "2022-05-07 11:43:17,508 INFO  [main] index.IndexCollection (IndexCollection.java:654) - Keep stopwords? false\n",
      "2022-05-07 11:43:17,509 INFO  [main] index.IndexCollection (IndexCollection.java:655) - Stopwords: data_2017-09/stopwords.txt\n",
      "2022-05-07 11:43:17,509 INFO  [main] index.IndexCollection (IndexCollection.java:656) - Store positions? false\n",
      "2022-05-07 11:43:17,509 INFO  [main] index.IndexCollection (IndexCollection.java:657) - Store docvectors? false\n",
      "2022-05-07 11:43:17,510 INFO  [main] index.IndexCollection (IndexCollection.java:658) - Store document \"contents\" field? false\n",
      "2022-05-07 11:43:17,510 INFO  [main] index.IndexCollection (IndexCollection.java:659) - Store document \"raw\" field? false\n",
      "2022-05-07 11:43:17,510 INFO  [main] index.IndexCollection (IndexCollection.java:660) - Optimize (merge segments)? false\n",
      "2022-05-07 11:43:17,510 INFO  [main] index.IndexCollection (IndexCollection.java:661) - Whitelist: null\n",
      "2022-05-07 11:43:17,511 INFO  [main] index.IndexCollection (IndexCollection.java:662) - Pretokenized?: false\n",
      "2022-05-07 11:43:17,511 INFO  [main] index.IndexCollection (IndexCollection.java:682) - Directly building Lucene indexes...\n",
      "2022-05-07 11:43:17,511 INFO  [main] index.IndexCollection (IndexCollection.java:683) - Index path: data_2017-09/pyserini/pyserini_index\n",
      "2022-05-07 11:43:17,722 INFO  [main] index.IndexCollection (IndexCollection.java:738) - ============ Indexing Collection ============\n",
      "2022-05-07 11:43:17,926 INFO  [main] index.IndexCollection (IndexCollection.java:839) - Thread pool with 10 threads initialized.\n",
      "2022-05-07 11:43:17,926 INFO  [main] index.IndexCollection (IndexCollection.java:841) - Initializing collection in data_2017-09/webpages_tmp\n",
      "2022-05-07 11:43:17,929 INFO  [main] index.IndexCollection (IndexCollection.java:850) - 1 file found\n",
      "2022-05-07 11:43:17,929 INFO  [main] index.IndexCollection (IndexCollection.java:851) - Starting to index...\n",
      "2022-05-07 11:44:17,934 INFO  [main] index.IndexCollection (IndexCollection.java:869) - 30,000 documents indexed\n",
      "2022-05-07 11:45:17,935 INFO  [main] index.IndexCollection (IndexCollection.java:869) - 70,000 documents indexed\n",
      "2022-05-07 11:45:58,507 DEBUG [pool-2-thread-1] index.IndexCollection$LocalIndexerThread (IndexCollection.java:248) - webpages_tmp/webpages_tmp.jsonl: 98231 docs added.\n",
      "2022-05-07 11:46:37,286 INFO  [main] index.IndexCollection (IndexCollection.java:935) - Indexing Complete! 98,231 documents indexed\n",
      "2022-05-07 11:46:37,287 INFO  [main] index.IndexCollection (IndexCollection.java:936) - ============ Final Counter Values ============\n",
      "2022-05-07 11:46:37,287 INFO  [main] index.IndexCollection (IndexCollection.java:937) - indexed:           98,231\n",
      "2022-05-07 11:46:37,287 INFO  [main] index.IndexCollection (IndexCollection.java:938) - unindexable:            0\n",
      "2022-05-07 11:46:37,287 INFO  [main] index.IndexCollection (IndexCollection.java:939) - empty:                  0\n",
      "2022-05-07 11:46:37,288 INFO  [main] index.IndexCollection (IndexCollection.java:940) - skipped:                0\n",
      "2022-05-07 11:46:37,288 INFO  [main] index.IndexCollection (IndexCollection.java:941) - errors:                 0\n",
      "2022-05-07 11:46:37,293 INFO  [main] index.IndexCollection (IndexCollection.java:944) - Total 98,231 documents indexed in 00:03:19\n"
     ]
    }
   ],
   "source": [
    "# sets up the pyserini sparse index\n",
    "!python3 -m pyserini.index.lucene --stopwords \"data_2017-09/stopwords.txt\" --collection JsonCollection --input \"data_2017-09/webpages_tmp\" --index \"data_2017-09/pyserini/pyserini_index\" --generator DefaultLuceneDocumentGenerator --threads 10 -verbose"
   ]
  },
  {
   "cell_type": "code",
   "execution_count": 3,
   "metadata": {},
   "outputs": [],
   "source": [
    "os.remove('data_2017-09/webpages_tmp/webpages_tmp.jsonl')\n",
    "os.rmdir('data_2017-09/webpages_tmp')"
   ]
  },
  {
   "cell_type": "code",
   "execution_count": 1,
   "metadata": {},
   "outputs": [],
   "source": [
    "from eval import eval"
   ]
  },
  {
   "cell_type": "code",
   "execution_count": 8,
   "metadata": {},
   "outputs": [
    {
     "name": "stdout",
     "output_type": "stream",
     "text": [
      "Setting BM25 parameters: k1=9.0, b=0.99\n",
      "Using custom stopwords=data_2017-09/stopwords.txt\n",
      "Running data_2017-09/queries/queries_val.tsv topics, saving to out/bm25_runs/run.val_9_0.99.txt...\n",
      "100%|█████████████████████████████████████| 15344/15344 [04:43<00:00, 54.14it/s]\n"
     ]
    }
   ],
   "source": [
    "!python3 -m pyserini.search.lucene --stopwords \"data_2017-09/stopwords.txt\" --batch-size 50 --threads 10 --hits 10 --index \"data_2017-09/pyserini/pyserini_index\" --topics \"data_2017-09/queries/queries_val.tsv\" --output out/bm25_runs/run.val_9_0.99.txt --bm25 --k1 9 --b 0.99\n",
    "\n",
    "# note MAP = MRR when there is exactly one relevant result\n",
    "# https://stats.stackexchange.com/questions/127041/mean-average-precision-vs-mean-reciprocal-ran\n",
    "#!python3 -m pyserini.eval.trec_eval -m P.1 \"data_2017-09/queries/relevance_scores.txt\" out/bm25_runs/run.val_4_0.9.txt"
   ]
  },
  {
   "cell_type": "code",
   "execution_count": 9,
   "metadata": {},
   "outputs": [
    {
     "name": "stdout",
     "output_type": "stream",
     "text": [
      "P@1:  0.2078006783198539\n",
      "MRR@10:  0.28396783467713604\n"
     ]
    }
   ],
   "source": [
    "ru = eval.load_run('out/bm25_runs/run.val_9_0.99.txt')\n",
    "rs = eval.load_rel_scores('data_2017-09/queries/relevance_scores.txt')\n",
    "print('P@1: ', eval.compute_p1(rs,ru))\n",
    "print('MRR@10: ', eval.compute_mrr10(rs,ru))"
   ]
  },
  {
   "cell_type": "code",
   "execution_count": 21,
   "metadata": {},
   "outputs": [
    {
     "name": "stdout",
     "output_type": "stream",
     "text": [
      "Setting BM25 parameters: k1=4.0, b=0.99\n",
      "Using custom stopwords=data_2017-09/stopwords.txt\n",
      "Running data_2017-09/queries_onlylast/queries_val.tsv topics, saving to out/bm25_runs/run.onlylast.val_4_0.99.txt...\n",
      "100%|█████████████████████████████████████| 15344/15344 [07:49<00:00, 32.66it/s]\n"
     ]
    }
   ],
   "source": [
    "!python3 -m pyserini.search.lucene --stopwords \"data_2017-09/stopwords.txt\" --batch-size 50 --threads 10 --max-passage-hits 10 --index \"data_2017-09/pyserini/pyserini_index\" --topics \"data_2017-09/queries_onlylast/queries_val.tsv\" --output out/bm25_runs/run.onlylast.val_4_0.99.txt --bm25 --k1 4 --b 0.99"
   ]
  },
  {
   "cell_type": "code",
   "execution_count": 22,
   "metadata": {},
   "outputs": [
    {
     "name": "stdout",
     "output_type": "stream",
     "text": [
      "P@1:  0.25796682497074813\n",
      "MRR@10:  0.33859208239241295\n"
     ]
    }
   ],
   "source": [
    "ru = eval.load_run('out/bm25_runs/run.onlylast.val_4_0.99.txt')\n",
    "rs = eval.load_rel_scores('data_2017-09/queries/relevance_scores.txt')\n",
    "print('P@1: ', eval.compute_p1(rs,ru))\n",
    "print('MRR@10: ', eval.compute_mrr10(rs,ru))"
   ]
  },
  {
   "cell_type": "code",
   "execution_count": 2,
   "metadata": {},
   "outputs": [
    {
     "name": "stdout",
     "output_type": "stream",
     "text": [
      "P@1:  0.12623826903023982\n",
      "MRR@10:  0.16250007758577883\n"
     ]
    }
   ],
   "source": [
    "ru = eval.load_run('out/semantic_runs/run.val.txt')\n",
    "rs = eval.load_rel_scores('data_2017-09/queries/relevance_scores.txt')\n",
    "print('P@1: ', eval.compute_p1(rs,ru))\n",
    "print('MRR@10: ', eval.compute_mrr10(rs,ru))"
   ]
  }
 ],
 "metadata": {
  "interpreter": {
   "hash": "31f2aee4e71d21fbe5cf8b01ff0e069b9275f58929596ceb00d14d90e3e16cd6"
  },
  "kernelspec": {
   "display_name": "Python 3.8.10 64-bit",
   "language": "python",
   "name": "python3"
  },
  "language_info": {
   "codemirror_mode": {
    "name": "ipython",
    "version": 3
   },
   "file_extension": ".py",
   "mimetype": "text/x-python",
   "name": "python",
   "nbconvert_exporter": "python",
   "pygments_lexer": "ipython3",
   "version": "3.8.10"
  },
  "orig_nbformat": 4
 },
 "nbformat": 4,
 "nbformat_minor": 2
}
