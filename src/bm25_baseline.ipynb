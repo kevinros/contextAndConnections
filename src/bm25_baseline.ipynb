{
 "cells": [
  {
   "cell_type": "code",
   "execution_count": 15,
   "metadata": {},
   "outputs": [
    {
     "name": "stdout",
     "output_type": "stream",
     "text": [
      "0\n",
      "10000\n",
      "20000\n",
      "30000\n",
      "40000\n",
      "50000\n",
      "60000\n",
      "70000\n",
      "80000\n",
      "90000\n"
     ]
    }
   ],
   "source": [
    "# reformat into jsonl file\n",
    "import os\n",
    "import json\n",
    "os.mkdir('data_2017-09/webpages_tmp')\n",
    "with open('data_2017-09/webpages_tmp/webpages_tmp.jsonl', 'w') as f:\n",
    "    for i,file in enumerate(os.listdir('data_2017-09/webpages/')):\n",
    "        webpage = json.load(open('data_2017-09/webpages/' + file, 'r'))\n",
    "        f.write(json.dumps(webpage) + '\\n')\n",
    "        if i % 10000 == 0: print(i)"
   ]
  },
  {
   "cell_type": "code",
   "execution_count": 18,
   "metadata": {},
   "outputs": [
    {
     "name": "stdout",
     "output_type": "stream",
     "text": [
      "WARNING: sun.reflect.Reflection.getCallerClass is not supported. This will impact performance.\n",
      "2022-05-06 11:52:03,425 INFO  [main] index.IndexCollection (IndexCollection.java:636) - Setting log level to DEBUG\n",
      "2022-05-06 11:52:03,427 INFO  [main] index.IndexCollection (IndexCollection.java:646) - Starting indexer...\n",
      "2022-05-06 11:52:03,427 INFO  [main] index.IndexCollection (IndexCollection.java:647) - ============ Loading Parameters ============\n",
      "2022-05-06 11:52:03,428 INFO  [main] index.IndexCollection (IndexCollection.java:648) - DocumentCollection path: data_2017-09/webpages_tmp\n",
      "2022-05-06 11:52:03,428 INFO  [main] index.IndexCollection (IndexCollection.java:649) - CollectionClass: JsonCollection\n",
      "2022-05-06 11:52:03,428 INFO  [main] index.IndexCollection (IndexCollection.java:650) - Generator: DefaultLuceneDocumentGenerator\n",
      "2022-05-06 11:52:03,428 INFO  [main] index.IndexCollection (IndexCollection.java:651) - Threads: 10\n",
      "2022-05-06 11:52:03,429 INFO  [main] index.IndexCollection (IndexCollection.java:652) - Language: en\n",
      "2022-05-06 11:52:03,429 INFO  [main] index.IndexCollection (IndexCollection.java:653) - Stemmer: porter\n",
      "2022-05-06 11:52:03,429 INFO  [main] index.IndexCollection (IndexCollection.java:654) - Keep stopwords? false\n",
      "2022-05-06 11:52:03,430 INFO  [main] index.IndexCollection (IndexCollection.java:655) - Stopwords: data_2017-09/stopwords.txt\n",
      "2022-05-06 11:52:03,430 INFO  [main] index.IndexCollection (IndexCollection.java:656) - Store positions? false\n",
      "2022-05-06 11:52:03,430 INFO  [main] index.IndexCollection (IndexCollection.java:657) - Store docvectors? false\n",
      "2022-05-06 11:52:03,430 INFO  [main] index.IndexCollection (IndexCollection.java:658) - Store document \"contents\" field? false\n",
      "2022-05-06 11:52:03,431 INFO  [main] index.IndexCollection (IndexCollection.java:659) - Store document \"raw\" field? false\n",
      "2022-05-06 11:52:03,431 INFO  [main] index.IndexCollection (IndexCollection.java:660) - Optimize (merge segments)? false\n",
      "2022-05-06 11:52:03,431 INFO  [main] index.IndexCollection (IndexCollection.java:661) - Whitelist: null\n",
      "2022-05-06 11:52:03,432 INFO  [main] index.IndexCollection (IndexCollection.java:662) - Pretokenized?: false\n",
      "2022-05-06 11:52:03,432 INFO  [main] index.IndexCollection (IndexCollection.java:682) - Directly building Lucene indexes...\n",
      "2022-05-06 11:52:03,432 INFO  [main] index.IndexCollection (IndexCollection.java:683) - Index path: data_2017-09/pyserini/pyserini_index\n",
      "2022-05-06 11:52:03,434 INFO  [main] index.IndexCollection (IndexCollection.java:738) - ============ Indexing Collection ============\n",
      "2022-05-06 11:52:03,639 INFO  [main] index.IndexCollection (IndexCollection.java:839) - Thread pool with 10 threads initialized.\n",
      "2022-05-06 11:52:03,640 INFO  [main] index.IndexCollection (IndexCollection.java:841) - Initializing collection in data_2017-09/webpages_tmp\n",
      "2022-05-06 11:52:03,642 INFO  [main] index.IndexCollection (IndexCollection.java:850) - 1 file found\n",
      "2022-05-06 11:52:03,642 INFO  [main] index.IndexCollection (IndexCollection.java:851) - Starting to index...\n",
      "2022-05-06 11:53:03,649 INFO  [main] index.IndexCollection (IndexCollection.java:869) - 30,000 documents indexed\n",
      "2022-05-06 11:54:03,651 INFO  [main] index.IndexCollection (IndexCollection.java:869) - 60,000 documents indexed\n",
      "2022-05-06 11:54:49,029 DEBUG [pool-2-thread-1] index.IndexCollection$LocalIndexerThread (IndexCollection.java:248) - webpages_tmp/webpages_tmp.jsonl: 99079 docs added.\n",
      "2022-05-06 11:55:27,079 INFO  [main] index.IndexCollection (IndexCollection.java:935) - Indexing Complete! 99,079 documents indexed\n",
      "2022-05-06 11:55:27,080 INFO  [main] index.IndexCollection (IndexCollection.java:936) - ============ Final Counter Values ============\n",
      "2022-05-06 11:55:27,080 INFO  [main] index.IndexCollection (IndexCollection.java:937) - indexed:           99,079\n",
      "2022-05-06 11:55:27,080 INFO  [main] index.IndexCollection (IndexCollection.java:938) - unindexable:            0\n",
      "2022-05-06 11:55:27,081 INFO  [main] index.IndexCollection (IndexCollection.java:939) - empty:                  0\n",
      "2022-05-06 11:55:27,081 INFO  [main] index.IndexCollection (IndexCollection.java:940) - skipped:                0\n",
      "2022-05-06 11:55:27,081 INFO  [main] index.IndexCollection (IndexCollection.java:941) - errors:                 0\n",
      "2022-05-06 11:55:27,087 INFO  [main] index.IndexCollection (IndexCollection.java:944) - Total 99,079 documents indexed in 00:03:23\n"
     ]
    }
   ],
   "source": [
    "# sets up the pyserini sparse index\n",
    "!python3 -m pyserini.index.lucene --stopwords \"data_2017-09/stopwords.txt\" --collection JsonCollection --input \"data_2017-09/webpages_tmp\" --index \"data_2017-09/pyserini/pyserini_index\" --generator DefaultLuceneDocumentGenerator --threads 10 -verbose"
   ]
  },
  {
   "cell_type": "code",
   "execution_count": 19,
   "metadata": {},
   "outputs": [],
   "source": [
    "os.remove('data_2017-09/webpages_tmp/webpages_tmp.jsonl')\n",
    "os.rmdir('data_2017-09/webpages_tmp')"
   ]
  },
  {
   "cell_type": "code",
   "execution_count": 21,
   "metadata": {},
   "outputs": [
    {
     "name": "stdout",
     "output_type": "stream",
     "text": [
      "Setting BM25 parameters: k1=3.0, b=0.9\n",
      "Running data_2017-09/queries/queries_val.tsv topics, saving to out/bm25_runs/run.val.txt...\n",
      "100%|█████████████████████████████████████| 15464/15464 [10:01<00:00, 25.71it/s]\n",
      "Downloading https://search.maven.org/remotecontent?filepath=uk/ac/gla/dcs/terrierteam/jtreceval/0.0.5/jtreceval-0.0.5-jar-with-dependencies.jar to /home/kjros2/.cache/pyserini/eval/jtreceval-0.0.5-jar-with-dependencies.jar...\n",
      "/home/kjros2/.cache/pyserini/eval/jtreceval-0.0.5-jar-with-dependencies.jar already exists!\n",
      "Skipping download.\n",
      "Running command: ['java', '-jar', '/home/kjros2/.cache/pyserini/eval/jtreceval-0.0.5-jar-with-dependencies.jar', '-m', 'P.1', 'data_2017-09/queries/relevance_scores.txt', 'out/bm25_runs/run.val.txt']\n",
      "Results:\n",
      "P_1                   \tall\t0.1672\n",
      "\n"
     ]
    }
   ],
   "source": [
    "!python3 -m pyserini.search.lucene --batch-size 50 --threads 10 --max-passage-hits 10 --index \"data_2017-09/pyserini/pyserini_index\" --topics \"data_2017-09/queries/queries_val.tsv\" --output out/bm25_runs/run.val_3_0.9.txt --bm25 --k1 3 --b 0.9\n",
    "\n",
    "# note MAP = MRR when there is exactly one relevant result\n",
    "# https://stats.stackexchange.com/questions/127041/mean-average-precision-vs-mean-reciprocal-rank\n",
    "!python3 -m pyserini.eval.trec_eval -m P.1 \"data_2017-09/queries/relevance_scores.txt\" out/bm25_runs/run.val_3_0.9.txt"
   ]
  }
 ],
 "metadata": {
  "interpreter": {
   "hash": "31f2aee4e71d21fbe5cf8b01ff0e069b9275f58929596ceb00d14d90e3e16cd6"
  },
  "kernelspec": {
   "display_name": "Python 3.8.10 64-bit",
   "language": "python",
   "name": "python3"
  },
  "language_info": {
   "codemirror_mode": {
    "name": "ipython",
    "version": 3
   },
   "file_extension": ".py",
   "mimetype": "text/x-python",
   "name": "python",
   "nbconvert_exporter": "python",
   "pygments_lexer": "ipython3",
   "version": "3.8.10"
  },
  "orig_nbformat": 4
 },
 "nbformat": 4,
 "nbformat_minor": 2
}
