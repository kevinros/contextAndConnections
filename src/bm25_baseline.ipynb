{
 "cells": [
  {
   "cell_type": "code",
   "execution_count": 2,
   "metadata": {},
   "outputs": [
    {
     "name": "stdout",
     "output_type": "stream",
     "text": [
      "WARNING: sun.reflect.Reflection.getCallerClass is not supported. This will impact performance.\n",
      "2022-04-10 17:59:31,441 INFO  [main] index.IndexCollection (IndexCollection.java:643) - Setting log level to INFO\n",
      "2022-04-10 17:59:31,443 INFO  [main] index.IndexCollection (IndexCollection.java:646) - Starting indexer...\n",
      "2022-04-10 17:59:31,443 INFO  [main] index.IndexCollection (IndexCollection.java:647) - ============ Loading Parameters ============\n",
      "2022-04-10 17:59:31,444 INFO  [main] index.IndexCollection (IndexCollection.java:648) - DocumentCollection path: data/websites\n",
      "2022-04-10 17:59:31,444 INFO  [main] index.IndexCollection (IndexCollection.java:649) - CollectionClass: JsonCollection\n",
      "2022-04-10 17:59:31,444 INFO  [main] index.IndexCollection (IndexCollection.java:650) - Generator: DefaultLuceneDocumentGenerator\n",
      "2022-04-10 17:59:31,444 INFO  [main] index.IndexCollection (IndexCollection.java:651) - Threads: 1\n",
      "2022-04-10 17:59:31,445 INFO  [main] index.IndexCollection (IndexCollection.java:652) - Language: en\n",
      "2022-04-10 17:59:31,445 INFO  [main] index.IndexCollection (IndexCollection.java:653) - Stemmer: porter\n",
      "2022-04-10 17:59:31,445 INFO  [main] index.IndexCollection (IndexCollection.java:654) - Keep stopwords? false\n",
      "2022-04-10 17:59:31,446 INFO  [main] index.IndexCollection (IndexCollection.java:655) - Stopwords: null\n",
      "2022-04-10 17:59:31,446 INFO  [main] index.IndexCollection (IndexCollection.java:656) - Store positions? false\n",
      "2022-04-10 17:59:31,446 INFO  [main] index.IndexCollection (IndexCollection.java:657) - Store docvectors? false\n",
      "2022-04-10 17:59:31,446 INFO  [main] index.IndexCollection (IndexCollection.java:658) - Store document \"contents\" field? false\n",
      "2022-04-10 17:59:31,447 INFO  [main] index.IndexCollection (IndexCollection.java:659) - Store document \"raw\" field? false\n",
      "2022-04-10 17:59:31,447 INFO  [main] index.IndexCollection (IndexCollection.java:660) - Optimize (merge segments)? false\n",
      "2022-04-10 17:59:31,447 INFO  [main] index.IndexCollection (IndexCollection.java:661) - Whitelist: null\n",
      "2022-04-10 17:59:31,448 INFO  [main] index.IndexCollection (IndexCollection.java:662) - Pretokenized?: false\n",
      "2022-04-10 17:59:31,448 INFO  [main] index.IndexCollection (IndexCollection.java:682) - Directly building Lucene indexes...\n",
      "2022-04-10 17:59:31,448 INFO  [main] index.IndexCollection (IndexCollection.java:683) - Index path: data/pyserini_index\n",
      "2022-04-10 17:59:31,450 INFO  [main] index.IndexCollection (IndexCollection.java:738) - ============ Indexing Collection ============\n",
      "2022-04-10 17:59:31,628 INFO  [main] index.IndexCollection (IndexCollection.java:839) - Thread pool with 1 threads initialized.\n",
      "2022-04-10 17:59:31,629 INFO  [main] index.IndexCollection (IndexCollection.java:841) - Initializing collection in data/websites\n",
      "2022-04-10 17:59:31,631 INFO  [main] index.IndexCollection (IndexCollection.java:850) - 1 file found\n",
      "2022-04-10 17:59:31,631 INFO  [main] index.IndexCollection (IndexCollection.java:851) - Starting to index...\n",
      "2022-04-10 17:59:50,469 DEBUG [pool-2-thread-1] index.IndexCollection$LocalIndexerThread (IndexCollection.java:248) - websites/bow_websites.jsonl: 5953 docs added.\n",
      "2022-04-10 17:59:54,211 INFO  [main] index.IndexCollection (IndexCollection.java:935) - Indexing Complete! 5,953 documents indexed\n",
      "2022-04-10 17:59:54,212 INFO  [main] index.IndexCollection (IndexCollection.java:936) - ============ Final Counter Values ============\n",
      "2022-04-10 17:59:54,212 INFO  [main] index.IndexCollection (IndexCollection.java:937) - indexed:            5,953\n",
      "2022-04-10 17:59:54,212 INFO  [main] index.IndexCollection (IndexCollection.java:938) - unindexable:            0\n",
      "2022-04-10 17:59:54,212 INFO  [main] index.IndexCollection (IndexCollection.java:939) - empty:                  0\n",
      "2022-04-10 17:59:54,212 INFO  [main] index.IndexCollection (IndexCollection.java:940) - skipped:                0\n",
      "2022-04-10 17:59:54,212 INFO  [main] index.IndexCollection (IndexCollection.java:941) - errors:                 0\n",
      "2022-04-10 17:59:54,218 INFO  [main] index.IndexCollection (IndexCollection.java:944) - Total 5,953 documents indexed in 00:00:22\n"
     ]
    }
   ],
   "source": [
    "# sets up the pyserini sparse index\n",
    "!python3 -m pyserini.index.lucene --collection JsonCollection --input data/websites --index data/pyserini_index --generator DefaultLuceneDocumentGenerator --threads 1"
   ]
  },
  {
   "cell_type": "code",
   "execution_count": 4,
   "metadata": {},
   "outputs": [
    {
     "name": "stdout",
     "output_type": "stream",
     "text": [
      "Setting BM25 parameters: k1=3.0, b=0.9\n",
      "Running data/bow_queries_dev.tsv topics, saving to out/bm25_runs/run.dev.txt...\n",
      "100%|█████████████████████████████████████████| 667/667 [00:28<00:00, 23.41it/s]\n",
      "Downloading https://search.maven.org/remotecontent?filepath=uk/ac/gla/dcs/terrierteam/jtreceval/0.0.5/jtreceval-0.0.5-jar-with-dependencies.jar to /home/kjros2/.cache/pyserini/eval/jtreceval-0.0.5-jar-with-dependencies.jar...\n",
      "/home/kjros2/.cache/pyserini/eval/jtreceval-0.0.5-jar-with-dependencies.jar already exists!\n",
      "Skipping download.\n",
      "Running command: ['java', '-jar', '/home/kjros2/.cache/pyserini/eval/jtreceval-0.0.5-jar-with-dependencies.jar', '-m', 'map', '-m', 'P.1', 'data/relevance_scores.txt', 'out/bm25_runs/run.dev.txt']\n",
      "Results:\n",
      "map                   \tall\t0.3719\n",
      "P_1                   \tall\t0.2744\n",
      "\n"
     ]
    }
   ],
   "source": [
    "!python3 -m pyserini.search.lucene --index data/pyserini_index --topics data/bow_queries_dev.tsv --output out/bm25_runs/run.dev.txt --bm25 --k1 3 --b 0.9\n",
    "\n",
    "# note MAP = MRR when there is exactly one relevant result\n",
    "# https://stats.stackexchange.com/questions/127041/mean-average-precision-vs-mean-reciprocal-rank\n",
    "!python3 -m pyserini.eval.trec_eval -m map -m P.1 data/relevance_scores.txt out/bm25_runs/run.dev.txt"
   ]
  }
 ],
 "metadata": {
  "interpreter": {
   "hash": "31f2aee4e71d21fbe5cf8b01ff0e069b9275f58929596ceb00d14d90e3e16cd6"
  },
  "kernelspec": {
   "display_name": "Python 3.8.10 64-bit",
   "language": "python",
   "name": "python3"
  },
  "language_info": {
   "codemirror_mode": {
    "name": "ipython",
    "version": 3
   },
   "file_extension": ".py",
   "mimetype": "text/x-python",
   "name": "python",
   "nbconvert_exporter": "python",
   "pygments_lexer": "ipython3",
   "version": "3.8.10"
  },
  "orig_nbformat": 4
 },
 "nbformat": 4,
 "nbformat_minor": 2
}
